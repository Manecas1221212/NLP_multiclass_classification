{
 "cells": [
  {
   "attachments": {},
   "cell_type": "markdown",
   "id": "electronic-syndrome",
   "metadata": {},
   "source": [
    "## Neste Projecto vamos ter duas partes:\n",
    "<br>\n",
    "\n",
    "* A primeira é com TF e com um modelo base de TF que venha com o curso e depois melhoramos com um Transformer do TF. \n",
    "<br>\n",
    "* A segunda com um trasformer apenas mas tentado usar ou Pytorch ou com Jax"
   ]
  },
  {
   "cell_type": "markdown",
   "id": "settled-blair",
   "metadata": {},
   "source": [
    "## O Projecto é sobre resumo de medical abstracts:\n",
    "\n",
    "<br>\n",
    "\n",
    "* Vamos replicar um paper : https://arxiv.org/abs/1710.06071 que é basicamente um paper sobre multiclass classification"
   ]
  },
  {
   "cell_type": "markdown",
   "id": "balanced-hindu",
   "metadata": {},
   "source": [
    "# Getting the data"
   ]
  },
  {
   "cell_type": "code",
   "execution_count": 1,
   "id": "wanted-shareware",
   "metadata": {},
   "outputs": [],
   "source": [
    "# usei o seguinte:\n",
    "# !git clone URL"
   ]
  },
  {
   "cell_type": "code",
   "execution_count": 1,
   "id": "different-candidate",
   "metadata": {},
   "outputs": [],
   "source": [
    "directoria_dados = 'C:\\\\Users\\\\manue\\\\Downloads\\\\S2-Economics\\\\NLP_Tensorflow_Course\\\\Udemy\\\\pubmed-rct\\\\PubMed_20k_RCT_numbers_replaced_with_at_sign'"
   ]
  },
  {
   "cell_type": "code",
   "execution_count": 2,
   "id": "warming-recall",
   "metadata": {},
   "outputs": [
    {
     "name": "stdout",
     "output_type": "stream",
     "text": [
      "Filename: C:\\Users\\manue\\Downloads\\S2-Economics\\NLP_Tensorflow_Course\\Udemy\\pubmed-rct\\PubMed_20k_RCT_numbers_replaced_with_at_sign\\dev.txt \n",
      "\n",
      "Filename: C:\\Users\\manue\\Downloads\\S2-Economics\\NLP_Tensorflow_Course\\Udemy\\pubmed-rct\\PubMed_20k_RCT_numbers_replaced_with_at_sign\\test.txt \n",
      "\n",
      "Filename: C:\\Users\\manue\\Downloads\\S2-Economics\\NLP_Tensorflow_Course\\Udemy\\pubmed-rct\\PubMed_20k_RCT_numbers_replaced_with_at_sign\\train.txt \n",
      "\n"
     ]
    }
   ],
   "source": [
    "import os\n",
    "for dirname, dirnames, filenames in os.walk(directoria_dados):\n",
    "    # print path to all subdirectories first.\n",
    "    for subdirname in dirnames:\n",
    "        print(os.path.join(dirname, subdirname))\n",
    "\n",
    "    # print path to all filenames.\n",
    "    for filename in filenames:\n",
    "        print('Filename:',os.path.join(dirname, filename),'\\n')\n"
   ]
  },
  {
   "cell_type": "code",
   "execution_count": 3,
   "id": "vietnamese-information",
   "metadata": {},
   "outputs": [],
   "source": [
    "# Dev é validation set"
   ]
  },
  {
   "cell_type": "code",
   "execution_count": 4,
   "id": "durable-protocol",
   "metadata": {},
   "outputs": [
    {
     "data": {
      "text/plain": [
       "['C:\\\\Users\\\\manue\\\\Downloads\\\\S2-Economics\\\\NLP_Tensorflow_Course\\\\Udemy\\\\pubmed-rct\\\\PubMed_20k_RCT_numbers_replaced_with_at_sign\\\\dev.txt',\n",
       " 'C:\\\\Users\\\\manue\\\\Downloads\\\\S2-Economics\\\\NLP_Tensorflow_Course\\\\Udemy\\\\pubmed-rct\\\\PubMed_20k_RCT_numbers_replaced_with_at_sign\\\\test.txt',\n",
       " 'C:\\\\Users\\\\manue\\\\Downloads\\\\S2-Economics\\\\NLP_Tensorflow_Course\\\\Udemy\\\\pubmed-rct\\\\PubMed_20k_RCT_numbers_replaced_with_at_sign\\\\train.txt']"
      ]
     },
     "execution_count": 4,
     "metadata": {},
     "output_type": "execute_result"
    }
   ],
   "source": [
    "# Start looking at the data, the numbers are replaced by @'s\n",
    "filenames = [os.path.join(directoria_dados, filenames) for filenames in os.listdir(directoria_dados)]\n",
    "filenames"
   ]
  },
  {
   "cell_type": "markdown",
   "id": "operational-singapore",
   "metadata": {},
   "source": [
    "### proprocessing functions applied to the data"
   ]
  },
  {
   "cell_type": "code",
   "execution_count": 5,
   "id": "eight-windsor",
   "metadata": {},
   "outputs": [],
   "source": [
    "# Let's get all the lines in the txt.\n",
    "def get_all_lines(filename):\n",
    "    \"\"\"\n",
    "    Reads the txt and returns all lines into a list\n",
    "    \"\"\"\n",
    "    string_list = []\n",
    "    with open(filename,'r') as f:\n",
    "        return f.readlines()"
   ]
  },
  {
   "cell_type": "code",
   "execution_count": 6,
   "id": "resident-shower",
   "metadata": {},
   "outputs": [],
   "source": [
    "train_lines = get_all_lines(filenames[2])\n",
    "test_lines = get_all_lines(filenames[1])\n",
    "valid_lines = get_all_lines(filenames[0])"
   ]
  },
  {
   "cell_type": "code",
   "execution_count": 7,
   "id": "narrow-lottery",
   "metadata": {},
   "outputs": [
    {
     "data": {
      "text/plain": [
       "(210040, 35135, 35212)"
      ]
     },
     "execution_count": 7,
     "metadata": {},
     "output_type": "execute_result"
    }
   ],
   "source": [
    "len(train_lines), len(test_lines),len(valid_lines)"
   ]
  },
  {
   "cell_type": "code",
   "execution_count": 8,
   "id": "important-preservation",
   "metadata": {},
   "outputs": [
    {
     "data": {
      "text/plain": [
       "'OBJECTIVE\\tTo investigate the efficacy of @ weeks of daily low-dose oral prednisolone in improving pain , mobility , and systemic low-grade inflammation in the short term and whether the effect would be sustained at @ weeks in older adults with moderate to severe knee osteoarthritis ( OA ) .\\n'"
      ]
     },
     "execution_count": 8,
     "metadata": {},
     "output_type": "execute_result"
    }
   ],
   "source": [
    "train_lines[1]"
   ]
  },
  {
   "cell_type": "markdown",
   "id": "whole-breeding",
   "metadata": {},
   "source": [
    "#### Tens de formular a estrutura dos dados, que neste caso tem de  incluir a ordem das frasespor ID, pq a ordem intressa para a classificação. Ele recomenda:\n",
    "\n",
    "<br>\n",
    "\n",
    " **[{line_number :0, target :'Background', text : 'blablabla', 'total_number_of_lines' : 5} , ... ]**"
   ]
  },
  {
   "cell_type": "code",
   "execution_count": 9,
   "id": "induced-estonia",
   "metadata": {},
   "outputs": [],
   "source": [
    "def turn_into_list_of_dict(lista):\n",
    "    \n",
    "    final_list = []\n",
    "    number_of_lines = 0\n",
    "    last = 0\n",
    "    for list_id in range(1,len(lista)):\n",
    "        current_dict = {}\n",
    "        \n",
    "        if(lista[list_id][:3] == '###' or list_id == len(lista) -1):       \n",
    "            for i in range(last , len(final_list)):\n",
    "                last = len(final_list)\n",
    "                final_list[i]['total_lines'] = number_of_lines\n",
    "            number_of_lines = 0\n",
    "            continue\n",
    "        \n",
    "        elif(lista[list_id] == '\\n'):\n",
    "            continue\n",
    "            \n",
    "        else:\n",
    "            current_dict['line_number'] = number_of_lines\n",
    "            current_dict['target'] = lista[list_id].split('\\t')[0]\n",
    "            current_dict['text'] = lista[list_id].split('\\t')[1]\n",
    "            number_of_lines += 1\n",
    "        final_list.append(current_dict)\n",
    "    return final_list"
   ]
  },
  {
   "cell_type": "code",
   "execution_count": 10,
   "id": "introductory-musical",
   "metadata": {},
   "outputs": [
    {
     "name": "stdout",
     "output_type": "stream",
     "text": [
      "Wall time: 418 ms\n"
     ]
    }
   ],
   "source": [
    "%%time\n",
    "test_data = turn_into_list_of_dict(test_lines)\n",
    "train_data = turn_into_list_of_dict(train_lines)\n",
    "valid_data = turn_into_list_of_dict(valid_lines)"
   ]
  },
  {
   "cell_type": "code",
   "execution_count": 11,
   "id": "forward-traffic",
   "metadata": {},
   "outputs": [],
   "source": [
    "#train_data[:15]"
   ]
  },
  {
   "cell_type": "code",
   "execution_count": 12,
   "id": "heavy-corrections",
   "metadata": {},
   "outputs": [
    {
     "data": {
      "text/plain": [
       "(30135, 180040, 30212)"
      ]
     },
     "execution_count": 12,
     "metadata": {},
     "output_type": "execute_result"
    }
   ],
   "source": [
    "len(test_data),len(train_data),len(valid_data)"
   ]
  },
  {
   "cell_type": "code",
   "execution_count": 13,
   "id": "rural-playlist",
   "metadata": {},
   "outputs": [],
   "source": [
    "## Ok vamos passar os dados para um dataframe"
   ]
  },
  {
   "cell_type": "markdown",
   "id": "wicked-output",
   "metadata": {},
   "source": [
    "## Small EDA"
   ]
  },
  {
   "cell_type": "code",
   "execution_count": 14,
   "id": "absent-estonia",
   "metadata": {},
   "outputs": [
    {
     "name": "stderr",
     "output_type": "stream",
     "text": [
      "C:\\Users\\manue\\anaconda3\\envs\\mlcourse\\lib\\site-packages\\numpy\\_distributor_init.py:30: UserWarning: loaded more than 1 DLL from .libs:\n",
      "C:\\Users\\manue\\anaconda3\\envs\\mlcourse\\lib\\site-packages\\numpy\\.libs\\libopenblas.EL2C6PLE4ZYW3ECEVIV3OXXGRN2NRFM2.gfortran-win_amd64.dll\n",
      "C:\\Users\\manue\\anaconda3\\envs\\mlcourse\\lib\\site-packages\\numpy\\.libs\\libopenblas.PYQHXLVVQ7VESDPUVUADXEVJOBGHJPAY.gfortran-win_amd64.dll\n",
      "  warnings.warn(\"loaded more than 1 DLL from .libs:\"\n"
     ]
    }
   ],
   "source": [
    "import pandas as pd\n",
    "train_df = pd.DataFrame(train_data)\n",
    "test_df = pd.DataFrame(test_data)\n",
    "valid_df = pd.DataFrame(valid_data)"
   ]
  },
  {
   "cell_type": "code",
   "execution_count": 15,
   "id": "adolescent-colonial",
   "metadata": {},
   "outputs": [
    {
     "data": {
      "text/html": [
       "<div>\n",
       "<style scoped>\n",
       "    .dataframe tbody tr th:only-of-type {\n",
       "        vertical-align: middle;\n",
       "    }\n",
       "\n",
       "    .dataframe tbody tr th {\n",
       "        vertical-align: top;\n",
       "    }\n",
       "\n",
       "    .dataframe thead th {\n",
       "        text-align: right;\n",
       "    }\n",
       "</style>\n",
       "<table border=\"1\" class=\"dataframe\">\n",
       "  <thead>\n",
       "    <tr style=\"text-align: right;\">\n",
       "      <th></th>\n",
       "      <th>line_number</th>\n",
       "      <th>target</th>\n",
       "      <th>text</th>\n",
       "      <th>total_lines</th>\n",
       "    </tr>\n",
       "  </thead>\n",
       "  <tbody>\n",
       "    <tr>\n",
       "      <th>0</th>\n",
       "      <td>0</td>\n",
       "      <td>OBJECTIVE</td>\n",
       "      <td>To investigate the efficacy of @ weeks of dail...</td>\n",
       "      <td>12</td>\n",
       "    </tr>\n",
       "    <tr>\n",
       "      <th>1</th>\n",
       "      <td>1</td>\n",
       "      <td>METHODS</td>\n",
       "      <td>A total of @ patients with primary knee OA wer...</td>\n",
       "      <td>12</td>\n",
       "    </tr>\n",
       "    <tr>\n",
       "      <th>2</th>\n",
       "      <td>2</td>\n",
       "      <td>METHODS</td>\n",
       "      <td>Outcome measures included pain reduction and i...</td>\n",
       "      <td>12</td>\n",
       "    </tr>\n",
       "    <tr>\n",
       "      <th>3</th>\n",
       "      <td>3</td>\n",
       "      <td>METHODS</td>\n",
       "      <td>Pain was assessed using the visual analog pain...</td>\n",
       "      <td>12</td>\n",
       "    </tr>\n",
       "    <tr>\n",
       "      <th>4</th>\n",
       "      <td>4</td>\n",
       "      <td>METHODS</td>\n",
       "      <td>Secondary outcome measures included the Wester...</td>\n",
       "      <td>12</td>\n",
       "    </tr>\n",
       "    <tr>\n",
       "      <th>5</th>\n",
       "      <td>5</td>\n",
       "      <td>METHODS</td>\n",
       "      <td>Serum levels of interleukin @ ( IL-@ ) , IL-@ ...</td>\n",
       "      <td>12</td>\n",
       "    </tr>\n",
       "    <tr>\n",
       "      <th>6</th>\n",
       "      <td>6</td>\n",
       "      <td>RESULTS</td>\n",
       "      <td>There was a clinically relevant reduction in t...</td>\n",
       "      <td>12</td>\n",
       "    </tr>\n",
       "    <tr>\n",
       "      <th>7</th>\n",
       "      <td>7</td>\n",
       "      <td>RESULTS</td>\n",
       "      <td>The mean difference between treatment arms ( @...</td>\n",
       "      <td>12</td>\n",
       "    </tr>\n",
       "    <tr>\n",
       "      <th>8</th>\n",
       "      <td>8</td>\n",
       "      <td>RESULTS</td>\n",
       "      <td>Further , there was a clinically relevant redu...</td>\n",
       "      <td>12</td>\n",
       "    </tr>\n",
       "    <tr>\n",
       "      <th>9</th>\n",
       "      <td>9</td>\n",
       "      <td>RESULTS</td>\n",
       "      <td>These differences remained significant at @ we...</td>\n",
       "      <td>12</td>\n",
       "    </tr>\n",
       "    <tr>\n",
       "      <th>10</th>\n",
       "      <td>10</td>\n",
       "      <td>RESULTS</td>\n",
       "      <td>The Outcome Measures in Rheumatology Clinical ...</td>\n",
       "      <td>12</td>\n",
       "    </tr>\n",
       "    <tr>\n",
       "      <th>11</th>\n",
       "      <td>11</td>\n",
       "      <td>CONCLUSIONS</td>\n",
       "      <td>Low-dose oral prednisolone had both a short-te...</td>\n",
       "      <td>12</td>\n",
       "    </tr>\n",
       "    <tr>\n",
       "      <th>12</th>\n",
       "      <td>0</td>\n",
       "      <td>BACKGROUND</td>\n",
       "      <td>Emotional eating is associated with overeating...</td>\n",
       "      <td>11</td>\n",
       "    </tr>\n",
       "    <tr>\n",
       "      <th>13</th>\n",
       "      <td>1</td>\n",
       "      <td>BACKGROUND</td>\n",
       "      <td>Yet , empirical evidence for individual ( trai...</td>\n",
       "      <td>11</td>\n",
       "    </tr>\n",
       "    <tr>\n",
       "      <th>14</th>\n",
       "      <td>2</td>\n",
       "      <td>OBJECTIVE</td>\n",
       "      <td>The aim of this study was to test if attention...</td>\n",
       "      <td>11</td>\n",
       "    </tr>\n",
       "  </tbody>\n",
       "</table>\n",
       "</div>"
      ],
      "text/plain": [
       "    line_number       target  \\\n",
       "0             0    OBJECTIVE   \n",
       "1             1      METHODS   \n",
       "2             2      METHODS   \n",
       "3             3      METHODS   \n",
       "4             4      METHODS   \n",
       "5             5      METHODS   \n",
       "6             6      RESULTS   \n",
       "7             7      RESULTS   \n",
       "8             8      RESULTS   \n",
       "9             9      RESULTS   \n",
       "10           10      RESULTS   \n",
       "11           11  CONCLUSIONS   \n",
       "12            0   BACKGROUND   \n",
       "13            1   BACKGROUND   \n",
       "14            2    OBJECTIVE   \n",
       "\n",
       "                                                 text  total_lines  \n",
       "0   To investigate the efficacy of @ weeks of dail...           12  \n",
       "1   A total of @ patients with primary knee OA wer...           12  \n",
       "2   Outcome measures included pain reduction and i...           12  \n",
       "3   Pain was assessed using the visual analog pain...           12  \n",
       "4   Secondary outcome measures included the Wester...           12  \n",
       "5   Serum levels of interleukin @ ( IL-@ ) , IL-@ ...           12  \n",
       "6   There was a clinically relevant reduction in t...           12  \n",
       "7   The mean difference between treatment arms ( @...           12  \n",
       "8   Further , there was a clinically relevant redu...           12  \n",
       "9   These differences remained significant at @ we...           12  \n",
       "10  The Outcome Measures in Rheumatology Clinical ...           12  \n",
       "11  Low-dose oral prednisolone had both a short-te...           12  \n",
       "12  Emotional eating is associated with overeating...           11  \n",
       "13  Yet , empirical evidence for individual ( trai...           11  \n",
       "14  The aim of this study was to test if attention...           11  "
      ]
     },
     "execution_count": 15,
     "metadata": {},
     "output_type": "execute_result"
    }
   ],
   "source": [
    "train_df.head(15)"
   ]
  },
  {
   "cell_type": "code",
   "execution_count": 16,
   "id": "funny-flower",
   "metadata": {},
   "outputs": [
    {
     "data": {
      "text/plain": [
       "METHODS        59353\n",
       "RESULTS        57953\n",
       "CONCLUSIONS    27168\n",
       "BACKGROUND     21727\n",
       "OBJECTIVE      13839\n",
       "Name: target, dtype: int64"
      ]
     },
     "execution_count": 16,
     "metadata": {},
     "output_type": "execute_result"
    }
   ],
   "source": [
    "train_df.target.value_counts()"
   ]
  },
  {
   "cell_type": "code",
   "execution_count": 17,
   "id": "extreme-driving",
   "metadata": {},
   "outputs": [
    {
     "data": {
      "text/plain": [
       "<AxesSubplot:ylabel='Frequency'>"
      ]
     },
     "execution_count": 17,
     "metadata": {},
     "output_type": "execute_result"
    },
    {
     "data": {
      "image/png": "[encoded data removed]",
      "text/plain": [
       "<Figure size 432x288 with 1 Axes>"
      ]
     },
     "metadata": {
      "needs_background": "light"
     },
     "output_type": "display_data"
    }
   ],
   "source": [
    "# get lengths of abstracts \n",
    "train_df.total_lines.plot.hist()"
   ]
  },
  {
   "cell_type": "code",
   "execution_count": 18,
   "id": "better-amazon",
   "metadata": {},
   "outputs": [],
   "source": [
    "# Convert abstract text lines into lists\n",
    "train_sentences = train_df['text'].to_list()\n",
    "test_sentences = test_df['text'].to_list()\n",
    "valid_sentences = valid_df['text'].to_list()"
   ]
  },
  {
   "cell_type": "code",
   "execution_count": 19,
   "id": "acknowledged-performance",
   "metadata": {
    "scrolled": true
   },
   "outputs": [
    {
     "data": {
      "text/plain": [
       "['To investigate the efficacy of @ weeks of daily low-dose oral prednisolone in improving pain , mobility , and systemic low-grade inflammation in the short term and whether the effect would be sustained at @ weeks in older adults with moderate to severe knee osteoarthritis ( OA ) .\\n',\n",
       " 'A total of @ patients with primary knee OA were randomized @:@ ; @ received @ mg/day of prednisolone and @ received placebo for @ weeks .\\n']"
      ]
     },
     "execution_count": 19,
     "metadata": {},
     "output_type": "execute_result"
    }
   ],
   "source": [
    "train_sentences[:2]"
   ]
  },
  {
   "cell_type": "markdown",
   "id": "invalid-majority",
   "metadata": {},
   "source": [
    "### Label encoding"
   ]
  },
  {
   "cell_type": "code",
   "execution_count": 111,
   "id": "instrumental-lebanon",
   "metadata": {},
   "outputs": [
    {
     "data": {
      "text/plain": [
       "(180040, 5)"
      ]
     },
     "execution_count": 111,
     "metadata": {},
     "output_type": "execute_result"
    }
   ],
   "source": [
    "# Lets one hot encode our labels\n",
    "from sklearn.preprocessing import OneHotEncoder\n",
    "one_hot_encoder = OneHotEncoder(sparse = False) # pq o Tf é incompatível com True\n",
    "train_labels_encoded_OH = one_hot_encoder.fit_transform(train_df['target'].to_numpy().reshape(-1,1))\n",
    "test_labels_encoded_OH = one_hot_encoder.transform(test_df['target'].to_numpy().reshape(-1,1))\n",
    "valid_labels_encoded_OH = one_hot_encoder.transform(valid_df['target'].to_numpy().reshape(-1,1))\n",
    "train_labels_encoded_OH.shape"
   ]
  },
  {
   "cell_type": "code",
   "execution_count": 112,
   "id": "veterinary-nudist",
   "metadata": {},
   "outputs": [
    {
     "name": "stderr",
     "output_type": "stream",
     "text": [
      "C:\\Users\\manue\\anaconda3\\envs\\mlcourse\\lib\\site-packages\\sklearn\\utils\\validation.py:63: DataConversionWarning: A column-vector y was passed when a 1d array was expected. Please change the shape of y to (n_samples, ), for example using ravel().\n",
      "  return f(*args, **kwargs)\n"
     ]
    },
    {
     "data": {
      "text/plain": [
       "(180040,)"
      ]
     },
     "execution_count": 112,
     "metadata": {},
     "output_type": "execute_result"
    }
   ],
   "source": [
    "# tb podemos usar um label encoder\n",
    "from sklearn.preprocessing import LabelEncoder\n",
    "label_encoder = LabelEncoder()\n",
    "train_labels_encoded = label_encoder.fit_transform(train_df['target'].to_numpy().reshape(-1,1))\n",
    "test_labels_encoded = label_encoder.transform(test_df['target'].to_numpy().reshape(-1,1))\n",
    "valid_labels_encoded = label_encoder.transform(valid_df['target'].to_numpy().reshape(-1,1))\n",
    "train_labels_encoded.shape"
   ]
  },
  {
   "cell_type": "code",
   "execution_count": 113,
   "id": "blessed-stockholm",
   "metadata": {},
   "outputs": [
    {
     "data": {
      "text/plain": [
       "array([3, 2, 2, 2, 2])"
      ]
     },
     "execution_count": 113,
     "metadata": {},
     "output_type": "execute_result"
    }
   ],
   "source": [
    "train_labels_encoded[:5]"
   ]
  },
  {
   "cell_type": "code",
   "execution_count": 114,
   "id": "dangerous-operation",
   "metadata": {},
   "outputs": [
    {
     "data": {
      "text/plain": [
       "array([[0., 0., 0., 1., 0.],\n",
       "       [0., 0., 1., 0., 0.],\n",
       "       [0., 0., 1., 0., 0.],\n",
       "       [0., 0., 1., 0., 0.],\n",
       "       [0., 0., 1., 0., 0.]])"
      ]
     },
     "execution_count": 114,
     "metadata": {},
     "output_type": "execute_result"
    }
   ],
   "source": [
    "train_labels_encoded_OH[:5]"
   ]
  },
  {
   "cell_type": "code",
   "execution_count": 115,
   "id": "civil-madison",
   "metadata": {},
   "outputs": [
    {
     "data": {
      "text/plain": [
       "(5,\n",
       " array(['BACKGROUND', 'CONCLUSIONS', 'METHODS', 'OBJECTIVE', 'RESULTS'],\n",
       "       dtype=object))"
      ]
     },
     "execution_count": 115,
     "metadata": {},
     "output_type": "execute_result"
    }
   ],
   "source": [
    "# Get a mapping from number to text:\n",
    "num_classes = len(label_encoder.classes_)\n",
    "class_names = label_encoder.classes_\n",
    "num_classes,class_names"
   ]
  },
  {
   "cell_type": "markdown",
   "id": "systematic-conditioning",
   "metadata": {},
   "source": [
    "## Model 0: Naive Bayes Model as Baseline (TF-IDF Multinomial Bayes classifier)"
   ]
  },
  {
   "cell_type": "code",
   "execution_count": 116,
   "id": "coated-chemistry",
   "metadata": {},
   "outputs": [
    {
     "data": {
      "text/plain": [
       "Pipeline(steps=[('tfidf', TfidfVectorizer()), ('clf', MultinomialNB())])"
      ]
     },
     "execution_count": 116,
     "metadata": {},
     "output_type": "execute_result"
    }
   ],
   "source": [
    "from sklearn.feature_extraction.text import TfidfVectorizer\n",
    "from sklearn.naive_bayes import MultinomialNB\n",
    "from sklearn.pipeline import Pipeline\n",
    "\n",
    "# create pipeline\n",
    "model_0 = Pipeline([\n",
    "    (\"tfidf\",TfidfVectorizer()), # convert words into numbers\n",
    "    (\"clf\",MultinomialNB()) # fit the model\n",
    "])\n",
    "\n",
    "model_0.fit(train_sentences, train_labels_encoded)\n"
   ]
  },
  {
   "cell_type": "code",
   "execution_count": 117,
   "id": "stretch-sponsorship",
   "metadata": {},
   "outputs": [
    {
     "name": "stdout",
     "output_type": "stream",
     "text": [
      "Our baseline model gets an accuracy of : 71.42%\n",
      "Our baseline model gets an accuracy of : 71.10%\n"
     ]
    }
   ],
   "source": [
    "baseline_score = model_0.score(valid_sentences, valid_labels_encoded)\n",
    "print(f'Our baseline model gets an accuracy of : {baseline_score*100:.2f}%')\n",
    "baseline_score_test = model_0.score(test_sentences, test_labels_encoded)\n",
    "print(f'Our baseline model gets an accuracy of : {baseline_score_test*100:.2f}%')"
   ]
  },
  {
   "cell_type": "code",
   "execution_count": 118,
   "id": "purple-linux",
   "metadata": {},
   "outputs": [],
   "source": [
    "# Looking at other metrcis because we have a lot of classes\n",
    "baseline_val_preds = model_0.predict(valid_sentences)"
   ]
  },
  {
   "cell_type": "code",
   "execution_count": 499,
   "id": "aquatic-attack",
   "metadata": {},
   "outputs": [],
   "source": [
    "from Helper_functions import calculate_results"
   ]
  },
  {
   "cell_type": "code",
   "execution_count": 120,
   "id": "handed-liabilities",
   "metadata": {},
   "outputs": [
    {
     "data": {
      "text/plain": [
       "{'accuracy': 71.41864159936449,\n",
       " 'precision': 0.7887652136138043,\n",
       " 'recall': 0.714186415993645,\n",
       " 'f1': 0.7422418447653107}"
      ]
     },
     "execution_count": 120,
     "metadata": {},
     "output_type": "execute_result"
    }
   ],
   "source": [
    "baseline_results = calculate_results(baseline_val_preds, valid_labels_encoded)\n",
    "baseline_results"
   ]
  },
  {
   "cell_type": "markdown",
   "id": "addressed-expert",
   "metadata": {},
   "source": [
    "### Model 1 : Conv1D Model"
   ]
  },
  {
   "cell_type": "code",
   "execution_count": 121,
   "id": "typical-biodiversity",
   "metadata": {},
   "outputs": [
    {
     "data": {
      "text/plain": [
       "['To investigate the efficacy of  weeks of daily lowdose oral prednisolone in improving pain , mobility , and systemic lowgrade inflammation in the short term and whether the effect would be sustained at  weeks in older adults with moderate to severe knee osteoarthritis  OA  .\\n',\n",
       " 'A total of  patients with primary knee OA were randomized    received  mgday of prednisolone and  received placebo for  weeks .\\n',\n",
       " 'Outcome measures included pain reduction and improvement in function scores and systemic inflammation markers .\\n',\n",
       " 'Pain was assessed using the visual analog pain scale   mm  .\\n']"
      ]
     },
     "execution_count": 121,
     "metadata": {},
     "output_type": "execute_result"
    }
   ],
   "source": [
    "train_sentences[:4]"
   ]
  },
  {
   "cell_type": "code",
   "execution_count": 122,
   "id": "downtown-height",
   "metadata": {},
   "outputs": [
    {
     "data": {
      "text/plain": [
       "(21.6123028215952, 11.371616908974437)"
      ]
     },
     "execution_count": 122,
     "metadata": {},
     "output_type": "execute_result"
    }
   ],
   "source": [
    "# we need to encode our txt into numbers, tokenization + embedding \n",
    "import numpy as np\n",
    "import tensorflow as tf\n",
    "from tensorflow.keras import layers\n",
    "\n",
    "# How long is each sentence on average\n",
    "sent_lens = [len(sentences.split()) -1 for sentences in train_sentences]\n",
    "avg_sentence_length = np.mean(sent_lens)\n",
    "std_sentence_length = np.std(sent_lens)\n",
    "avg_sentence_length, std_sentence_length"
   ]
  },
  {
   "cell_type": "code",
   "execution_count": 123,
   "id": "second-opera",
   "metadata": {},
   "outputs": [
    {
     "data": {
      "image/png": "[encoded data removed]",
      "text/plain": [
       "<Figure size 432x288 with 1 Axes>"
      ]
     },
     "metadata": {
      "needs_background": "light"
     },
     "output_type": "display_data"
    }
   ],
   "source": [
    "# Lets look at the distribution of sentence lengths\n",
    "import matplotlib.pyplot as plt\n",
    "plt.hist(sent_lens, bins = 30);"
   ]
  },
  {
   "cell_type": "code",
   "execution_count": 124,
   "id": "enhanced-tablet",
   "metadata": {},
   "outputs": [
    {
     "data": {
      "text/plain": [
       "44"
      ]
     },
     "execution_count": 124,
     "metadata": {},
     "output_type": "execute_result"
    }
   ],
   "source": [
    "# vamos ver qual a length que cobre 95% dos dados\n",
    "percentile = int(np.percentile(sent_lens,96))\n",
    "percentile"
   ]
  },
  {
   "cell_type": "markdown",
   "id": "fossil-officer",
   "metadata": {},
   "source": [
    "### Tokenization\n",
    "<br>\n",
    "Este pacote do tf faz 3 coisas:\n",
    "<br>\n",
    "\n",
    "- mete tudo em low case, e remove pontuação (standardize)\n",
    "<br>\n",
    "- divide tudo por palavras\n",
    "<br>\n",
    "- recombina string em ngrams (grupos de tokes (palavras))\n",
    "<br>\n",
    "- associa um valor único a cada token (indexing)\n",
    "<br>\n",
    "- transforma cada sample usando estes indíces num vector de floats ou ints"
   ]
  },
  {
   "cell_type": "code",
   "execution_count": 125,
   "id": "mobile-mongolia",
   "metadata": {},
   "outputs": [],
   "source": [
    "from tensorflow.keras.layers import TextVectorization\n",
    "\n",
    "# foi o vocab_size utilizado no paper\n",
    "VOCAB_SIZE = 68000\n",
    "\n",
    "\n",
    "vect_text = TextVectorization(max_tokens = VOCAB_SIZE, # len do vocabulário, none deixa o algo descubrir a len dos dados passados ao algo\n",
    "                              output_sequence_length = percentile, # padds each sequence to the longest sequence\n",
    "                             )"
   ]
  },
  {
   "cell_type": "code",
   "execution_count": 126,
   "id": "annoying-sailing",
   "metadata": {},
   "outputs": [],
   "source": [
    "vect_text.adapt(train_sentences)"
   ]
  },
  {
   "cell_type": "code",
   "execution_count": 127,
   "id": "micro-occupation",
   "metadata": {},
   "outputs": [
    {
     "name": "stdout",
     "output_type": "stream",
     "text": [
      "Original text Transcranial direct current stimulation with physical training increased gait velocity  mean    , SD    p    and improved balance  pull test  mean    , SD    p    compared with transcranial direct current stimulation alone .\n",
      " \n",
      "\n",
      "Vectorized text [[ 2501   982   359   465     7   189   155    96  1222  1462    57   357\n",
      "     14     3   170   900 15546   128    57   357    14    34     7  2501\n",
      "    982   359   465   271     0     0     0     0     0     0     0     0\n",
      "      0     0     0     0     0     0     0     0]]\n"
     ]
    }
   ],
   "source": [
    "# Test it on random sentences \n",
    "import random \n",
    "target_sentences = random.choice(train_sentences)\n",
    "print(f'Original text {target_sentences} \\n')\n",
    "print(f'Vectorized text {vect_text([target_sentences])}')"
   ]
  },
  {
   "cell_type": "code",
   "execution_count": 128,
   "id": "inappropriate-inventory",
   "metadata": {},
   "outputs": [
    {
     "name": "stdout",
     "output_type": "stream",
     "text": [
      "Number of total words we have: 64841\n",
      "The most common words are: ['', '[UNK]', 'the', 'and', 'of']\n",
      "The least common words are: ['aainduced', 'aaigroup', 'aachener', 'aachen', 'aaacp']\n"
     ]
    }
   ],
   "source": [
    "# Let's look at the vocab we have in train data:\n",
    "rtc_20k_vocab = vect_text.get_vocabulary()\n",
    "print(f'Number of total words we have: {len(rtc_20k_vocab)}')\n",
    "print(f'The most common words are: {rtc_20k_vocab[:5]}')\n",
    "print(f'The least common words are: {rtc_20k_vocab[-5:]}')"
   ]
  },
  {
   "cell_type": "markdown",
   "id": "revolutionary-fifteen",
   "metadata": {},
   "source": [
    "### Embeeding\n",
    "<br>\n",
    "- The embeeding layer learns word correlations and puts it in the representation. It takes integers as input, meaning we feed the tokenized version of the words into the embedding layer.\n",
    "<br>\n",
    "- Parâmetros importantes:\n",
    "<br>\n",
    "\n",
    "*  `input_dim` = size of vocab\n",
    "<br>\n",
    "* `output_dim` = size of the representation vector\n",
    "<br>\n",
    "* `input_length` = length of seq being passed to embeeding layer"
   ]
  },
  {
   "cell_type": "code",
   "execution_count": 129,
   "id": "interior-example",
   "metadata": {},
   "outputs": [],
   "source": [
    "from tensorflow.keras import layers\n",
    "VOCAB_SIZE = 68000 \n",
    "max_length = percentile\n",
    "\n",
    "embedding = layers.Embedding(input_dim = VOCAB_SIZE,\n",
    "                            output_dim = 128,\n",
    "                            input_length = max_length,\n",
    "                            mask_zero = True, # Ajuda o Tf a ser mais eficiente para nao perder tempo com muitos 0's que veem do padding \n",
    "                            name = 'token_embedding'\n",
    "                            )"
   ]
  },
  {
   "cell_type": "code",
   "execution_count": 130,
   "id": "static-oracle",
   "metadata": {
    "scrolled": true
   },
   "outputs": [
    {
     "name": "stdout",
     "output_type": "stream",
     "text": [
      "Original text Testing and training sessions were performed at Springfield College .\n",
      " \n",
      "\n",
      "Vectorized text [[  574     3   155   416     9   153    15 34195  2114     0     0     0\n",
      "      0     0     0     0     0     0     0     0     0     0     0     0\n",
      "      0     0     0     0     0     0     0     0     0     0     0     0\n",
      "      0     0     0     0     0     0     0     0]]\n",
      "The embedded sentence is : [[[-0.02485536  0.03796024 -0.015799   ...  0.04773362  0.03784073\n",
      "    0.00917114]\n",
      "  [-0.02122103  0.04551179 -0.00940268 ... -0.00611877  0.02020892\n",
      "   -0.02202402]\n",
      "  [-0.03755075  0.00265771 -0.00473519 ...  0.01427256  0.00077883\n",
      "    0.04041893]\n",
      "  ...\n",
      "  [ 0.03212552 -0.00636228 -0.02094147 ... -0.01899419  0.00784085\n",
      "    0.0442807 ]\n",
      "  [ 0.03212552 -0.00636228 -0.02094147 ... -0.01899419  0.00784085\n",
      "    0.0442807 ]\n",
      "  [ 0.03212552 -0.00636228 -0.02094147 ... -0.01899419  0.00784085\n",
      "    0.0442807 ]]]\n",
      "The embedded sentence shape is  : (1, 44, 128)\n"
     ]
    }
   ],
   "source": [
    "target_sentences = random.choice(train_sentences)\n",
    "print(f'Original text {target_sentences} \\n')\n",
    "vected_sentence = vect_text([target_sentences])\n",
    "print(f'Vectorized text {vected_sentence}')\n",
    "embedded_sent = embedding(vected_sentence)\n",
    "print(f'The embedded sentence is : {embedded_sent}')\n",
    "print(f'The embedded sentence shape is  : {embedded_sent.shape}')"
   ]
  },
  {
   "cell_type": "markdown",
   "id": "external-envelope",
   "metadata": {},
   "source": [
    "### Dataset Creation with tf.data API"
   ]
  },
  {
   "cell_type": "code",
   "execution_count": 131,
   "id": "musical-shape",
   "metadata": {},
   "outputs": [],
   "source": [
    "class CFG:\n",
    "    seed = 42\n",
    "    batch = 64"
   ]
  },
  {
   "cell_type": "code",
   "execution_count": 132,
   "id": "separated-extension",
   "metadata": {},
   "outputs": [],
   "source": [
    "# Vamos criar um dataset\n",
    "def create_ds(sentences, labels):\n",
    "    \n",
    "    ds = tf.data.Dataset.from_tensor_slices((sentences, labels))\n",
    "    # A ordem aqui é importante\n",
    "    #ds = ds.shuffle(1024,seed=CFG.seed)\n",
    "    \n",
    "    AUTO = tf.data.experimental.AUTOTUNE\n",
    "    ds = ds.batch(batch_size = CFG.batch, drop_remainder = False)\n",
    "    # Reduz o tempo de ir buscar os dados com cpu \n",
    "    # Autotune implica que vai buscar o máximo de dados de uma vez que é possível\n",
    "    ds = ds.prefetch(buffer_size=AUTO)\n",
    "    \n",
    "    return ds"
   ]
  },
  {
   "cell_type": "code",
   "execution_count": 133,
   "id": "worldwide-security",
   "metadata": {},
   "outputs": [],
   "source": [
    "# Usas OH encoded devido à Loss que vais usar mais à frente\n",
    "train_ds = create_ds(train_sentences, train_labels_encoded_OH)\n",
    "valid_ds = create_ds(valid_sentences, valid_labels_encoded_OH)\n",
    "test_ds = create_ds(test_sentences, test_labels_encoded_OH)"
   ]
  },
  {
   "cell_type": "code",
   "execution_count": 134,
   "id": "exclusive-calgary",
   "metadata": {},
   "outputs": [
    {
     "data": {
      "text/plain": [
       "<PrefetchDataset element_spec=(TensorSpec(shape=(None,), dtype=tf.string, name=None), TensorSpec(shape=(None, 5), dtype=tf.float64, name=None))>"
      ]
     },
     "execution_count": 134,
     "metadata": {},
     "output_type": "execute_result"
    }
   ],
   "source": [
    "train_ds"
   ]
  },
  {
   "cell_type": "code",
   "execution_count": 139,
   "id": "bibliographic-tribute",
   "metadata": {},
   "outputs": [
    {
     "data": {
      "text/plain": [
       "<tf.Tensor: shape=(), dtype=string, numpy=b'To investigate the efficacy of  weeks of daily lowdose oral prednisolone in improving pain , mobility , and systemic lowgrade inflammation in the short term and whether the effect would be sustained at  weeks in older adults with moderate to severe knee osteoarthritis  OA  .\\n'>"
      ]
     },
     "execution_count": 139,
     "metadata": {},
     "output_type": "execute_result"
    }
   ],
   "source": [
    "a,v = next((iter(train_ds)))\n",
    "a[0]"
   ]
  },
  {
   "cell_type": "code",
   "execution_count": 84,
   "id": "fourth-kelly",
   "metadata": {},
   "outputs": [],
   "source": [
    "def model_1():\n",
    "    Input = layers.Input(shape = (1,), dtype = tf.string)\n",
    "    \n",
    "    text_vectores = vect_text(Input)\n",
    "    embeding = embedding(text_vectores)\n",
    "    \n",
    "    x = layers.Conv1D(64, kernel_size = 5, padding = 'same', activation = 'swish')(embeding)\n",
    "    x = layers.GlobalAveragePooling1D()(x)\n",
    "    output = layers.Dense(5, activation = 'softmax')(x)\n",
    "    \n",
    "    model = tf.keras.Model(Input, output)\n",
    "    \n",
    "    LOSS = 'CategoricalCrossentropy'\n",
    "    METRICS = ['accuracy', tf.keras.metrics.Precision(), tf.keras.metrics.Recall()]\n",
    "    OPT = tf.keras.optimizers.Adam(0.001)\n",
    "    model.compile(loss = LOSS,\n",
    "                optimizer = OPT,\n",
    "                metrics = METRICS)\n",
    "    \n",
    "    return model"
   ]
  },
  {
   "cell_type": "code",
   "execution_count": 85,
   "id": "adequate-significance",
   "metadata": {},
   "outputs": [
    {
     "name": "stdout",
     "output_type": "stream",
     "text": [
      "Model: \"model_4\"\n",
      "_________________________________________________________________\n",
      " Layer (type)                Output Shape              Param #   \n",
      "=================================================================\n",
      " input_5 (InputLayer)        [(None, 1)]               0         \n",
      "                                                                 \n",
      " text_vectorization (TextVec  (None, 57)               0         \n",
      " torization)                                                     \n",
      "                                                                 \n",
      " token_embedding (Embedding)  (None, 57, 128)          8704000   \n",
      "                                                                 \n",
      " conv1d_4 (Conv1D)           (None, 57, 64)            41024     \n",
      "                                                                 \n",
      " global_average_pooling1d_4   (None, 64)               0         \n",
      " (GlobalAveragePooling1D)                                        \n",
      "                                                                 \n",
      " dense_4 (Dense)             (None, 5)                 325       \n",
      "                                                                 \n",
      "=================================================================\n",
      "Total params: 8,745,349\n",
      "Trainable params: 8,745,349\n",
      "Non-trainable params: 0\n",
      "_________________________________________________________________\n"
     ]
    }
   ],
   "source": [
    "modelo_1 = model_1()\n",
    "modelo_1.summary()"
   ]
  },
  {
   "cell_type": "code",
   "execution_count": 86,
   "id": "medium-preview",
   "metadata": {},
   "outputs": [
    {
     "name": "stdout",
     "output_type": "stream",
     "text": [
      "Epoch 1/3\n",
      "281/281 [==============================] - 45s 150ms/step - loss: 1.0774 - accuracy: 0.5657 - precision: 0.8734 - recall: 0.2797 - val_loss: 0.7352 - val_accuracy: 0.7114 - val_precision: 0.8507 - val_recall: 0.5549\n",
      "Epoch 2/3\n",
      "281/281 [==============================] - 41s 145ms/step - loss: 0.6838 - accuracy: 0.7435 - precision: 0.8270 - recall: 0.6341 - val_loss: 0.6394 - val_accuracy: 0.7586 - val_precision: 0.8276 - val_recall: 0.6622\n",
      "Epoch 3/3\n",
      "281/281 [==============================] - 41s 147ms/step - loss: 0.6259 - accuracy: 0.7707 - precision: 0.8280 - recall: 0.6948 - val_loss: 0.6044 - val_accuracy: 0.7796 - val_precision: 0.8421 - val_recall: 0.7041\n"
     ]
    }
   ],
   "source": [
    "history = modelo_1.fit(train_ds,\n",
    "                    validation_data = valid_ds,\n",
    "                    steps_per_epoch = int(0.1*len(train_ds)), # speed up trainin  \n",
    "                    epochs = 3,\n",
    "                    validation_steps = int(0.1*len(valid_ds)),\n",
    "                   )"
   ]
  },
  {
   "cell_type": "code",
   "execution_count": 87,
   "id": "olive-friday",
   "metadata": {},
   "outputs": [
    {
     "name": "stdout",
     "output_type": "stream",
     "text": [
      "471/471 [==============================] - 11s 23ms/step - loss: 0.6183 - accuracy: 0.7791 - precision: 0.8336 - recall: 0.7004\n"
     ]
    },
    {
     "data": {
      "text/plain": [
       "[0.6183381676673889,\n",
       " 0.7791272401809692,\n",
       " 0.8336361646652222,\n",
       " 0.7003816366195679]"
      ]
     },
     "execution_count": 87,
     "metadata": {},
     "output_type": "execute_result"
    }
   ],
   "source": [
    "modelo_1.evaluate(test_ds)"
   ]
  },
  {
   "cell_type": "code",
   "execution_count": 89,
   "id": "popular-arnold",
   "metadata": {},
   "outputs": [
    {
     "name": "stdout",
     "output_type": "stream",
     "text": [
      "471/471 [==============================] - 6s 12ms/step\n"
     ]
    }
   ],
   "source": [
    "test_pred_probs = modelo_1.predict(test_ds)"
   ]
  },
  {
   "cell_type": "code",
   "execution_count": 91,
   "id": "comparable-romantic",
   "metadata": {},
   "outputs": [
    {
     "data": {
      "text/plain": [
       "<tf.Tensor: shape=(30135,), dtype=int64, numpy=array([0, 2, 2, ..., 4, 4, 4], dtype=int64)>"
      ]
     },
     "execution_count": 91,
     "metadata": {},
     "output_type": "execute_result"
    }
   ],
   "source": [
    "test_pred = tf.argmax(test_pred_probs, axis = 1) # get the index of the highest value\n",
    "test_pred"
   ]
  },
  {
   "cell_type": "code",
   "execution_count": 96,
   "id": "hearing-venezuela",
   "metadata": {},
   "outputs": [
    {
     "name": "stdout",
     "output_type": "stream",
     "text": [
      "the model 1 results are {'accuracy': 77.91272606603617, 'precision': 0.7758561735305876, 'recall': 0.7791272606603618, 'f1': 0.7764839534996377}\n",
      "\n",
      "the baseline results are {'accuracy': 72.1832384482987, 'precision': 0.7835634520695112, 'recall': 0.7218323844829869, 'f1': 0.7447397336209445}\n"
     ]
    }
   ],
   "source": [
    "model_1_results = calculate_results(test_labels_encoded, test_pred)\n",
    "print(f'the model 1 results are {model_1_results}\\n')\n",
    "print(f'the baseline results are {baseline_results}')"
   ]
  },
  {
   "cell_type": "code",
   "execution_count": null,
   "id": "assured-discovery",
   "metadata": {},
   "outputs": [],
   "source": []
  },
  {
   "cell_type": "markdown",
   "id": "greatest-shoulder",
   "metadata": {},
   "source": [
    "## Modelo 2 (Transfer Learning): Using a pretrained Embedding Layer from tf Hub\n",
    "\n",
    "<br>\n",
    "\n",
    "* Vamos usar o universal sentence encoder, embora o paper tenha usado Glove embeddings"
   ]
  },
  {
   "cell_type": "code",
   "execution_count": 97,
   "id": "dramatic-amplifier",
   "metadata": {},
   "outputs": [],
   "source": [
    "USE_url = 'https://tfhub.dev/google/universal-sentence-encoder/4'"
   ]
  },
  {
   "cell_type": "code",
   "execution_count": 167,
   "id": "alive-episode",
   "metadata": {},
   "outputs": [],
   "source": [
    "import tensorflow_hub as hub\n",
    "# Se não meteres trainable nao vale a pena, o modelo fica muito pior, mas com um \n",
    "# embedding mais afinado o modelo fica bom , embora super lento\n",
    "# demora 40 min a treinar\n",
    "sentence_encoder_layer = hub.KerasLayer(USE_url,\n",
    "                                        trainable = False,\n",
    "                                        name = 'USE'\n",
    "                                       )\n"
   ]
  },
  {
   "cell_type": "code",
   "execution_count": 102,
   "id": "stuck-contents",
   "metadata": {},
   "outputs": [
    {
     "name": "stdout",
     "output_type": "stream",
     "text": [
      "Patients ' characteristics and infections were collected from hospital databases .\n",
      " \n",
      "\n",
      "the embedding shape : (1, 512)\n",
      "\n"
     ]
    }
   ],
   "source": [
    "random_sentence = random.choice(train_sentences)\n",
    "print(random_sentence,'\\n')\n",
    "embeddings = sentence_encoder_layer([random_sentence])\n",
    "print(f'the embedding shape : {embeddings.shape}\\n')\n",
    "#print(f'The embedding : {embeddings}')"
   ]
  },
  {
   "cell_type": "code",
   "execution_count": 120,
   "id": "induced-information",
   "metadata": {},
   "outputs": [],
   "source": [
    "def model_2():\n",
    "    # A shape tem de ser uma lista para entrar no USE\n",
    "    Input = layers.Input(shape = [], dtype = tf.string)\n",
    "    \n",
    "    #text_vectores = vect_text(Input)\n",
    "    embeding = sentence_encoder_layer(Input)\n",
    "    print(embeding.shape)\n",
    "    # Aqui nao podes usar Conv1D , pq este embedder cria um embedding por frase,\n",
    "    # enquanto que o outro criava um embedding por palavra na frase\n",
    "    #x = layers.Conv1D(64, kernel_size = 5, padding = 'same', activation = 'swish')(embeding)\n",
    "    #x = layers.GlobalAveragePooling1D()(x)\n",
    "    x = layers.Dense(128, activation = 'swish')(embeding)\n",
    "    output = layers.Dense(5, activation = 'softmax')(x)\n",
    "    \n",
    "    model = tf.keras.Model(Input, output)\n",
    "    \n",
    "    LOSS = 'CategoricalCrossentropy'\n",
    "    METRICS = ['accuracy', tf.keras.metrics.Precision(), tf.keras.metrics.Recall()]\n",
    "    OPT = tf.keras.optimizers.Adam(0.001)\n",
    "    model.compile(loss = LOSS,\n",
    "                optimizer = OPT,\n",
    "                metrics = METRICS)\n",
    "    \n",
    "    return model"
   ]
  },
  {
   "cell_type": "code",
   "execution_count": 121,
   "id": "funny-cedar",
   "metadata": {},
   "outputs": [
    {
     "name": "stdout",
     "output_type": "stream",
     "text": [
      "(None, 512)\n",
      "Model: \"model_8\"\n",
      "_________________________________________________________________\n",
      " Layer (type)                Output Shape              Param #   \n",
      "=================================================================\n",
      " input_14 (InputLayer)       [(None,)]                 0         \n",
      "                                                                 \n",
      " USE (KerasLayer)            (None, 512)               256797824 \n",
      "                                                                 \n",
      " dense_11 (Dense)            (None, 128)               65664     \n",
      "                                                                 \n",
      " dense_12 (Dense)            (None, 5)                 645       \n",
      "                                                                 \n",
      "=================================================================\n",
      "Total params: 256,864,133\n",
      "Trainable params: 256,864,133\n",
      "Non-trainable params: 0\n",
      "_________________________________________________________________\n"
     ]
    }
   ],
   "source": [
    "modelo_2 = model_2()\n",
    "modelo_2.summary()"
   ]
  },
  {
   "cell_type": "code",
   "execution_count": 122,
   "id": "continental-logic",
   "metadata": {},
   "outputs": [
    {
     "name": "stdout",
     "output_type": "stream",
     "text": [
      "Epoch 1/3\n",
      "281/281 [==============================] - 780s 3s/step - loss: 0.7893 - accuracy: 0.6914 - precision_4: 0.8134 - recall_4: 0.5561 - val_loss: 0.5852 - val_accuracy: 0.7779 - val_precision_4: 0.8275 - val_recall_4: 0.7274\n",
      "Epoch 2/3\n",
      "281/281 [==============================] - 808s 3s/step - loss: 0.5666 - accuracy: 0.7894 - precision_4: 0.8261 - recall_4: 0.7488 - val_loss: 0.5391 - val_accuracy: 0.7886 - val_precision_4: 0.8323 - val_recall_4: 0.7493\n",
      "Epoch 3/3\n",
      "281/281 [==============================] - 819s 3s/step - loss: 0.5271 - accuracy: 0.8008 - precision_4: 0.8378 - recall_4: 0.7640 - val_loss: 0.4979 - val_accuracy: 0.8142 - val_precision_4: 0.8485 - val_recall_4: 0.7670\n"
     ]
    }
   ],
   "source": [
    "history = modelo_2.fit(train_ds,\n",
    "                    validation_data = valid_ds,\n",
    "                    steps_per_epoch = int(0.1*len(train_ds)), # speed up trainin  \n",
    "                    epochs = 3,\n",
    "                    validation_steps = int(0.1*len(valid_ds)),\n",
    "                   )"
   ]
  },
  {
   "cell_type": "code",
   "execution_count": 123,
   "id": "intense-consultation",
   "metadata": {},
   "outputs": [
    {
     "name": "stdout",
     "output_type": "stream",
     "text": [
      "471/471 [==============================] - 26s 52ms/step\n",
      "the model 1 results are {'accuracy': 80.74332171893147, 'precision': 0.8072802705384735, 'recall': 0.8074332171893147, 'f1': 0.8070706622456532}\n",
      "\n",
      "the baseline results are {'accuracy': 77.91272606603617, 'precision': 0.7758561735305876, 'recall': 0.7791272606603618, 'f1': 0.7764839534996377}\n"
     ]
    }
   ],
   "source": [
    "test_pred_probs = modelo_2.predict(test_ds)\n",
    "test_pred = tf.argmax(test_pred_probs, axis = 1) # get the index of the highest value\n",
    "model_2_results = calculate_results(test_labels_encoded, test_pred)\n",
    "print(f'the model 1 results are {model_2_results}\\n')\n",
    "print(f'the baseline results are {model_1_results}')"
   ]
  },
  {
   "cell_type": "code",
   "execution_count": null,
   "id": "later-semester",
   "metadata": {},
   "outputs": [],
   "source": []
  },
  {
   "cell_type": "markdown",
   "id": "pediatric-option",
   "metadata": {},
   "source": [
    "## Model3 will use character embeddings and a model similar to model 1:\n",
    "\n",
    "<br>\n",
    "\n",
    "* No paper eles usam uma combinaçao de token e character embedding (embedding de cada letra)\n",
    "* Vamos criar um tokenizer a nível de character e depois um character embedder"
   ]
  },
  {
   "cell_type": "code",
   "execution_count": 124,
   "id": "differential-antenna",
   "metadata": {},
   "outputs": [
    {
     "data": {
      "text/plain": [
       "'a g a g a g a g a g'"
      ]
     },
     "execution_count": 124,
     "metadata": {},
     "output_type": "execute_result"
    }
   ],
   "source": [
    "def split_char(text):\n",
    "    return \" \".join(list(text)) # juntas o text com um espaço numa lista logo o tokenizer vai olhar para\n",
    "    # uma letra de cada vez\n",
    "split_char('agagagagag')"
   ]
  },
  {
   "cell_type": "code",
   "execution_count": 126,
   "id": "previous-adult",
   "metadata": {},
   "outputs": [],
   "source": [
    "train_chars = [split_char(sentence) for sentence in train_sentences]\n",
    "test_chars = [split_char(sentence) for sentence in test_sentences]\n",
    "valid_chars = [split_char(sentence) for sentence in valid_sentences]"
   ]
  },
  {
   "cell_type": "code",
   "execution_count": 127,
   "id": "accomplished-actor",
   "metadata": {},
   "outputs": [
    {
     "data": {
      "text/plain": [
       "150.3662574983337"
      ]
     },
     "execution_count": 127,
     "metadata": {},
     "output_type": "execute_result"
    }
   ],
   "source": [
    "# Vamos olhar para o avr char len e a sua dist, etc\n",
    "char_lengths = [len(sentence) for sentence in train_sentences] # nao usando o split vais olhar para \n",
    "#a sentence a char level\n",
    "mean_char = np.mean(char_lengths)\n",
    "mean_char"
   ]
  },
  {
   "cell_type": "code",
   "execution_count": 128,
   "id": "suspended-longitude",
   "metadata": {},
   "outputs": [
    {
     "data": {
      "image/png": "[encoded data removed]",
      "text/plain": [
       "<Figure size 432x288 with 1 Axes>"
      ]
     },
     "metadata": {
      "needs_background": "light"
     },
     "output_type": "display_data"
    }
   ],
   "source": [
    "import matplotlib.pyplot as plt\n",
    "plt.hist(char_lengths, bins = 30);"
   ]
  },
  {
   "cell_type": "code",
   "execution_count": 130,
   "id": "direct-experience",
   "metadata": {},
   "outputs": [
    {
     "data": {
      "text/plain": [
       "305.0"
      ]
     },
     "execution_count": 130,
     "metadata": {},
     "output_type": "execute_result"
    }
   ],
   "source": [
    "percentile_96 = np.percentile(char_lengths, 96)\n",
    "percentile_96"
   ]
  },
  {
   "cell_type": "code",
   "execution_count": 132,
   "id": "regulated-creation",
   "metadata": {},
   "outputs": [
    {
     "data": {
      "text/plain": [
       "'abcdefghijklmnopqrstuvwxyz0123456789!\"#$%&\\'()*+,-./:;<=>?@[\\\\]^_`{|}~'"
      ]
     },
     "execution_count": 132,
     "metadata": {},
     "output_type": "execute_result"
    }
   ],
   "source": [
    "# Qual o número max de vocab a char level ? o número de letras no alfabeto ? mas e as outras keyboard characters\n",
    "import string\n",
    "alphabet = string.ascii_lowercase + string.digits + string.punctuation\n",
    "alphabet"
   ]
  },
  {
   "cell_type": "code",
   "execution_count": 134,
   "id": "fallen-cassette",
   "metadata": {},
   "outputs": [],
   "source": [
    "MAX_CHAR_SIZE = len(alphabet) +2 # para espaço e OOV token"
   ]
  },
  {
   "cell_type": "code",
   "execution_count": 172,
   "id": "dominican-plaintiff",
   "metadata": {},
   "outputs": [
    {
     "data": {
      "text/plain": [
       "70"
      ]
     },
     "execution_count": 172,
     "metadata": {},
     "output_type": "execute_result"
    }
   ],
   "source": [
    "MAX_CHAR_SIZE"
   ]
  },
  {
   "cell_type": "code",
   "execution_count": 136,
   "id": "unsigned-tattoo",
   "metadata": {},
   "outputs": [],
   "source": [
    "char_vectorizer = TextVectorization(max_tokens = MAX_CHAR_SIZE, # len do vocabulário, none deixa o algo descubrir a len dos dados passados ao algo\n",
    "                              output_sequence_length = int(percentile_96), # padds each sequence to the longest sequence\n",
    "                             )"
   ]
  },
  {
   "cell_type": "code",
   "execution_count": 142,
   "id": "gentle-colombia",
   "metadata": {},
   "outputs": [],
   "source": [
    "char_vectorizer.adapt(train_chars)"
   ]
  },
  {
   "cell_type": "code",
   "execution_count": 143,
   "id": "demanding-welcome",
   "metadata": {},
   "outputs": [
    {
     "name": "stdout",
     "output_type": "stream",
     "text": [
      "Number of total words we have: 28\n",
      "The most common words are: ['', '[UNK]', 'e', 't', 'i']\n",
      "The least common words are: ['k', 'x', 'z', 'q', 'j']\n"
     ]
    }
   ],
   "source": [
    "# Check car vocab stats\n",
    "char_vocab = char_vectorizer.get_vocabulary()\n",
    "print(f'Number of total words we have: {len(char_vocab)}')\n",
    "print(f'The most common words are: {char_vocab[:5]}')\n",
    "print(f'The least common words are: {char_vocab[-5:]}')"
   ]
  },
  {
   "cell_type": "code",
   "execution_count": 146,
   "id": "declared-psychiatry",
   "metadata": {},
   "outputs": [
    {
     "name": "stdout",
     "output_type": "stream",
     "text": [
      "Char text : O u r   o b j e c t i v e   w a s   t o   t e s t   w h e t h e r   v i t a m i n   D   s u p p l e m e n t a t i o n   i n c r e a s e s   m u s c l e   s t r e n g t h   a n d   p o w e r   c o m p a r e d   w i t h   p l a c e b o   . \n",
      "\n",
      "\n",
      "Vectorized chars: [ 7 16  8  7 22 27  2 11  3  4 21  2 20  5  9  3  7  3  2  9  3 20 13  2\n",
      "  3 13  2  8 21  4  3  5 15  4  6 10  9 16 14 14 12  2 15  2  6  3  5  3\n",
      "  4  7  6  4  6 11  8  2  5  9  2  9 15 16  9 11 12  2  9  3  8  2  6 18\n",
      "  3 13  5  6 10 14  7 20  2  8 11  7 15 14  5  8  2 10 20  4  3 13 14 12\n",
      "  5 11  2 22  7  0  0  0  0  0  0  0  0  0  0  0  0  0  0  0  0  0  0  0\n",
      "  0  0  0  0  0  0  0  0  0  0  0  0  0  0  0  0  0  0  0  0  0  0  0  0\n",
      "  0  0  0  0  0  0  0  0  0  0  0  0  0  0  0  0  0  0  0  0  0  0  0  0\n",
      "  0  0  0  0  0  0  0  0  0  0  0  0  0  0  0  0  0  0  0  0  0  0  0  0\n",
      "  0  0  0  0  0  0  0  0  0  0  0  0  0  0  0  0  0  0  0  0  0  0  0  0\n",
      "  0  0  0  0  0  0  0  0  0  0  0  0  0  0  0  0  0  0  0  0  0  0  0  0\n",
      "  0  0  0  0  0  0  0  0  0  0  0  0  0  0  0  0  0  0  0  0  0  0  0  0\n",
      "  0  0  0  0  0  0  0  0  0  0  0  0  0  0  0  0  0  0  0  0  0  0  0  0\n",
      "  0  0  0  0  0  0  0  0  0  0  0  0  0  0  0  0  0]\n",
      "\n",
      "Vectorized chars shape: (305,)\n"
     ]
    }
   ],
   "source": [
    "random_chars = random.choice(train_chars)\n",
    "print(f'Char text : {random_chars}\\n')\n",
    "vected_chars = char_vectorizer(random_chars)\n",
    "print(f'Vectorized chars: {vected_chars}\\n')\n",
    "print(f'Vectorized chars shape: {vected_chars.shape}')"
   ]
  },
  {
   "cell_type": "code",
   "execution_count": 147,
   "id": "independent-thriller",
   "metadata": {},
   "outputs": [],
   "source": [
    "# Create char level embedding layer\n",
    "char_embed = layers.Embedding(input_dim = MAX_CHAR_SIZE,\n",
    "                            output_dim = 25,# é o valor usado no paper\n",
    "                            mask_zero = True, # Ajuda o Tf a ser mais eficiente para nao perder tempo com muitos 0's que veem do padding \n",
    "                            name = 'char_embedding'\n",
    "                            )"
   ]
  },
  {
   "cell_type": "code",
   "execution_count": 149,
   "id": "canadian-moore",
   "metadata": {},
   "outputs": [
    {
     "name": "stdout",
     "output_type": "stream",
     "text": [
      "Original text T h e   s t u d y   s h o u l d   p r o v i d e   i m p o r t a n t   i n f o r m a t i o n   o n   t h e   W H O   m h G A P   i n t e r v e n t i o n   g u i d e   t o   a d d   t o   t h e   g r o w i n g   e v i d e n c e   b a s e   o f   i t s   i m p l e m e n t a t i o n   . \n",
      " \n",
      "\n",
      "Vectorized text [[ 3 13  2  9  3 16 10 19  9 13  7 16 12 10 14  8  7 21  4 10  2  4 15 14\n",
      "   7  8  3  5  6  3  4  6 17  7  8 15  5  3  4  7  6  7  6  3 13  2 20 13\n",
      "   7 15 13 18  5 14  4  6  3  2  8 21  2  6  3  4  7  6 18 16  4 10  2  3\n",
      "   7  5 10 10  3  7  3 13  2 18  8  7 20  4  6 18  2 21  4 10  2  6 11  2\n",
      "  22  5  9  2  7 17  4  3  9  4 15 14 12  2 15  2  6  3  5  3  4  7  6  0\n",
      "   0  0  0  0  0  0  0  0  0  0  0  0  0  0  0  0  0  0  0  0  0  0  0  0\n",
      "   0  0  0  0  0  0  0  0  0  0  0  0  0  0  0  0  0  0  0  0  0  0  0  0\n",
      "   0  0  0  0  0  0  0  0  0  0  0  0  0  0  0  0  0  0  0  0  0  0  0  0\n",
      "   0  0  0  0  0  0  0  0  0  0  0  0  0  0  0  0  0  0  0  0  0  0  0  0\n",
      "   0  0  0  0  0  0  0  0  0  0  0  0  0  0  0  0  0  0  0  0  0  0  0  0\n",
      "   0  0  0  0  0  0  0  0  0  0  0  0  0  0  0  0  0  0  0  0  0  0  0  0\n",
      "   0  0  0  0  0  0  0  0  0  0  0  0  0  0  0  0  0  0  0  0  0  0  0  0\n",
      "   0  0  0  0  0  0  0  0  0  0  0  0  0  0  0  0  0]]\n",
      "The embedded sentence is : [[[-0.00753355  0.01089456 -0.0009927  ... -0.00928779 -0.03403728\n",
      "    0.01807876]\n",
      "  [ 0.00442716  0.04062184 -0.02057873 ... -0.01782371 -0.02601494\n",
      "   -0.01610385]\n",
      "  [-0.04822444 -0.02741336 -0.04405301 ... -0.04299722 -0.04019536\n",
      "   -0.01648122]\n",
      "  ...\n",
      "  [-0.01395332  0.01086289 -0.04718051 ... -0.04819804  0.04134574\n",
      "   -0.02109727]\n",
      "  [-0.01395332  0.01086289 -0.04718051 ... -0.04819804  0.04134574\n",
      "   -0.02109727]\n",
      "  [-0.01395332  0.01086289 -0.04718051 ... -0.04819804  0.04134574\n",
      "   -0.02109727]]]\n",
      "The embedded sentence shape is  : (1, 305, 25)\n"
     ]
    }
   ],
   "source": [
    "random_chars = random.choice(train_chars)\n",
    "print(f'Original text {random_chars} \\n')\n",
    "vected_chars = char_vectorizer([random_chars])\n",
    "print(f'Vectorized text {vected_chars}')\n",
    "embedded_char = char_embed(vected_chars)\n",
    "print(f'The embedded sentence is : {embedded_char}')\n",
    "print(f'The embedded sentence shape is  : {embedded_char.shape}')"
   ]
  },
  {
   "cell_type": "code",
   "execution_count": 161,
   "id": "convinced-construction",
   "metadata": {},
   "outputs": [],
   "source": [
    "def model_3():\n",
    "    Input = layers.Input(shape = (1,), dtype = tf.string)\n",
    "    \n",
    "    text_vectores = char_vectorizer(Input)\n",
    "    embeding = char_embed(text_vectores)\n",
    "    \n",
    "    x = layers.Conv1D(64, kernel_size = 50, padding = 'same', activation = 'swish')(embeding)\n",
    "    # Mudar de Avr para MAx dá um grande boost aos resultados\n",
    "    x = layers.GlobalMaxPooling1D()(x)\n",
    "    output = layers.Dense(5, activation = 'softmax')(x)\n",
    "    \n",
    "    model = tf.keras.Model(Input, output)\n",
    "    \n",
    "    LOSS = 'CategoricalCrossentropy'\n",
    "    METRICS = ['accuracy', tf.keras.metrics.Precision(), tf.keras.metrics.Recall()]\n",
    "    OPT = tf.keras.optimizers.Adam(0.001)\n",
    "    model.compile(loss = LOSS,\n",
    "                optimizer = OPT,\n",
    "                metrics = METRICS)\n",
    "    \n",
    "    return model"
   ]
  },
  {
   "cell_type": "code",
   "execution_count": 162,
   "id": "dated-clinton",
   "metadata": {
    "scrolled": true
   },
   "outputs": [
    {
     "name": "stdout",
     "output_type": "stream",
     "text": [
      "Model: \"model_11\"\n",
      "_________________________________________________________________\n",
      " Layer (type)                Output Shape              Param #   \n",
      "=================================================================\n",
      " input_17 (InputLayer)       [(None, 1)]               0         \n",
      "                                                                 \n",
      " text_vectorization_1 (TextV  (None, 305)              0         \n",
      " ectorization)                                                   \n",
      "                                                                 \n",
      " char_embedding (Embedding)  (None, 305, 25)           1750      \n",
      "                                                                 \n",
      " conv1d_9 (Conv1D)           (None, 305, 64)           80064     \n",
      "                                                                 \n",
      " global_max_pooling1d (Globa  (None, 64)               0         \n",
      " lMaxPooling1D)                                                  \n",
      "                                                                 \n",
      " dense_15 (Dense)            (None, 5)                 325       \n",
      "                                                                 \n",
      "=================================================================\n",
      "Total params: 82,139\n",
      "Trainable params: 82,139\n",
      "Non-trainable params: 0\n",
      "_________________________________________________________________\n"
     ]
    }
   ],
   "source": [
    "modelo_3 = model_3()\n",
    "modelo_3.summary()"
   ]
  },
  {
   "cell_type": "code",
   "execution_count": 163,
   "id": "democratic-study",
   "metadata": {},
   "outputs": [],
   "source": [
    "train_ds = create_ds(train_chars, train_labels_encoded_OH)\n",
    "valid_ds = create_ds(valid_chars, valid_labels_encoded_OH)\n",
    "test_ds = create_ds(test_chars, test_labels_encoded_OH)"
   ]
  },
  {
   "cell_type": "code",
   "execution_count": 164,
   "id": "protecting-dealer",
   "metadata": {},
   "outputs": [
    {
     "name": "stdout",
     "output_type": "stream",
     "text": [
      "Epoch 1/3\n",
      "281/281 [==============================] - 63s 220ms/step - loss: 1.2819 - accuracy: 0.4726 - precision_7: 0.6770 - recall_7: 0.2235 - val_loss: 1.1773 - val_accuracy: 0.5206 - val_precision_7: 0.6949 - val_recall_7: 0.3112\n",
      "Epoch 2/3\n",
      "281/281 [==============================] - 55s 196ms/step - loss: 1.1461 - accuracy: 0.5294 - precision_7: 0.7006 - recall_7: 0.3541 - val_loss: 1.0944 - val_accuracy: 0.5628 - val_precision_7: 0.7109 - val_recall_7: 0.3883\n",
      "Epoch 3/3\n",
      "281/281 [==============================] - 59s 209ms/step - loss: 1.0750 - accuracy: 0.5693 - precision_7: 0.7217 - recall_7: 0.4051 - val_loss: 1.0268 - val_accuracy: 0.5828 - val_precision_7: 0.7467 - val_recall_7: 0.4086\n"
     ]
    }
   ],
   "source": [
    "history = modelo_3.fit(train_ds,\n",
    "                    validation_data = valid_ds,\n",
    "                    steps_per_epoch = int(0.1*len(train_ds)), # speed up trainin  \n",
    "                    epochs = 3,\n",
    "                    validation_steps = int(0.1*len(valid_ds)),\n",
    "                   )"
   ]
  },
  {
   "cell_type": "code",
   "execution_count": 165,
   "id": "minute-hacker",
   "metadata": {},
   "outputs": [
    {
     "name": "stdout",
     "output_type": "stream",
     "text": [
      "471/471 [==============================] - 25s 53ms/step\n",
      "the model 1 results are {'accuracy': 58.18151650904264, 'precision': 0.5701949892861935, 'recall': 0.5818151650904264, 'f1': 0.5722666871474441}\n",
      "\n",
      "the baseline results are {'accuracy': 80.74332171893147, 'precision': 0.8072802705384735, 'recall': 0.8074332171893147, 'f1': 0.8070706622456532}\n"
     ]
    }
   ],
   "source": [
    "test_pred_probs = modelo_3.predict(test_ds)\n",
    "test_pred = tf.argmax(test_pred_probs, axis = 1) # get the index of the highest value\n",
    "model_3_results = calculate_results(test_labels_encoded, test_pred)\n",
    "print(f'the model 1 results are {model_3_results}\\n')\n",
    "print(f'the baseline results are {model_2_results}')"
   ]
  },
  {
   "cell_type": "code",
   "execution_count": null,
   "id": "hindu-things",
   "metadata": {},
   "outputs": [],
   "source": []
  },
  {
   "cell_type": "markdown",
   "id": "powerful-rapid",
   "metadata": {},
   "source": [
    "## Modelo 4 : é uma combinação dos modelos 2 e 3 (com token e char embeddings)"
   ]
  },
  {
   "cell_type": "code",
   "execution_count": 185,
   "id": "recent-fishing",
   "metadata": {},
   "outputs": [],
   "source": [
    "def model_4():\n",
    "    token_input = layers.Input(shape = [], dtype = tf.string)\n",
    "    #print('token input shape ', token_input.shape)\n",
    "    token_embeddings = sentence_encoder_layer(token_input)\n",
    "    #print('token embedd shape ', token_embeddings.shape)\n",
    "    token_output = layers.Dense(128, activation = 'relu')(token_embeddings)\n",
    "    #print('final token shapes  ',token_output.shape)\n",
    "    \n",
    "    char_input = layers.Input(shape = (1,), dtype = tf.string)\n",
    "    #print('char input shape ', char_input.shape)\n",
    "    char_vectores = char_vectorizer(char_input)\n",
    "    char_embedding = char_embed(char_vectores)\n",
    "    #print('char embedd shape ', char_embedding.shape)\n",
    "    x = layers.Bidirectional(layers.LSTM(24, return_sequences = False))(char_embedding)\n",
    "    #x = layers.Conv1D(64, kernel_size = 50, padding = 'same', activation = 'swish')(char_embeding)\n",
    "    #x = layers.GlobalMaxPooling1D()(x)\n",
    "    #print('final char shape  ', x.shape)\n",
    "    \n",
    "    concat = layers.Concatenate()([token_output, x])\n",
    "    #print(concat.shape)\n",
    "    \n",
    "    #y = layers.Bidirectional(layers.LSTM(24, return_sequences = False))(concat)\n",
    "    \n",
    "    dropout = layers.Dropout(0.5)(concat)\n",
    "    y = layers.Dense(64, activation = 'swish')(dropout)\n",
    "    y = layers.Dropout(0.5)(y)\n",
    "    output = layers.Dense(5, activation = 'softmax')(y)\n",
    "    \n",
    "    model = tf.keras.Model(inputs= [token_input,char_input], outputs = output)\n",
    "    \n",
    "    LOSS = 'CategoricalCrossentropy'\n",
    "    METRICS = ['accuracy', tf.keras.metrics.Precision(), tf.keras.metrics.Recall()]\n",
    "    OPT = tf.keras.optimizers.Adam(0.001)\n",
    "    model.compile(loss = LOSS,\n",
    "                optimizer = OPT,\n",
    "                metrics = METRICS)\n",
    "    \n",
    "    return model"
   ]
  },
  {
   "cell_type": "code",
   "execution_count": 186,
   "id": "mental-roommate",
   "metadata": {
    "scrolled": true
   },
   "outputs": [
    {
     "name": "stdout",
     "output_type": "stream",
     "text": [
      "Model: \"model_13\"\n",
      "__________________________________________________________________________________________________\n",
      " Layer (type)                   Output Shape         Param #     Connected to                     \n",
      "==================================================================================================\n",
      " input_35 (InputLayer)          [(None, 1)]          0           []                               \n",
      "                                                                                                  \n",
      " input_34 (InputLayer)          [(None,)]            0           []                               \n",
      "                                                                                                  \n",
      " text_vectorization_1 (TextVect  (None, 305)         0           ['input_35[0][0]']               \n",
      " orization)                                                                                       \n",
      "                                                                                                  \n",
      " USE (KerasLayer)               (None, 512)          256797824   ['input_34[0][0]']               \n",
      "                                                                                                  \n",
      " char_embedding (Embedding)     (None, 305, 25)      1750        ['text_vectorization_1[11][0]']  \n",
      "                                                                                                  \n",
      " dense_31 (Dense)               (None, 128)          65664       ['USE[8][0]']                    \n",
      "                                                                                                  \n",
      " bidirectional_9 (Bidirectional  (None, 48)          9600        ['char_embedding[11][0]']        \n",
      " )                                                                                                \n",
      "                                                                                                  \n",
      " concatenate_4 (Concatenate)    (None, 176)          0           ['dense_31[0][0]',               \n",
      "                                                                  'bidirectional_9[0][0]']        \n",
      "                                                                                                  \n",
      " dropout_2 (Dropout)            (None, 176)          0           ['concatenate_4[0][0]']          \n",
      "                                                                                                  \n",
      " dense_32 (Dense)               (None, 64)           11328       ['dropout_2[0][0]']              \n",
      "                                                                                                  \n",
      " dropout_3 (Dropout)            (None, 64)           0           ['dense_32[0][0]']               \n",
      "                                                                                                  \n",
      " dense_33 (Dense)               (None, 5)            325         ['dropout_3[0][0]']              \n",
      "                                                                                                  \n",
      "==================================================================================================\n",
      "Total params: 256,886,491\n",
      "Trainable params: 88,667\n",
      "Non-trainable params: 256,797,824\n",
      "__________________________________________________________________________________________________\n"
     ]
    }
   ],
   "source": [
    "modelo_4 = model_4()\n",
    "modelo_4.summary()"
   ]
  },
  {
   "cell_type": "code",
   "execution_count": 190,
   "id": "destroyed-democrat",
   "metadata": {},
   "outputs": [
    {
     "data": {
      "image/png": "[encoded data removed]",
      "text/plain": [
       "<IPython.core.display.Image object>"
      ]
     },
     "execution_count": 190,
     "metadata": {},
     "output_type": "execute_result"
    }
   ],
   "source": [
    "from keras.utils import plot_model\n",
    "plot_model(modelo_4, show_shapes = True)"
   ]
  },
  {
   "cell_type": "code",
   "execution_count": 197,
   "id": "racial-pacific",
   "metadata": {},
   "outputs": [],
   "source": [
    "# Vamos criar um dataset\n",
    "def create_ds(sentences, characters,labels):\n",
    "    \n",
    "    #ds = tf.data.Dataset.from_tensor_slices(((sentences,characters), labels))\n",
    "    \n",
    "    # outra forma de fazê-lo\n",
    "    data = tf.data.Dataset.from_tensor_slices((sentences,characters))\n",
    "    labels = tf.data.Dataset.from_tensor_slices(labels)\n",
    "    ds = tf.data.Dataset.zip((data,labels))\n",
    "    \n",
    "    AUTO = tf.data.experimental.AUTOTUNE\n",
    "    ds = ds.batch(batch_size = CFG.batch, drop_remainder = False)\n",
    "    # Reduz o tempo de ir buscar os dados com cpu \n",
    "    # Autotune implica que vai buscar o máximo de dados de uma vez que é possível\n",
    "    ds = ds.prefetch(buffer_size=AUTO)\n",
    "    \n",
    "    return ds"
   ]
  },
  {
   "cell_type": "code",
   "execution_count": 198,
   "id": "popular-format",
   "metadata": {},
   "outputs": [],
   "source": [
    "train_ds = create_ds(train_sentences,train_chars, train_labels_encoded_OH)\n",
    "test_ds = create_ds(test_sentences,test_chars, test_labels_encoded_OH)\n",
    "valid_ds = create_ds(valid_sentences,valid_chars, valid_labels_encoded_OH)"
   ]
  },
  {
   "cell_type": "code",
   "execution_count": 199,
   "id": "constant-perth",
   "metadata": {},
   "outputs": [
    {
     "data": {
      "text/plain": [
       "<PrefetchDataset element_spec=((TensorSpec(shape=(None,), dtype=tf.string, name=None), TensorSpec(shape=(None,), dtype=tf.string, name=None)), TensorSpec(shape=(None, 5), dtype=tf.float64, name=None))>"
      ]
     },
     "execution_count": 199,
     "metadata": {},
     "output_type": "execute_result"
    }
   ],
   "source": [
    "train_ds"
   ]
  },
  {
   "cell_type": "code",
   "execution_count": 200,
   "id": "julian-sussex",
   "metadata": {},
   "outputs": [
    {
     "name": "stdout",
     "output_type": "stream",
     "text": [
      "Epoch 1/3\n",
      "281/281 [==============================] - 150s 424ms/step - loss: 1.0460 - accuracy: 0.5848 - precision_9: 0.7734 - recall_9: 0.3736 - val_loss: 0.8089 - val_accuracy: 0.6828 - val_precision_9: 0.7948 - val_recall_9: 0.5319\n",
      "Epoch 2/3\n",
      "281/281 [==============================] - 100s 356ms/step - loss: 0.8294 - accuracy: 0.6804 - precision_9: 0.7692 - recall_9: 0.5462 - val_loss: 0.7538 - val_accuracy: 0.7061 - val_precision_9: 0.8007 - val_recall_9: 0.5864\n",
      "Epoch 3/3\n",
      "281/281 [==============================] - 96s 343ms/step - loss: 0.8038 - accuracy: 0.6892 - precision_9: 0.7797 - recall_9: 0.5821 - val_loss: 0.7254 - val_accuracy: 0.7231 - val_precision_9: 0.8040 - val_recall_9: 0.6124\n"
     ]
    }
   ],
   "source": [
    "history = modelo_4.fit(train_ds,\n",
    "                    validation_data = valid_ds,\n",
    "                    steps_per_epoch = int(0.1*len(train_ds)), # speed up trainin  \n",
    "                    epochs = 3,\n",
    "                    validation_steps = int(0.1*len(valid_ds)),\n",
    "                   )"
   ]
  },
  {
   "cell_type": "code",
   "execution_count": 201,
   "id": "blessed-cache",
   "metadata": {},
   "outputs": [
    {
     "name": "stdout",
     "output_type": "stream",
     "text": [
      "471/471 [==============================] - 62s 113ms/step\n",
      "the model 1 results are {'accuracy': 71.335656213705, 'precision': 0.7124123510267901, 'recall': 0.7133565621370499, 'f1': 0.7093777694905595}\n",
      "\n",
      "the baseline results are {'accuracy': 80.74332171893147, 'precision': 0.8072802705384735, 'recall': 0.8074332171893147, 'f1': 0.8070706622456532}\n"
     ]
    }
   ],
   "source": [
    "test_pred_probs = modelo_4.predict(test_ds)\n",
    "test_pred = tf.argmax(test_pred_probs, axis = 1) # get the index of the highest value\n",
    "model_4_results = calculate_results(test_labels_encoded, test_pred)\n",
    "print(f'the model 1 results are {model_4_results}\\n')\n",
    "print(f'the baseline results are {model_2_results}')"
   ]
  },
  {
   "cell_type": "code",
   "execution_count": 202,
   "id": "separated-gasoline",
   "metadata": {},
   "outputs": [
    {
     "name": "stdout",
     "output_type": "stream",
     "text": [
      "the baseline results are {'accuracy': 72.1832384482987, 'precision': 0.7835634520695112, 'recall': 0.7218323844829869, 'f1': 0.7447397336209445}\n"
     ]
    }
   ],
   "source": [
    "print(f'the baseline results are {baseline_results}')"
   ]
  },
  {
   "cell_type": "code",
   "execution_count": null,
   "id": "distinguished-section",
   "metadata": {},
   "outputs": [],
   "source": []
  },
  {
   "cell_type": "markdown",
   "id": "sunrise-alberta",
   "metadata": {},
   "source": [
    "# Model 5 : same as 4 but with positional embeddings"
   ]
  },
  {
   "cell_type": "code",
   "execution_count": 203,
   "id": "heated-original",
   "metadata": {},
   "outputs": [
    {
     "data": {
      "text/html": [
       "<div>\n",
       "<style scoped>\n",
       "    .dataframe tbody tr th:only-of-type {\n",
       "        vertical-align: middle;\n",
       "    }\n",
       "\n",
       "    .dataframe tbody tr th {\n",
       "        vertical-align: top;\n",
       "    }\n",
       "\n",
       "    .dataframe thead th {\n",
       "        text-align: right;\n",
       "    }\n",
       "</style>\n",
       "<table border=\"1\" class=\"dataframe\">\n",
       "  <thead>\n",
       "    <tr style=\"text-align: right;\">\n",
       "      <th></th>\n",
       "      <th>line_number</th>\n",
       "      <th>target</th>\n",
       "      <th>text</th>\n",
       "      <th>total_lines</th>\n",
       "    </tr>\n",
       "  </thead>\n",
       "  <tbody>\n",
       "    <tr>\n",
       "      <th>0</th>\n",
       "      <td>0</td>\n",
       "      <td>OBJECTIVE</td>\n",
       "      <td>To investigate the efficacy of @ weeks of dail...</td>\n",
       "      <td>12</td>\n",
       "    </tr>\n",
       "    <tr>\n",
       "      <th>1</th>\n",
       "      <td>1</td>\n",
       "      <td>METHODS</td>\n",
       "      <td>A total of @ patients with primary knee OA wer...</td>\n",
       "      <td>12</td>\n",
       "    </tr>\n",
       "    <tr>\n",
       "      <th>2</th>\n",
       "      <td>2</td>\n",
       "      <td>METHODS</td>\n",
       "      <td>Outcome measures included pain reduction and i...</td>\n",
       "      <td>12</td>\n",
       "    </tr>\n",
       "    <tr>\n",
       "      <th>3</th>\n",
       "      <td>3</td>\n",
       "      <td>METHODS</td>\n",
       "      <td>Pain was assessed using the visual analog pain...</td>\n",
       "      <td>12</td>\n",
       "    </tr>\n",
       "    <tr>\n",
       "      <th>4</th>\n",
       "      <td>4</td>\n",
       "      <td>METHODS</td>\n",
       "      <td>Secondary outcome measures included the Wester...</td>\n",
       "      <td>12</td>\n",
       "    </tr>\n",
       "  </tbody>\n",
       "</table>\n",
       "</div>"
      ],
      "text/plain": [
       "   line_number     target                                               text  \\\n",
       "0            0  OBJECTIVE  To investigate the efficacy of @ weeks of dail...   \n",
       "1            1    METHODS  A total of @ patients with primary knee OA wer...   \n",
       "2            2    METHODS  Outcome measures included pain reduction and i...   \n",
       "3            3    METHODS  Pain was assessed using the visual analog pain...   \n",
       "4            4    METHODS  Secondary outcome measures included the Wester...   \n",
       "\n",
       "   total_lines  \n",
       "0           12  \n",
       "1           12  \n",
       "2           12  \n",
       "3           12  \n",
       "4           12  "
      ]
     },
     "execution_count": 203,
     "metadata": {},
     "output_type": "execute_result"
    }
   ],
   "source": [
    "train_df.head()"
   ]
  },
  {
   "cell_type": "code",
   "execution_count": 208,
   "id": "pressing-burner",
   "metadata": {},
   "outputs": [
    {
     "data": {
      "text/plain": [
       "<AxesSubplot:ylabel='Frequency'>"
      ]
     },
     "execution_count": 208,
     "metadata": {},
     "output_type": "execute_result"
    },
    {
     "data": {
      "image/png": "[encoded data removed]",
      "text/plain": [
       "<Figure size 432x288 with 1 Axes>"
      ]
     },
     "metadata": {
      "needs_background": "light"
     },
     "output_type": "display_data"
    }
   ],
   "source": [
    "train_df.line_number.plot.hist(bins = 30)"
   ]
  },
  {
   "cell_type": "code",
   "execution_count": 213,
   "id": "united-missouri",
   "metadata": {},
   "outputs": [
    {
     "data": {
      "text/plain": [
       "(<tf.Tensor: shape=(17,), dtype=float32, numpy=\n",
       " array([1., 0., 0., 0., 0., 0., 0., 0., 0., 0., 0., 0., 0., 0., 0., 0., 0.],\n",
       "       dtype=float32)>,\n",
       " TensorShape([180040, 17]))"
      ]
     },
     "execution_count": 213,
     "metadata": {},
     "output_type": "execute_result"
    }
   ],
   "source": [
    "# Usas one hot encoding , mas podes experimentar usar os dados com sao\n",
    "train_line_number_one_hot = tf.one_hot(train_df['line_number'].to_numpy(), depth = 17)\n",
    "test_line_number_one_hot = tf.one_hot(test_df['line_number'].to_numpy(), depth = 17)\n",
    "valid_line_number_one_hot = tf.one_hot(valid_df['line_number'].to_numpy(), depth = 17)\n",
    "train_line_number_one_hot[0], train_line_number_one_hot.shape"
   ]
  },
  {
   "cell_type": "code",
   "execution_count": 216,
   "id": "serial-morocco",
   "metadata": {},
   "outputs": [
    {
     "data": {
      "text/plain": [
       "<AxesSubplot:ylabel='Frequency'>"
      ]
     },
     "execution_count": 216,
     "metadata": {},
     "output_type": "execute_result"
    },
    {
     "data": {
      "image/png": "[encoded data removed]",
      "text/plain": [
       "<Figure size 432x288 with 1 Axes>"
      ]
     },
     "metadata": {
      "needs_background": "light"
     },
     "output_type": "display_data"
    }
   ],
   "source": [
    "train_df.total_lines.plot.hist(bins = 20)"
   ]
  },
  {
   "cell_type": "code",
   "execution_count": 220,
   "id": "million-battery",
   "metadata": {},
   "outputs": [
    {
     "data": {
      "text/plain": [
       "(<tf.Tensor: shape=(20,), dtype=float32, numpy=\n",
       " array([0., 0., 0., 0., 0., 0., 0., 0., 0., 0., 0., 0., 1., 0., 0., 0., 0.,\n",
       "        0., 0., 0.], dtype=float32)>,\n",
       " TensorShape([180040, 20]))"
      ]
     },
     "execution_count": 220,
     "metadata": {},
     "output_type": "execute_result"
    }
   ],
   "source": [
    "train_total_lines_one_hot = tf.one_hot(train_df['total_lines'].to_numpy(), depth = 20)\n",
    "test_total_lines_one_hot = tf.one_hot(test_df['total_lines'].to_numpy(), depth = 20)\n",
    "valid_total_lines_one_hot = tf.one_hot(valid_df['total_lines'].to_numpy(), depth = 20)\n",
    "train_total_lines_one_hot[0], train_total_lines_one_hot.shape"
   ]
  },
  {
   "cell_type": "code",
   "execution_count": 232,
   "id": "plain-basketball",
   "metadata": {},
   "outputs": [],
   "source": [
    "def model_5():\n",
    "    \n",
    "    # Token Inputs\n",
    "    token_input = layers.Input(shape = [], dtype = tf.string)\n",
    "    #print('token input shape ', token_input.shape)\n",
    "    token_embeddings = sentence_encoder_layer(token_input)\n",
    "    #print('token embedd shape ', token_embeddings.shape)\n",
    "    token_output = layers.Dense(128, activation = 'relu')(token_embeddings)\n",
    "    #print('final token shapes  ',token_output.shape)\n",
    "    \n",
    "    # Char Inputs\n",
    "    char_input = layers.Input(shape = (1,), dtype = tf.string)\n",
    "    #print('char input shape ', char_input.shape)\n",
    "    char_vectores = char_vectorizer(char_input)\n",
    "    char_embedding = char_embed(char_vectores)\n",
    "    #print('char embedd shape ', char_embedding.shape)\n",
    "    x = layers.Bidirectional(layers.LSTM(24, return_sequences = False))(char_embedding)\n",
    "\n",
    "    # Token + Char combo\n",
    "    concat = layers.Concatenate()([token_output, x])\n",
    "    dropout = layers.Dropout(0.5)(concat)\n",
    "    y = layers.Dense(64, activation = 'swish')(dropout)\n",
    "    y = layers.Dropout(0.5)(y)\n",
    "    \n",
    "    # Positional Encoding \n",
    "    Positional_encoding = layers.Input(shape = (17,), dtype = tf.float32)\n",
    "    k = layers.Dense(32, activation = 'swish')(Positional_encoding)\n",
    "    \n",
    "    # Line Number Encoding \n",
    "    Lines_encoding = layers.Input(shape = (20,), dtype = tf.float32)\n",
    "    j = layers.Dense(32, activation = 'swish')(Lines_encoding)\n",
    "    \n",
    "    # Combine Embeddings\n",
    "    embed_combo = layers.Concatenate()([k,j])\n",
    "    #embed_combo = layers.Dropout(0.5)(embed_combo)\n",
    "    # Final Combo\n",
    "    final_combo = layers.Concatenate()([embed_combo, y])\n",
    "    \n",
    "    output = layers.Dense(5, activation = 'softmax')(final_combo)\n",
    "    \n",
    "    model = tf.keras.Model(inputs= [token_input,char_input,Positional_encoding ,Lines_encoding]\n",
    "                           , outputs = output)\n",
    "    \n",
    "    LOSS = tf.keras.losses.CategoricalCrossentropy(label_smoothing = 0.2)\n",
    "    METRICS = ['accuracy', tf.keras.metrics.Precision(), tf.keras.metrics.Recall()]\n",
    "    OPT = tf.keras.optimizers.Adam(0.001)\n",
    "    model.compile(loss = LOSS,\n",
    "                optimizer = OPT,\n",
    "                metrics = METRICS)\n",
    "    \n",
    "    return model"
   ]
  },
  {
   "cell_type": "code",
   "execution_count": 233,
   "id": "sapphire-huntington",
   "metadata": {},
   "outputs": [
    {
     "name": "stdout",
     "output_type": "stream",
     "text": [
      "Model: \"model_15\"\n",
      "__________________________________________________________________________________________________\n",
      " Layer (type)                   Output Shape         Param #     Connected to                     \n",
      "==================================================================================================\n",
      " input_45 (InputLayer)          [(None, 1)]          0           []                               \n",
      "                                                                                                  \n",
      " input_44 (InputLayer)          [(None,)]            0           []                               \n",
      "                                                                                                  \n",
      " text_vectorization_1 (TextVect  (None, 305)         0           ['input_45[0][0]']               \n",
      " orization)                                                                                       \n",
      "                                                                                                  \n",
      " USE (KerasLayer)               (None, 512)          256797824   ['input_44[0][0]']               \n",
      "                                                                                                  \n",
      " char_embedding (Embedding)     (None, 305, 25)      1750        ['text_vectorization_1[14][0]']  \n",
      "                                                                                                  \n",
      " dense_43 (Dense)               (None, 128)          65664       ['USE[11][0]']                   \n",
      "                                                                                                  \n",
      " bidirectional_12 (Bidirectiona  (None, 48)          9600        ['char_embedding[14][0]']        \n",
      " l)                                                                                               \n",
      "                                                                                                  \n",
      " concatenate_9 (Concatenate)    (None, 176)          0           ['dense_43[0][0]',               \n",
      "                                                                  'bidirectional_12[0][0]']       \n",
      "                                                                                                  \n",
      " input_46 (InputLayer)          [(None, 17)]         0           []                               \n",
      "                                                                                                  \n",
      " input_47 (InputLayer)          [(None, 20)]         0           []                               \n",
      "                                                                                                  \n",
      " dropout_9 (Dropout)            (None, 176)          0           ['concatenate_9[0][0]']          \n",
      "                                                                                                  \n",
      " dense_45 (Dense)               (None, 32)           576         ['input_46[0][0]']               \n",
      "                                                                                                  \n",
      " dense_46 (Dense)               (None, 32)           672         ['input_47[0][0]']               \n",
      "                                                                                                  \n",
      " dense_44 (Dense)               (None, 64)           11328       ['dropout_9[0][0]']              \n",
      "                                                                                                  \n",
      " concatenate_10 (Concatenate)   (None, 64)           0           ['dense_45[0][0]',               \n",
      "                                                                  'dense_46[0][0]']               \n",
      "                                                                                                  \n",
      " dropout_10 (Dropout)           (None, 64)           0           ['dense_44[0][0]']               \n",
      "                                                                                                  \n",
      " concatenate_11 (Concatenate)   (None, 128)          0           ['concatenate_10[0][0]',         \n",
      "                                                                  'dropout_10[0][0]']             \n",
      "                                                                                                  \n",
      " dense_47 (Dense)               (None, 5)            645         ['concatenate_11[0][0]']         \n",
      "                                                                                                  \n",
      "==================================================================================================\n",
      "Total params: 256,888,059\n",
      "Trainable params: 90,235\n",
      "Non-trainable params: 256,797,824\n",
      "__________________________________________________________________________________________________\n"
     ]
    }
   ],
   "source": [
    "modelo_5 = model_5()\n",
    "modelo_5.summary()"
   ]
  },
  {
   "cell_type": "code",
   "execution_count": 234,
   "id": "refined-virus",
   "metadata": {},
   "outputs": [
    {
     "data": {
      "image/png": "[encoded data removed]",
      "text/plain": [
       "<IPython.core.display.Image object>"
      ]
     },
     "execution_count": 234,
     "metadata": {},
     "output_type": "execute_result"
    }
   ],
   "source": [
    "from keras.utils import plot_model\n",
    "plot_model(modelo_5, show_shapes = True)"
   ]
  },
  {
   "cell_type": "code",
   "execution_count": 228,
   "id": "dynamic-resolution",
   "metadata": {},
   "outputs": [],
   "source": [
    "# Vamos criar um dataset\n",
    "def create_ds(sentences, characters,positional_encoding,line_encoding,labels):\n",
    "    \n",
    "    #ds = tf.data.Dataset.from_tensor_slices(((sentences,characters), labels))\n",
    "    \n",
    "    # outra forma de fazê-lo\n",
    "    data = tf.data.Dataset.from_tensor_slices((sentences,characters,positional_encoding,line_encoding))\n",
    "    labels = tf.data.Dataset.from_tensor_slices(labels)\n",
    "    ds = tf.data.Dataset.zip((data,labels))\n",
    "    \n",
    "    AUTO = tf.data.experimental.AUTOTUNE\n",
    "    ds = ds.batch(batch_size = CFG.batch, drop_remainder = False)\n",
    "    # Reduz o tempo de ir buscar os dados com cpu \n",
    "    # Autotune implica que vai buscar o máximo de dados de uma vez que é possível\n",
    "    ds = ds.prefetch(buffer_size=AUTO)\n",
    "    \n",
    "    return ds"
   ]
  },
  {
   "cell_type": "code",
   "execution_count": 229,
   "id": "satisfied-granny",
   "metadata": {},
   "outputs": [],
   "source": [
    "train_ds = create_ds(train_sentences,train_chars,train_line_number_one_hot ,train_total_lines_one_hot,train_labels_encoded_OH)\n",
    "test_ds = create_ds(test_sentences,test_chars,test_line_number_one_hot ,test_total_lines_one_hot, test_labels_encoded_OH)\n",
    "valid_ds = create_ds(valid_sentences,valid_chars,valid_line_number_one_hot ,valid_total_lines_one_hot, valid_labels_encoded_OH)"
   ]
  },
  {
   "cell_type": "code",
   "execution_count": 235,
   "id": "threaded-retrieval",
   "metadata": {},
   "outputs": [
    {
     "name": "stdout",
     "output_type": "stream",
     "text": [
      "Epoch 1/3\n",
      "281/281 [==============================] - 126s 360ms/step - loss: 1.2039 - accuracy: 0.6540 - precision_11: 0.8693 - recall_11: 0.3378 - val_loss: 1.0190 - val_accuracy: 0.7876 - val_precision_11: 0.8879 - val_recall_11: 0.5662\n",
      "Epoch 2/3\n",
      "281/281 [==============================] - 96s 343ms/step - loss: 1.0118 - accuracy: 0.7885 - precision_11: 0.8773 - recall_11: 0.6113 - val_loss: 0.9758 - val_accuracy: 0.8052 - val_precision_11: 0.8892 - val_recall_11: 0.6616\n",
      "Epoch 3/3\n",
      "281/281 [==============================] - 92s 326ms/step - loss: 0.9901 - accuracy: 0.7981 - precision_11: 0.8805 - recall_11: 0.6536 - val_loss: 0.9628 - val_accuracy: 0.8095 - val_precision_11: 0.8933 - val_recall_11: 0.6735\n"
     ]
    }
   ],
   "source": [
    "history = modelo_5.fit(train_ds,\n",
    "                    validation_data = valid_ds,\n",
    "                    steps_per_epoch = int(0.1*len(train_ds)), # speed up trainin  \n",
    "                    epochs = 3,\n",
    "                    validation_steps = int(0.1*len(valid_ds)),\n",
    "                   )"
   ]
  },
  {
   "cell_type": "code",
   "execution_count": 236,
   "id": "apparent-anime",
   "metadata": {},
   "outputs": [
    {
     "name": "stdout",
     "output_type": "stream",
     "text": [
      "471/471 [==============================] - 59s 109ms/step\n",
      "the model 1 results are {'accuracy': 80.73336651733865, 'precision': 0.8067601092831316, 'recall': 0.8073336651733864, 'f1': 0.8053815616209449}\n",
      "\n",
      "the baseline results are {'accuracy': 80.74332171893147, 'precision': 0.8072802705384735, 'recall': 0.8074332171893147, 'f1': 0.8070706622456532}\n"
     ]
    }
   ],
   "source": [
    "test_pred_probs = modelo_5.predict(test_ds)\n",
    "test_pred = tf.argmax(test_pred_probs, axis = 1) # get the index of the highest value\n",
    "model_5_results = calculate_results(test_labels_encoded, test_pred)\n",
    "print(f'the model 1 results are {model_5_results}\\n')\n",
    "print(f'the baseline results are {model_2_results}')"
   ]
  },
  {
   "cell_type": "code",
   "execution_count": null,
   "id": "mobile-stream",
   "metadata": {},
   "outputs": [],
   "source": []
  },
  {
   "cell_type": "code",
   "execution_count": null,
   "id": "accurate-quantum",
   "metadata": {},
   "outputs": [],
   "source": []
  },
  {
   "cell_type": "markdown",
   "id": "industrial-patch",
   "metadata": {},
   "source": [
    "# Model 6 : Model 1 with positional encoding "
   ]
  },
  {
   "cell_type": "code",
   "execution_count": 282,
   "id": "differential-memorial",
   "metadata": {},
   "outputs": [],
   "source": [
    "def model_6():\n",
    "    \n",
    "    # Token Inputs\n",
    "    token_input = layers.Input(shape = (1,), dtype = tf.string)\n",
    "    text_vectores = vect_text(token_input)\n",
    "    embeding = embedding(text_vectores)\n",
    "    print(embeding.shape)\n",
    "    x = layers.Conv1D(64, kernel_size = 5, padding = 'same', activation = 'swish')(embeding)\n",
    "    print(x.shape)\n",
    "    x = layers.GlobalAveragePooling1D()(x)\n",
    "    print(x.shape)\n",
    "    #dropout = layers.Dropout(0.5)(x)\n",
    "    y = layers.Dense(64, activation = 'swish')(x)\n",
    "    y = layers.Dropout(0.5)(y)\n",
    "    \n",
    "    # Positional Encoding \n",
    "    Positional_encoding = layers.Input(shape = (17,), dtype = tf.float32)\n",
    "    k = layers.Dense(32, activation = 'swish')(Positional_encoding)\n",
    "    \n",
    "    # Line Number Encoding \n",
    "    Lines_encoding = layers.Input(shape = (20,), dtype = tf.float32)\n",
    "    j = layers.Dense(32, activation = 'swish')(Lines_encoding)\n",
    "    \n",
    "    # Combine Embeddings\n",
    "    embed_combo = layers.Concatenate()([k,j])\n",
    "    #embed_combo = layers.Dropout(0.5)(embed_combo)\n",
    "    # Final Combo\n",
    "    final_combo = layers.Concatenate()([embed_combo, y])\n",
    "    \n",
    "    output = layers.Dense(5, activation = 'softmax')(final_combo)\n",
    "    \n",
    "    model = tf.keras.Model(inputs= [token_input,Positional_encoding ,Lines_encoding]\n",
    "                           , outputs = output)\n",
    "    \n",
    "    LOSS = tf.keras.losses.CategoricalCrossentropy(label_smoothing = 0.2)\n",
    "    METRICS = ['accuracy', tf.keras.metrics.Precision(), tf.keras.metrics.Recall()]\n",
    "    OPT = tf.keras.optimizers.Adam(0.001)\n",
    "    model.compile(loss = LOSS,\n",
    "                optimizer = OPT,\n",
    "                metrics = METRICS)\n",
    "    \n",
    "    return model"
   ]
  },
  {
   "cell_type": "code",
   "execution_count": 241,
   "id": "controlled-implementation",
   "metadata": {},
   "outputs": [],
   "source": [
    "# Vamos criar um dataset\n",
    "def create_ds(sentences,positional_encoding,line_encoding,labels):\n",
    "    \n",
    "    #ds = tf.data.Dataset.from_tensor_slices(((sentences,characters), labels))\n",
    "    \n",
    "    # outra forma de fazê-lo\n",
    "    data = tf.data.Dataset.from_tensor_slices((sentences,positional_encoding,line_encoding))\n",
    "    labels = tf.data.Dataset.from_tensor_slices(labels)\n",
    "    ds = tf.data.Dataset.zip((data,labels))\n",
    "    \n",
    "    AUTO = tf.data.experimental.AUTOTUNE\n",
    "    ds = ds.batch(batch_size = CFG.batch, drop_remainder = False)\n",
    "    # Reduz o tempo de ir buscar os dados com cpu \n",
    "    # Autotune implica que vai buscar o máximo de dados de uma vez que é possível\n",
    "    ds = ds.prefetch(buffer_size=AUTO)\n",
    "    \n",
    "    return ds"
   ]
  },
  {
   "cell_type": "code",
   "execution_count": 242,
   "id": "minor-temple",
   "metadata": {},
   "outputs": [],
   "source": [
    "train_ds = create_ds(train_sentences,train_line_number_one_hot ,train_total_lines_one_hot,train_labels_encoded_OH)\n",
    "test_ds = create_ds(test_sentences,test_line_number_one_hot ,test_total_lines_one_hot, test_labels_encoded_OH)\n",
    "valid_ds = create_ds(valid_sentences,valid_line_number_one_hot ,valid_total_lines_one_hot, valid_labels_encoded_OH)"
   ]
  },
  {
   "cell_type": "code",
   "execution_count": 283,
   "id": "presidential-friendly",
   "metadata": {},
   "outputs": [
    {
     "name": "stdout",
     "output_type": "stream",
     "text": [
      "(None, 44, 128)\n",
      "(None, 44, 64)\n",
      "(None, 64)\n"
     ]
    },
    {
     "ename": "NameError",
     "evalue": "name 'plot_model' is not defined",
     "output_type": "error",
     "traceback": [
      "\u001b[1;31m---------------------------------------------------------------------------\u001b[0m",
      "\u001b[1;31mNameError\u001b[0m                                 Traceback (most recent call last)",
      "\u001b[1;32m<ipython-input-283-a9331c35ad06>\u001b[0m in \u001b[0;36m<module>\u001b[1;34m\u001b[0m\n\u001b[0;32m      1\u001b[0m \u001b[0mmodelo_6\u001b[0m \u001b[1;33m=\u001b[0m \u001b[0mmodel_6\u001b[0m\u001b[1;33m(\u001b[0m\u001b[1;33m)\u001b[0m\u001b[1;33m\u001b[0m\u001b[1;33m\u001b[0m\u001b[0m\n\u001b[1;32m----> 2\u001b[1;33m \u001b[0mplot_model\u001b[0m\u001b[1;33m(\u001b[0m\u001b[0mmodelo_6\u001b[0m\u001b[1;33m,\u001b[0m \u001b[0mshow_shapes\u001b[0m \u001b[1;33m=\u001b[0m \u001b[1;32mTrue\u001b[0m\u001b[1;33m)\u001b[0m\u001b[1;33m\u001b[0m\u001b[1;33m\u001b[0m\u001b[0m\n\u001b[0m",
      "\u001b[1;31mNameError\u001b[0m: name 'plot_model' is not defined"
     ]
    }
   ],
   "source": [
    "modelo_6 = model_6()\n",
    "plot_model(modelo_6, show_shapes = True)"
   ]
  },
  {
   "cell_type": "code",
   "execution_count": 270,
   "id": "hungry-international",
   "metadata": {},
   "outputs": [
    {
     "name": "stdout",
     "output_type": "stream",
     "text": [
      "Epoch 1/3\n",
      "281/281 [==============================] - 119s 421ms/step - loss: 1.1017 - accuracy: 0.7377 - precision_14: 0.9298 - recall_14: 0.4538 - val_loss: 0.9794 - val_accuracy: 0.8122 - val_precision_14: 0.9122 - val_recall_14: 0.6390\n",
      "Epoch 2/3\n",
      "281/281 [==============================] - 112s 399ms/step - loss: 0.9353 - accuracy: 0.8469 - precision_14: 0.9205 - recall_14: 0.7196 - val_loss: 0.9408 - val_accuracy: 0.8314 - val_precision_14: 0.9062 - val_recall_14: 0.7194\n",
      "Epoch 3/3\n",
      "281/281 [==============================] - 106s 376ms/step - loss: 0.9138 - accuracy: 0.8607 - precision_14: 0.9219 - recall_14: 0.7580 - val_loss: 0.9350 - val_accuracy: 0.8314 - val_precision_14: 0.9060 - val_recall_14: 0.7114\n"
     ]
    }
   ],
   "source": [
    "history = modelo_6.fit(train_ds,\n",
    "                    validation_data = valid_ds,\n",
    "                    steps_per_epoch = int(0.1*len(train_ds)), # speed up trainin  \n",
    "                    epochs = 3,\n",
    "                    validation_steps = int(0.1*len(valid_ds)),\n",
    "                   )"
   ]
  },
  {
   "cell_type": "code",
   "execution_count": 271,
   "id": "atomic-nurse",
   "metadata": {},
   "outputs": [
    {
     "name": "stdout",
     "output_type": "stream",
     "text": [
      "471/471 [==============================] - 19s 40ms/step\n",
      "the model 1 results are {'accuracy': 83.42790774846523, 'precision': 0.8347751401032959, 'recall': 0.8342790774846524, 'f1': 0.8324093845252136}\n",
      "\n",
      "the baseline results are {'accuracy': 80.73336651733865, 'precision': 0.8067601092831316, 'recall': 0.8073336651733864, 'f1': 0.8053815616209449}\n"
     ]
    }
   ],
   "source": [
    "test_pred_probs = modelo_6.predict(test_ds)\n",
    "test_pred = tf.argmax(test_pred_probs, axis = 1) # get the index of the highest value\n",
    "model_6_results = calculate_results(test_labels_encoded, test_pred)\n",
    "print(f'the model 1 results are {model_6_results}\\n')\n",
    "print(f'the baseline results are {model_5_results}')"
   ]
  },
  {
   "cell_type": "markdown",
   "id": "differential-airplane",
   "metadata": {},
   "source": [
    "# Save our best model"
   ]
  },
  {
   "cell_type": "code",
   "execution_count": 273,
   "id": "blocked-crack",
   "metadata": {},
   "outputs": [
    {
     "name": "stderr",
     "output_type": "stream",
     "text": [
      "WARNING:absl:Found untraced functions such as _jit_compiled_convolution_op while saving (showing 1 of 1). These functions will not be directly callable after loading.\n"
     ]
    },
    {
     "name": "stdout",
     "output_type": "stream",
     "text": [
      "INFO:tensorflow:Assets written to: my_best_nlp_model\\assets\n"
     ]
    },
    {
     "name": "stderr",
     "output_type": "stream",
     "text": [
      "INFO:tensorflow:Assets written to: my_best_nlp_model\\assets\n"
     ]
    }
   ],
   "source": [
    "modelo_6.save(\"my_best_nlp_model\")"
   ]
  },
  {
   "cell_type": "code",
   "execution_count": 274,
   "id": "interesting-amount",
   "metadata": {},
   "outputs": [],
   "source": [
    "loaded_model = tf.keras.models.load_model('my_best_nlp_model')\n"
   ]
  },
  {
   "cell_type": "code",
   "execution_count": null,
   "id": "reasonable-dance",
   "metadata": {},
   "outputs": [],
   "source": []
  },
  {
   "cell_type": "code",
   "execution_count": null,
   "id": "extensive-reservation",
   "metadata": {},
   "outputs": [],
   "source": []
  },
  {
   "cell_type": "code",
   "execution_count": null,
   "id": "variable-works",
   "metadata": {},
   "outputs": [],
   "source": []
  },
  {
   "cell_type": "markdown",
   "id": "efficient-vintage",
   "metadata": {},
   "source": [
    "# Transformers with Pytorch"
   ]
  },
  {
   "cell_type": "code",
   "execution_count": 539,
   "id": "frequent-hunger",
   "metadata": {},
   "outputs": [
    {
     "data": {
      "text/html": [
       "<div>\n",
       "<style scoped>\n",
       "    .dataframe tbody tr th:only-of-type {\n",
       "        vertical-align: middle;\n",
       "    }\n",
       "\n",
       "    .dataframe tbody tr th {\n",
       "        vertical-align: top;\n",
       "    }\n",
       "\n",
       "    .dataframe thead th {\n",
       "        text-align: right;\n",
       "    }\n",
       "</style>\n",
       "<table border=\"1\" class=\"dataframe\">\n",
       "  <thead>\n",
       "    <tr style=\"text-align: right;\">\n",
       "      <th></th>\n",
       "      <th>line_number</th>\n",
       "      <th>target</th>\n",
       "      <th>text</th>\n",
       "      <th>total_lines</th>\n",
       "    </tr>\n",
       "  </thead>\n",
       "  <tbody>\n",
       "    <tr>\n",
       "      <th>0</th>\n",
       "      <td>0</td>\n",
       "      <td>OBJECTIVE</td>\n",
       "      <td>To investigate the efficacy of  weeks of daily...</td>\n",
       "      <td>12</td>\n",
       "    </tr>\n",
       "    <tr>\n",
       "      <th>1</th>\n",
       "      <td>1</td>\n",
       "      <td>METHODS</td>\n",
       "      <td>A total of  patients with primary knee OA were...</td>\n",
       "      <td>12</td>\n",
       "    </tr>\n",
       "    <tr>\n",
       "      <th>2</th>\n",
       "      <td>2</td>\n",
       "      <td>METHODS</td>\n",
       "      <td>Outcome measures included pain reduction and i...</td>\n",
       "      <td>12</td>\n",
       "    </tr>\n",
       "    <tr>\n",
       "      <th>3</th>\n",
       "      <td>3</td>\n",
       "      <td>METHODS</td>\n",
       "      <td>Pain was assessed using the visual analog pain...</td>\n",
       "      <td>12</td>\n",
       "    </tr>\n",
       "    <tr>\n",
       "      <th>4</th>\n",
       "      <td>4</td>\n",
       "      <td>METHODS</td>\n",
       "      <td>Secondary outcome measures included the Wester...</td>\n",
       "      <td>12</td>\n",
       "    </tr>\n",
       "  </tbody>\n",
       "</table>\n",
       "</div>"
      ],
      "text/plain": [
       "   line_number     target                                               text  \\\n",
       "0            0  OBJECTIVE  To investigate the efficacy of  weeks of daily...   \n",
       "1            1    METHODS  A total of  patients with primary knee OA were...   \n",
       "2            2    METHODS  Outcome measures included pain reduction and i...   \n",
       "3            3    METHODS  Pain was assessed using the visual analog pain...   \n",
       "4            4    METHODS  Secondary outcome measures included the Wester...   \n",
       "\n",
       "   total_lines  \n",
       "0           12  \n",
       "1           12  \n",
       "2           12  \n",
       "3           12  \n",
       "4           12  "
      ]
     },
     "execution_count": 539,
     "metadata": {},
     "output_type": "execute_result"
    }
   ],
   "source": [
    "train_df.head()"
   ]
  },
  {
   "cell_type": "code",
   "execution_count": null,
   "id": "coated-czech",
   "metadata": {},
   "outputs": [],
   "source": []
  },
  {
   "cell_type": "code",
   "execution_count": 540,
   "id": "champion-motor",
   "metadata": {},
   "outputs": [],
   "source": [
    "#torch libs\n",
    "import torch\n",
    "from torch.nn.utils.rnn import pad_sequence\n",
    "from torch.utils.data import DataLoader, Dataset\n",
    "import torch.nn as nn\n",
    "import torch.optim as optim\n",
    "import numpy as np\n",
    "from sklearn.preprocessing import LabelEncoder\n"
   ]
  },
  {
   "cell_type": "code",
   "execution_count": 541,
   "id": "present-delaware",
   "metadata": {},
   "outputs": [],
   "source": [
    "#remove special chars\n",
    "import string\n",
    "exclude = list(string.punctuation)#set of all special chars\n",
    "del exclude[13]\n",
    "del exclude[11]"
   ]
  },
  {
   "cell_type": "code",
   "execution_count": 542,
   "id": "bronze-strike",
   "metadata": {},
   "outputs": [
    {
     "name": "stdout",
     "output_type": "stream",
     "text": [
      "Wall time: 1min 5s\n"
     ]
    }
   ],
   "source": [
    "%%time\n",
    "#remove all the special chars\n",
    "train_df['text'] = train_df.text.apply(lambda x: ''.join(ch for ch in x if ch not in exclude))\n",
    "test_df['text'] = test_df.text.apply(lambda x: ''.join(ch for ch in x if ch not in exclude))\n",
    "valid_df['text'] = valid_df.text.apply(lambda x: ''.join(ch for ch in x if ch not in exclude))"
   ]
  },
  {
   "cell_type": "code",
   "execution_count": 543,
   "id": "objective-adams",
   "metadata": {},
   "outputs": [],
   "source": [
    "train_sentences = train_df['text'].to_list()\n",
    "test_sentences = test_df['text'].to_list()\n",
    "valid_sentences = valid_df['text'].to_list()"
   ]
  },
  {
   "cell_type": "markdown",
   "id": "atlantic-confidentiality",
   "metadata": {},
   "source": [
    "## Creating pytorch dataset in two phases:\n",
    "<br>\n",
    "\n",
    "- **First** we need to create a vocabulary, and a mapping that takes gets word to and index and vice versa (tokenization process).\n",
    "<br>\n",
    "- **Second** we build the pytorch datasets"
   ]
  },
  {
   "cell_type": "code",
   "execution_count": 544,
   "id": "oriented-fashion",
   "metadata": {},
   "outputs": [
    {
     "data": {
      "text/plain": [
       "(21.6123028215952, 11.371616908974437)"
      ]
     },
     "execution_count": 544,
     "metadata": {},
     "output_type": "execute_result"
    }
   ],
   "source": [
    "sent_lens = [len(sentences.split()) -1 for sentences in train_sentences]\n",
    "avg_sentence_length = np.mean(sent_lens)\n",
    "std_sentence_length = np.std(sent_lens)\n",
    "avg_sentence_length, std_sentence_length"
   ]
  },
  {
   "cell_type": "code",
   "execution_count": 545,
   "id": "concrete-basics",
   "metadata": {},
   "outputs": [
    {
     "data": {
      "text/plain": [
       "44.0"
      ]
     },
     "execution_count": 545,
     "metadata": {},
     "output_type": "execute_result"
    }
   ],
   "source": [
    "percentile_96 = np.percentile(sent_lens, 96)\n",
    "percentile_96"
   ]
  },
  {
   "cell_type": "markdown",
   "id": "christian-helmet",
   "metadata": {},
   "source": [
    "# **CONFIGURATIONS!!!!**"
   ]
  },
  {
   "cell_type": "code",
   "execution_count": 613,
   "id": "worthy-recognition",
   "metadata": {},
   "outputs": [],
   "source": [
    "def padder(vec ,max_len = CFG.padding):\n",
    "    if (len(vec) > max_len):\n",
    "        return vec[:max_len]\n",
    "    elif(len(vec) == max_len):\n",
    "        return vec\n",
    "    else:\n",
    "        diff = max_len - len(vec)\n",
    "        return vec+diff*[0]\n",
    "\n",
    "class CFG:\n",
    "    DEBUG = True\n",
    "    freq = 2\n",
    "    max_vocab_size = 68000\n",
    "    text = 'text'\n",
    "    target = 'target'\n",
    "    Trans = padder\n",
    "    padding = int(percentile_96)\n",
    "    batch_size = 32\n",
    "    pad_index = 0\n",
    "    filters = 16\n",
    "    VOCAB_SIZE = 68000 \n",
    "    embedding_dim = 128"
   ]
  },
  {
   "cell_type": "code",
   "execution_count": null,
   "id": "ecological-rehabilitation",
   "metadata": {},
   "outputs": [],
   "source": []
  },
  {
   "cell_type": "code",
   "execution_count": 547,
   "id": "alive-warrant",
   "metadata": {},
   "outputs": [],
   "source": [
    "\n",
    "#######################################################\n",
    "#               Define Vocabulary Class\n",
    "#######################################################\n",
    "class Vocabulary:\n",
    "  \n",
    "    '''\n",
    "    __init__ to  initiate our vocab dictionaries\n",
    "    '''\n",
    "    def __init__(self, freq_threshold = 2, max_size = 68000):\n",
    "        '''\n",
    "        freq_threshold : the minimum times a word must occur in corpus to be treated in vocab\n",
    "        max_size : max source vocab size. Eg. if set to 10,000, we pick the top 10,000 most frequent\n",
    "        words and discard others\n",
    "        '''\n",
    "        #initiate the index to token dict\n",
    "        ## <PAD> -> padding, used for padding the shorter sentences in a batch to match the\n",
    "        # length of longest sentence in the batch\n",
    "        ## <SOS> -> start token, added in front of each sentence to signify the start of sentence\n",
    "        ## <EOS> -> End of sentence token, added to the end of each sentence to signify the end of \n",
    "        #sentence\n",
    "        ## <UNK> -> words which are not found in the vocab are replace by this token\n",
    "        self.itos = {0: '<PAD>', 1:'<SOS>', 2:'<EOS>', 3: '<UNK>'}\n",
    "        \n",
    "        #initiate the token to index dict\n",
    "        self.stoi = {k:j for j,k in self.itos.items()} \n",
    "        \n",
    "        self.freq_threshold = freq_threshold\n",
    "        self.max_size = max_size\n",
    "    \n",
    "    '''\n",
    "    __len__ is used by dataloader later to create batches\n",
    "    '''\n",
    "    def __len__(self):\n",
    "        return len(self.itos)\n",
    "    \n",
    "    '''\n",
    "    a simple tokenizer to split on space and converts the sentence to list of words\n",
    "    '''\n",
    "    \n",
    "    def tokenizer(self,text):\n",
    "        return [tok.lower().strip() for tok in text.split(' ')]\n",
    "    \n",
    "    '''\n",
    "    build the vocab: create a dictionary mapping of index to string (itos) and string to index (stoi)\n",
    "    output ex. for stoi -> {'the':5, 'a':6, 'an':7}\n",
    "    '''\n",
    "    def build_vocabulary(self, sentence_list):\n",
    "        #calculate the frequencies of each word first to remove the words with freq < freq_threshold\n",
    "        frequencies = {}  #init the freq dict\n",
    "        idx = 4 #index from which we want our dict to start. We already used 4 indexes for pad, start, end, unk\n",
    "        \n",
    "        #calculate freq of words\n",
    "        for sentence in sentence_list:\n",
    "            \n",
    "            for word in self.tokenizer(str(sentence)):\n",
    "                if word not in frequencies.keys():\n",
    "                    frequencies[word]=1\n",
    "                else:\n",
    "                    frequencies[word]+=1\n",
    "                    \n",
    "                    \n",
    "        #limit vocab by removing low freq words\n",
    "        frequencies = {k:v for k,v in frequencies.items() if v>self.freq_threshold} \n",
    "        \n",
    "        #limit vocab to the max_size specified\n",
    "        frequencies = dict(sorted(frequencies.items(), key = lambda x: -x[1])[:self.max_size-idx]) \n",
    "        # pq usas idx =4 for pad, start, end , unk\n",
    "            \n",
    "        #create vocab\n",
    "        for word in frequencies.keys():\n",
    "            self.stoi[word] = idx\n",
    "            self.itos[idx] = word\n",
    "            idx+=1\n",
    "            \n",
    "    '''\n",
    "    convert the list of words to a list of corresponding indexes\n",
    "    '''    \n",
    "    def numericalize(self, text):\n",
    "        #tokenize text\n",
    "        tokenized_text = self.tokenizer(text)\n",
    "        numericalized_text = []\n",
    "        for token in tokenized_text:\n",
    "            if token in self.stoi.keys():\n",
    "                numericalized_text.append(self.stoi[token])\n",
    "            else: #out-of-vocab words are represented by UNK token index\n",
    "                numericalized_text.append(self.stoi['<UNK>'])\n",
    "                \n",
    "        return numericalized_text"
   ]
  },
  {
   "cell_type": "code",
   "execution_count": 548,
   "id": "limited-shannon",
   "metadata": {},
   "outputs": [
    {
     "data": {
      "text/plain": [
       "'This study analyzed liver function abnormalities in heart failure patients admitted with severe acute decompensated heart failure  ADHF  .\\n'"
      ]
     },
     "execution_count": 548,
     "metadata": {},
     "output_type": "execute_result"
    }
   ],
   "source": [
    "test_sentences[0]"
   ]
  },
  {
   "cell_type": "code",
   "execution_count": 549,
   "id": "incoming-crowd",
   "metadata": {},
   "outputs": [
    {
     "name": "stdout",
     "output_type": "stream",
     "text": [
      "numericalize -> cat and a dog:  [10259, 8, 13, 3]\n"
     ]
    }
   ],
   "source": [
    "test_vocab = Vocabulary(freq_threshold = 2, max_size = 68000)\n",
    "\n",
    "test_vocab.build_vocabulary(test_sentences)\n",
    "\n",
    "#print('index to string: ',test_vocab.itos)\n",
    "#print('string to index:',test_vocab.stoi)\n",
    "\n",
    "print('numericalize -> cat and a dog: ', test_vocab.numericalize('cat and a dog'))"
   ]
  },
  {
   "cell_type": "code",
   "execution_count": 550,
   "id": "catholic-nightlife",
   "metadata": {},
   "outputs": [],
   "source": [
    "##########################\n",
    "#   Create Dataset Class\n",
    "##########################\n",
    "from sklearn.preprocessing import OneHotEncoder\n",
    "\n",
    "\n",
    "\n",
    "class Create_Dataset(Dataset):\n",
    "    '''\n",
    "    df : dataframe\n",
    "    source_column : the column with the text\n",
    "    target_column : Column with the target\n",
    "    transform : for possible augmentations\n",
    "    freq_threshold: minimum amount of times a word needs to be appear in the corpus to be considered for vocab\n",
    "    max_vocab_size : self explanatory\n",
    "    '''\n",
    "    \n",
    "    def __init__(self, df, source_column = CFG.text, target_column = CFG.target, transform = CFG.Trans,\n",
    "                freq_threshold = CFG.freq , max_vocab_size = CFG.max_vocab_size):\n",
    "        \n",
    "        self.df = df\n",
    "        self.transform = transform\n",
    "        self.source_texts = self.df[source_column]\n",
    "        self.target_classes = self.df[target_column]\n",
    "        \n",
    "        ## Create Vocab for source_text\n",
    "        # Iniciar vocab instance\n",
    "        self.source_vocab = Vocabulary(freq_threshold,max_vocab_size)\n",
    "        self.source_vocab.build_vocabulary(self.source_texts.tolist())\n",
    "\n",
    "        #self.label_encoder =  LabelEncoder()\n",
    "        self.label_encoder = OneHotEncoder(sparse = False) \n",
    "        self.label_encoder.fit(self.target_classes.unique().reshape(-1,1))\n",
    "        self.classes = len(self.target_classes.unique())\n",
    "    def __len__(self):\n",
    "        return len(self.df)\n",
    "    \n",
    "    # Isto vai-te buscar automaticamente uma linha do df e transforma-a em tokens + target\n",
    "    # não precisas de inicializar, podes apenas chamar o objecto e ver o seu índice\n",
    "    \n",
    "    def __getitem__(self, index):\n",
    "        source_text = self.source_texts[index]\n",
    "        target_classes = self.target_classes[index]\n",
    "        \n",
    "        # tokenize texts ['<SOS>','hello','how','are','you','<EOS>'] -> [1,11,123,1232,21,2]\n",
    "        tokenized_source = [self.source_vocab.stoi[\"<SOS>\"]]\n",
    "        tokenized_source += self.source_vocab.numericalize(source_text)\n",
    "        tokenized_source.append(self.source_vocab.stoi['<EOS>'])\n",
    "        \n",
    "        # tokenize targets\n",
    "        train_labels_encoded = self.label_encoder.transform(np.array([target_classes]).reshape(-1, 1))\n",
    "        \n",
    "        if self.transform is not None:\n",
    "            tokenized_source = self.transform(tokenized_source)\n",
    "        \n",
    "        \n",
    "        return torch.tensor(tokenized_source), torch.tensor(train_labels_encoded[0])"
   ]
  },
  {
   "cell_type": "code",
   "execution_count": 551,
   "id": "colonial-atlas",
   "metadata": {},
   "outputs": [
    {
     "data": {
      "text/plain": [
       "(tensor([   1,   13,  721, 2011,  100,   15,  191,   12,    7,   82,    9,  115,\n",
       "           31,    7,  382,   22,    9, 3990,  240,  305,    8,  561,  562, 3106,\n",
       "          253,    4, 9082,    4,    6,    2,    0,    0,    0,    0,    0,    0,\n",
       "            0,    0,    0,    0,    0,    0,    0,    0]),\n",
       " tensor([0., 0., 0., 0., 1.], dtype=torch.float64))"
      ]
     },
     "execution_count": 551,
     "metadata": {},
     "output_type": "execute_result"
    }
   ],
   "source": [
    "testing_dataset = Create_Dataset(df = test_df)\n",
    "testing_dataset[1]"
   ]
  },
  {
   "cell_type": "code",
   "execution_count": 552,
   "id": "under-burlington",
   "metadata": {},
   "outputs": [
    {
     "name": "stdout",
     "output_type": "stream",
     "text": [
      "Wall time: 7.57 s\n"
     ]
    }
   ],
   "source": [
    "%%time\n",
    "train_ds = Create_Dataset(df = train_df)"
   ]
  },
  {
   "cell_type": "markdown",
   "id": "straight-restoration",
   "metadata": {},
   "source": [
    "##### The problem is that we are creating a vocab for each corpus, and in the test and val corpus we have less words, we thus create another class for these, that will inherit the train vocab:"
   ]
  },
  {
   "cell_type": "code",
   "execution_count": 553,
   "id": "undefined-myrtle",
   "metadata": {},
   "outputs": [],
   "source": [
    "class Valid_test_ds:\n",
    "    def __init__(self, train_ds, df, source_column = CFG.text, \n",
    "                 target_column = CFG.target, transform = CFG.Trans):\n",
    "        self.df = df\n",
    "        self.transform = transform\n",
    "        \n",
    "        self.train_ds = train_ds\n",
    "        \n",
    "        self.source_texts = self.df[source_column]\n",
    "        self.target_classes = self.df[target_column]\n",
    "        \n",
    "        \n",
    "    def __len__(self):\n",
    "        return len(self.df)\n",
    "    \n",
    "    def __getitem__(self, index):\n",
    "        source_text = self.source_texts[index]\n",
    "        target_classe = self.target_classes[index]\n",
    "        \n",
    "        \n",
    "        # tokenize texts ['<SOS>','hello','how','are','you','<EOS>'] -> [1,11,123,1232,21,2]\n",
    "        tokenized_source = [self.train_ds.source_vocab.stoi[\"<SOS>\"]]\n",
    "        tokenized_source += self.train_ds.source_vocab.numericalize(source_text)\n",
    "        tokenized_source.append(self.train_ds.source_vocab.stoi['<EOS>'])\n",
    "        \n",
    "        # tokenize targets\n",
    "        labels_encoded = self.train_ds.label_encoder.transform(np.array([target_classe]).reshape(-1, 1))\n",
    "        \n",
    "        if self.transform is not None:\n",
    "            tokenized_source = self.transform(tokenized_source)\n",
    "        \n",
    "        return torch.tensor(tokenized_source), torch.tensor(labels_encoded[0])"
   ]
  },
  {
   "cell_type": "code",
   "execution_count": 554,
   "id": "requested-enclosure",
   "metadata": {},
   "outputs": [],
   "source": [
    "valid_ds = Valid_test_ds(train_ds,df = valid_df)\n",
    "test_ds = Valid_test_ds(train_ds,df = test_df)"
   ]
  },
  {
   "cell_type": "code",
   "execution_count": 555,
   "id": "recognized-annex",
   "metadata": {},
   "outputs": [
    {
     "data": {
      "text/plain": [
       "tensor([   1,  191,   25,   36, 1550,  186,  116,   17,  500,  403,   32, 9623,\n",
       "          24,    6,    2,    0,    0,    0,    0,    0,    0,    0,    0,    0,\n",
       "           0,    0,    0,    0,    0,    0,    0,    0,    0,    0,    0,    0,\n",
       "           0,    0,    0,    0,    0,    0,    0,    0])"
      ]
     },
     "execution_count": 555,
     "metadata": {},
     "output_type": "execute_result"
    }
   ],
   "source": [
    "valid_ds[1][0]"
   ]
  },
  {
   "cell_type": "code",
   "execution_count": 556,
   "id": "greek-capitol",
   "metadata": {},
   "outputs": [
    {
     "data": {
      "text/plain": [
       "('It is not clear whether these patients would benefit from antifungal treatment .\\n',\n",
       " 'BACKGROUND')"
      ]
     },
     "execution_count": 556,
     "metadata": {},
     "output_type": "execute_result"
    }
   ],
   "source": [
    "valid_df['text'][1],valid_df['target'][1]"
   ]
  },
  {
   "cell_type": "markdown",
   "id": "effective-bhutan",
   "metadata": {},
   "source": [
    "### Create Dataloaders:\n",
    "<br>\n",
    "\n",
    "- Note on dataloaders: we will use collate fn. This function runs AFTER the batch has been created using dataloader. We use this function to create paddings in our batch. Para tal usamos \"pad_sequence\" que vem de torch.nn.utils.rnn , que escolhe a frase mais longa e depois utiliza-a para padding."
   ]
  },
  {
   "cell_type": "code",
   "execution_count": 557,
   "id": "extended-democrat",
   "metadata": {},
   "outputs": [],
   "source": [
    "#################\n",
    "#O prob com este padder é que mete tudo ao max do batch size, e eu nao quero isso,\n",
    "#por isso nao o uso por enquanto\n",
    "# Além disso tb deixava a shape do data loader ao contrário como [22,32] em vez de [32,22]\n",
    "# isto implicava que cada batch tinha um token de cada frase no batch, ex: o primeiro batch tinha \n",
    "# apenas 32 SOS tokens.... o que eu acho que não está correto\n",
    "##################\n",
    "\n",
    "class Padding:\n",
    "    def __init__(self,pad_indx = CFG.pad_index):\n",
    "        self.pad_indx = pad_indx\n",
    "    # tal como getitem é um étodo de default\n",
    "    # 1: objecto é criado no DataLoader (mais à frente)\n",
    "    # 2: se obj(batch) for chamado o call corre por defeito\n",
    "    def __call__(self, batch):\n",
    "        \n",
    "        text_in_batch  = [item[0] for item in batch]\n",
    "        #print(self.pad_indx)\n",
    "        print(np.array(text_in_batch).shape)\n",
    "        padded_text = pad_sequence(text_in_batch, batch_first= False, padding_value = self.pad_indx )\n",
    "        \n",
    "        target = [item[1] for item in batch]\n",
    "        #usas stack pq o target é uma lista de tensores torch\n",
    "       \n",
    "        return padded_text, torch.stack(target)"
   ]
  },
  {
   "cell_type": "code",
   "execution_count": 558,
   "id": "legendary-saturn",
   "metadata": {},
   "outputs": [],
   "source": [
    "################################\n",
    "# Defining DataLoaders functions\n",
    "################################\n",
    "\n",
    "def get_train_loader(dataset, batch_size = CFG.batch_size, num_workers = 0, shuffle = True,\n",
    "                    pin_memory = True):\n",
    "    # PAD aqui é zero\n",
    "    pad_indx = dataset.source_vocab.stoi['<PAD>']\n",
    "    loader = DataLoader(dataset, batch_size = batch_size, num_workers = num_workers, \n",
    "                       shuffle = shuffle, pin_memory = pin_memory, collate_fn = None)\n",
    "    \n",
    "    return loader\n",
    "\n",
    "\n",
    "def get_validation_loader(dataset,train_dataset, batch_size = CFG.batch_size, num_workers = 0, \n",
    "                          shuffle = True,\n",
    "                          pin_memory = True):\n",
    "    pad_indx = train_dataset.source_vocab.stoi['<PAD>']\n",
    "    loader = DataLoader(dataset, batch_size = batch_size, num_workers = num_workers, \n",
    "                       shuffle = shuffle, pin_memory = pin_memory, collate_fn = None)\n",
    "    \n",
    "    return loader"
   ]
  },
  {
   "cell_type": "code",
   "execution_count": 559,
   "id": "speaking-senator",
   "metadata": {},
   "outputs": [
    {
     "data": {
      "text/plain": [
       "__main__.Create_Dataset"
      ]
     },
     "execution_count": 559,
     "metadata": {},
     "output_type": "execute_result"
    }
   ],
   "source": [
    "train_dataLoader = get_train_loader(train_ds)\n",
    "type(train_dataLoader.dataset)"
   ]
  },
  {
   "cell_type": "code",
   "execution_count": 560,
   "id": "wicked-reconstruction",
   "metadata": {},
   "outputs": [
    {
     "data": {
      "text/plain": [
       "(torch.Size([32, 44]), torch.Size([32, 5]))"
      ]
     },
     "execution_count": 560,
     "metadata": {},
     "output_type": "execute_result"
    }
   ],
   "source": [
    "text = next(iter(train_dataLoader))[0]\n",
    "target = next(iter(train_dataLoader))[1]\n",
    "text.shape, target.shape"
   ]
  },
  {
   "cell_type": "code",
   "execution_count": 561,
   "id": "swiss-overall",
   "metadata": {},
   "outputs": [],
   "source": [
    "valid_dataLoader = get_validation_loader(valid_ds,train_ds)\n",
    "test_dataLoader = get_validation_loader(test_ds,train_ds)"
   ]
  },
  {
   "cell_type": "markdown",
   "id": "exempt-nudist",
   "metadata": {},
   "source": [
    "# Moddeling with Pytorch:\n",
    "<br>\n",
    "\n",
    "* **Primeiro Modelo** - Rnn ou conv básico só para me familiarizar com o pytorch\n",
    "<br>\n",
    "\n",
    "* **Segundo Modelo** - Usar um transformer com Transfer Learning"
   ]
  },
  {
   "cell_type": "code",
   "execution_count": 562,
   "id": "composed-animal",
   "metadata": {},
   "outputs": [],
   "source": [
    "from torch.nn import Module\n",
    "from torch.nn import Conv1d\n",
    "from torch.nn import ReLU\n",
    "from torch.nn import LogSoftmax\n",
    "from torch.nn import MaxPool1d\n",
    "from torch import flatten\n",
    "from torch.nn import AvgPool1d\n",
    "from torch.nn import Linear\n",
    "from torch.optim import Adam\n",
    "from torch.nn import Embedding\n",
    "from torchmetrics.classification import Accuracy\n",
    "from sklearn.metrics import accuracy_score, precision_recall_fscore_support\n",
    "import time\n",
    "import warnings"
   ]
  },
  {
   "cell_type": "code",
   "execution_count": null,
   "id": "simple-agent",
   "metadata": {},
   "outputs": [],
   "source": [
    "class Train_CFG:\n",
    "    INIT_LR = 0.001\n",
    "    BATCH = CFG.batch_size\n",
    "    EPOCHS = 3\n",
    "    #TRAIN_SPLIT = 0.8\n",
    "    #VAL_SPLIT = 1-TRAIN_SPLIT\n",
    "\n",
    "# Para tentar activar GPU se houver\n",
    "device = torch.device(\"cuda\" if torch.cuda.is_available() else \"cpu\")"
   ]
  },
  {
   "cell_type": "code",
   "execution_count": 614,
   "id": "needed-antique",
   "metadata": {},
   "outputs": [],
   "source": [
    "# Module é para não usares sequential\n",
    "# usas o module object para subclassing o que te permite:\n",
    "# 1 reutilizar variáveis\n",
    "# 2 implementar costum functions\n",
    "# 3 definir a forward fucntion\n",
    "\n",
    "class first_model(Module):\n",
    "    \n",
    "    def __init__(self, num_channels = CFG.embedding_dim, classes = 5, filters = CFG.filters, kernel_size = 10):\n",
    "        super(first_model,self).__init__()\n",
    "        \n",
    "        self.embed = Embedding(CFG.VOCAB_SIZE, CFG.embedding_dim)\n",
    "        # acho que in_channels é os canais de cor, neste caso 1, e out_channels é equivalente a filters\n",
    "        self.conv1d = Conv1d(in_channels = num_channels, out_channels = filters, stride = 1,kernel_size = kernel_size)\n",
    "        self.MaxPool1d = MaxPool1d(kernel_size = 4)\n",
    "        self.flat = nn.Flatten(start_dim=1)\n",
    "        self.Activation = ReLU()\n",
    "        self.Dense = Linear(in_features = 128, out_features = classes)\n",
    "        self.logSoftmax = LogSoftmax(dim = 1)\n",
    "    \n",
    "    def forward(self, x):\n",
    "        x = self.embed(x)\n",
    "        x = x.transpose(1, 2)\n",
    "        #print(x.shape)\n",
    "        x = self.conv1d(x)\n",
    "        #print(x.shape)\n",
    "        x = self.MaxPool1d(x)\n",
    "        #print(x.shape)\n",
    "        x = self.flat(x)\n",
    "        print(x.shape)\n",
    "        x = self.Activation(x)\n",
    "        #print(x.shape)\n",
    "        x = self.Dense(x)\n",
    "        output = self.logSoftmax(x)\n",
    "        print(output.shape)\n",
    "        return output"
   ]
  },
  {
   "cell_type": "code",
   "execution_count": 616,
   "id": "continued-acquisition",
   "metadata": {},
   "outputs": [],
   "source": [
    "train_steps = len(train_dataLoader)//Train_CFG.BATCH\n",
    "val_steps = len(valid_dataLoader)//Train_CFG.BATCH"
   ]
  },
  {
   "cell_type": "code",
   "execution_count": 643,
   "id": "suffering-delicious",
   "metadata": {},
   "outputs": [],
   "source": [
    "def classification_metric(pred_labels, true_labels):\n",
    "    #.clone().detach()\n",
    "    pred_labels = pred_labels.clone().detach()\n",
    "    true_labels = true_labels.clone().detach()\n",
    "    \n",
    "    pred_labels = np.argmax(pred_labels,axis = 1)\n",
    "    true_labels = np.argmax(true_labels,axis = 1)\n",
    "\n",
    "    accuracy = accuracy_score(true_labels,pred_labels)\n",
    "    precision, recall, f1_score, _ = precision_recall_fscore_support(true_labels,pred_labels, average=\"weighted\")\n",
    "    \n",
    "    #if a:\n",
    "    #    raise Exception(f1_score,recall,pred_labels, true_labels,len(pred_labels),len(true_labels))\n",
    "    \n",
    "    return precision, recall, accuracy,f1_score"
   ]
  },
  {
   "cell_type": "code",
   "execution_count": 623,
   "id": "human-raising",
   "metadata": {},
   "outputs": [],
   "source": [
    "def training(model, train_data, Loss, metric):\n",
    "    train_loss = 0\n",
    "    train_acc = 0\n",
    "    train_prec = 0\n",
    "    train_rec = 0\n",
    "    train_f1 = 0\n",
    "    model.train()\n",
    "    #i = 1\n",
    "    for (x,y) in train_data:\n",
    "        (x,y) = (x.to(device), y.to(device))\n",
    "        \n",
    "        pred = model(x)\n",
    "        loss = Loss(pred, y)\n",
    "        precision, recall, accuracy,f1_score = metric(y,pred)\n",
    "        ## make the gradient zero to then do the backprop and updating of weights\n",
    "        opt.zero_grad()\n",
    "        loss.backward()\n",
    "        opt.step()\n",
    "        \n",
    "        train_prec += precision\n",
    "        train_rec += recall\n",
    "        train_loss += loss\n",
    "        train_acc += accuracy\n",
    "        train_f1 += f1_score\n",
    "        \n",
    "    print('Epoch done')        \n",
    "    return train_loss/len(train_data), train_acc/len(train_data), train_prec/len(train_data), train_rec/len(train_data), train_f1/len(train_data)\n",
    "\n",
    "def evaluation(model, val_data, Loss,metric):\n",
    " \n",
    "    val_loss = 0\n",
    "    val_acc = 0\n",
    "    val_prec = 0\n",
    "    val_rec = 0\n",
    "    val_f1 = 0\n",
    "    model.eval()\n",
    "    # we do this to turn off gradient tracking and computation\n",
    "    with torch.no_grad():\n",
    "        for (x,y) in val_data:\n",
    "            (x,y) = (x.to(device), y.to(device))\n",
    "\n",
    "            pred = model(x)\n",
    "            loss = Loss(pred, y)\n",
    "            precision, recall, accuracy,f1_score = metric(y,pred)\n",
    "\n",
    "            val_loss += loss\n",
    "            val_acc += accuracy\n",
    "            val_prec += precision\n",
    "            val_rec += accuracy\n",
    "            val_f1 += f1_score\n",
    "        \n",
    "    return val_loss/len(val_data), val_acc/len(val_data), val_prec/len(val_data), val_rec/len(val_data), val_f1/len(val_data)"
   ]
  },
  {
   "cell_type": "code",
   "execution_count": 622,
   "id": "african-perry",
   "metadata": {
    "scrolled": true
   },
   "outputs": [
    {
     "name": "stdout",
     "output_type": "stream",
     "text": [
      "Initializing model...\n",
      "Training.....\n",
      "torch.Size([32, 128])\n",
      "torch.Size([32, 5])\n",
      "Epoch done\n",
      "torch.Size([32, 128])\n",
      "torch.Size([32, 5])\n",
      "torch.Size([32, 128])\n",
      "torch.Size([32, 5])\n",
      "torch.Size([32, 128])\n",
      "torch.Size([32, 5])\n",
      "torch.Size([32, 128])\n",
      "torch.Size([32, 5])\n",
      "torch.Size([32, 128])\n",
      "torch.Size([32, 5])\n",
      "torch.Size([32, 128])\n",
      "torch.Size([32, 5])\n",
      "torch.Size([32, 128])\n",
      "torch.Size([32, 5])\n",
      "torch.Size([32, 128])\n",
      "torch.Size([32, 5])\n",
      "torch.Size([32, 128])\n",
      "torch.Size([32, 5])\n",
      "torch.Size([32, 128])\n",
      "torch.Size([32, 5])\n",
      "torch.Size([32, 128])\n",
      "torch.Size([32, 5])\n",
      "torch.Size([32, 128])\n",
      "torch.Size([32, 5])\n",
      "torch.Size([32, 128])\n",
      "torch.Size([32, 5])\n",
      "torch.Size([32, 128])\n",
      "torch.Size([32, 5])\n",
      "torch.Size([32, 128])\n",
      "torch.Size([32, 5])\n",
      "torch.Size([32, 128])\n",
      "torch.Size([32, 5])\n",
      "torch.Size([32, 128])\n",
      "torch.Size([32, 5])\n",
      "torch.Size([32, 128])\n",
      "torch.Size([32, 5])\n",
      "torch.Size([32, 128])\n",
      "torch.Size([32, 5])\n",
      "torch.Size([32, 128])\n",
      "torch.Size([32, 5])\n",
      "torch.Size([32, 128])\n",
      "torch.Size([32, 5])\n",
      "torch.Size([32, 128])\n",
      "torch.Size([32, 5])\n",
      "torch.Size([32, 128])\n",
      "torch.Size([32, 5])\n",
      "torch.Size([32, 128])\n",
      "torch.Size([32, 5])\n",
      "torch.Size([32, 128])\n",
      "torch.Size([32, 5])\n",
      "torch.Size([32, 128])\n",
      "torch.Size([32, 5])\n",
      "torch.Size([32, 128])\n",
      "torch.Size([32, 5])\n",
      "torch.Size([32, 128])\n",
      "torch.Size([32, 5])\n",
      "torch.Size([32, 128])\n",
      "torch.Size([32, 5])\n",
      "torch.Size([32, 128])\n",
      "torch.Size([32, 5])\n",
      "torch.Size([32, 128])\n",
      "torch.Size([32, 5])\n",
      "torch.Size([32, 128])\n",
      "torch.Size([32, 5])\n",
      "torch.Size([32, 128])\n",
      "torch.Size([32, 5])\n",
      "torch.Size([32, 128])\n",
      "torch.Size([32, 5])\n",
      "torch.Size([32, 128])\n",
      "torch.Size([32, 5])\n",
      "torch.Size([32, 128])\n",
      "torch.Size([32, 5])\n",
      "torch.Size([32, 128])\n",
      "torch.Size([32, 5])\n",
      "torch.Size([32, 128])\n",
      "torch.Size([32, 5])\n",
      "torch.Size([32, 128])\n",
      "torch.Size([32, 5])\n",
      "torch.Size([32, 128])\n",
      "torch.Size([32, 5])\n",
      "torch.Size([32, 128])\n",
      "torch.Size([32, 5])\n",
      "torch.Size([32, 128])\n",
      "torch.Size([32, 5])\n",
      "torch.Size([32, 128])\n",
      "torch.Size([32, 5])\n",
      "torch.Size([32, 128])\n",
      "torch.Size([32, 5])\n",
      "torch.Size([32, 128])\n",
      "torch.Size([32, 5])\n",
      "torch.Size([32, 128])\n",
      "torch.Size([32, 5])\n",
      "torch.Size([32, 128])\n",
      "torch.Size([32, 5])\n",
      "torch.Size([32, 128])\n",
      "torch.Size([32, 5])\n",
      "torch.Size([32, 128])\n",
      "torch.Size([32, 5])\n",
      "torch.Size([32, 128])\n",
      "torch.Size([32, 5])\n",
      "torch.Size([32, 128])\n",
      "torch.Size([32, 5])\n",
      "torch.Size([32, 128])\n",
      "torch.Size([32, 5])\n",
      "torch.Size([32, 128])\n",
      "torch.Size([32, 5])\n",
      "torch.Size([32, 128])\n",
      "torch.Size([32, 5])\n",
      "torch.Size([32, 128])\n",
      "torch.Size([32, 5])\n",
      "torch.Size([32, 128])\n",
      "torch.Size([32, 5])\n",
      "torch.Size([32, 128])\n",
      "torch.Size([32, 5])\n",
      "torch.Size([32, 128])\n",
      "torch.Size([32, 5])\n",
      "torch.Size([32, 128])\n",
      "torch.Size([32, 5])\n",
      "torch.Size([32, 128])\n",
      "torch.Size([32, 5])\n",
      "torch.Size([32, 128])\n",
      "torch.Size([32, 5])\n",
      "torch.Size([32, 128])\n",
      "torch.Size([32, 5])\n",
      "torch.Size([32, 128])\n",
      "torch.Size([32, 5])\n",
      "torch.Size([32, 128])\n",
      "torch.Size([32, 5])\n",
      "torch.Size([32, 128])\n",
      "torch.Size([32, 5])\n",
      "torch.Size([32, 128])\n",
      "torch.Size([32, 5])\n",
      "torch.Size([32, 128])\n",
      "torch.Size([32, 5])\n",
      "torch.Size([32, 128])\n",
      "torch.Size([32, 5])\n",
      "torch.Size([32, 128])\n",
      "torch.Size([32, 5])\n",
      "torch.Size([32, 128])\n",
      "torch.Size([32, 5])\n",
      "torch.Size([32, 128])\n",
      "torch.Size([32, 5])\n",
      "torch.Size([32, 128])\n",
      "torch.Size([32, 5])\n",
      "torch.Size([32, 128])\n",
      "torch.Size([32, 5])\n",
      "torch.Size([32, 128])\n",
      "torch.Size([32, 5])\n",
      "torch.Size([32, 128])\n",
      "torch.Size([32, 5])\n",
      "torch.Size([32, 128])\n",
      "torch.Size([32, 5])\n",
      "torch.Size([32, 128])\n",
      "torch.Size([32, 5])\n",
      "torch.Size([32, 128])\n",
      "torch.Size([32, 5])\n",
      "torch.Size([32, 128])\n",
      "torch.Size([32, 5])\n",
      "torch.Size([32, 128])\n",
      "torch.Size([32, 5])\n",
      "torch.Size([32, 128])\n",
      "torch.Size([32, 5])\n",
      "torch.Size([32, 128])\n",
      "torch.Size([32, 5])\n",
      "torch.Size([32, 128])\n",
      "torch.Size([32, 5])\n",
      "torch.Size([32, 128])\n",
      "torch.Size([32, 5])\n",
      "torch.Size([32, 128])\n",
      "torch.Size([32, 5])\n",
      "torch.Size([32, 128])\n",
      "torch.Size([32, 5])\n",
      "torch.Size([32, 128])\n",
      "torch.Size([32, 5])\n",
      "torch.Size([32, 128])\n",
      "torch.Size([32, 5])\n",
      "torch.Size([32, 128])\n",
      "torch.Size([32, 5])\n",
      "torch.Size([32, 128])\n",
      "torch.Size([32, 5])\n",
      "torch.Size([32, 128])\n",
      "torch.Size([32, 5])\n",
      "torch.Size([32, 128])\n",
      "torch.Size([32, 5])\n",
      "torch.Size([32, 128])\n",
      "torch.Size([32, 5])\n",
      "torch.Size([32, 128])\n",
      "torch.Size([32, 5])\n",
      "torch.Size([32, 128])\n",
      "torch.Size([32, 5])\n",
      "torch.Size([32, 128])\n",
      "torch.Size([32, 5])\n",
      "torch.Size([32, 128])\n",
      "torch.Size([32, 5])\n",
      "torch.Size([32, 128])\n",
      "torch.Size([32, 5])\n",
      "torch.Size([32, 128])\n",
      "torch.Size([32, 5])\n",
      "torch.Size([32, 128])\n",
      "torch.Size([32, 5])\n",
      "torch.Size([32, 128])\n",
      "torch.Size([32, 5])\n",
      "torch.Size([32, 128])\n",
      "torch.Size([32, 5])\n",
      "torch.Size([32, 128])\n",
      "torch.Size([32, 5])\n",
      "torch.Size([32, 128])\n",
      "torch.Size([32, 5])\n",
      "torch.Size([32, 128])\n",
      "torch.Size([32, 5])\n",
      "torch.Size([32, 128])\n",
      "torch.Size([32, 5])\n",
      "torch.Size([32, 128])\n",
      "torch.Size([32, 5])\n",
      "torch.Size([32, 128])\n",
      "torch.Size([32, 5])\n",
      "torch.Size([32, 128])\n",
      "torch.Size([32, 5])\n",
      "torch.Size([32, 128])\n",
      "torch.Size([32, 5])\n",
      "torch.Size([32, 128])\n",
      "torch.Size([32, 5])\n",
      "torch.Size([32, 128])\n",
      "torch.Size([32, 5])\n",
      "torch.Size([32, 128])\n",
      "torch.Size([32, 5])\n",
      "torch.Size([32, 128])\n",
      "torch.Size([32, 5])\n",
      "torch.Size([32, 128])\n",
      "torch.Size([32, 5])\n",
      "torch.Size([32, 128])\n",
      "torch.Size([32, 5])\n",
      "torch.Size([32, 128])\n",
      "torch.Size([32, 5])\n",
      "torch.Size([32, 128])\n",
      "torch.Size([32, 5])\n",
      "torch.Size([32, 128])\n",
      "torch.Size([32, 5])\n",
      "torch.Size([32, 128])\n",
      "torch.Size([32, 5])\n",
      "torch.Size([32, 128])\n",
      "torch.Size([32, 5])\n",
      "torch.Size([32, 128])\n",
      "torch.Size([32, 5])\n",
      "torch.Size([32, 128])\n",
      "torch.Size([32, 5])\n",
      "torch.Size([32, 128])\n",
      "torch.Size([32, 5])\n",
      "torch.Size([32, 128])\n",
      "torch.Size([32, 5])\n",
      "torch.Size([32, 128])\n",
      "torch.Size([32, 5])\n",
      "torch.Size([32, 128])\n",
      "torch.Size([32, 5])\n",
      "torch.Size([32, 128])\n",
      "torch.Size([32, 5])\n",
      "torch.Size([32, 128])\n",
      "torch.Size([32, 5])\n",
      "torch.Size([32, 128])\n",
      "torch.Size([32, 5])\n",
      "torch.Size([32, 128])\n",
      "torch.Size([32, 5])\n",
      "torch.Size([32, 128])\n",
      "torch.Size([32, 5])\n",
      "torch.Size([32, 128])\n",
      "torch.Size([32, 5])\n",
      "torch.Size([32, 128])\n",
      "torch.Size([32, 5])\n",
      "torch.Size([32, 128])\n",
      "torch.Size([32, 5])\n",
      "torch.Size([32, 128])\n",
      "torch.Size([32, 5])\n",
      "torch.Size([32, 128])\n",
      "torch.Size([32, 5])\n",
      "torch.Size([32, 128])\n",
      "torch.Size([32, 5])\n",
      "torch.Size([32, 128])\n",
      "torch.Size([32, 5])\n",
      "torch.Size([32, 128])\n",
      "torch.Size([32, 5])\n",
      "torch.Size([32, 128])\n",
      "torch.Size([32, 5])\n",
      "torch.Size([32, 128])\n",
      "torch.Size([32, 5])\n",
      "torch.Size([32, 128])\n",
      "torch.Size([32, 5])\n",
      "torch.Size([32, 128])\n",
      "torch.Size([32, 5])\n",
      "torch.Size([32, 128])\n",
      "torch.Size([32, 5])\n",
      "torch.Size([32, 128])\n",
      "torch.Size([32, 5])\n",
      "torch.Size([32, 128])\n",
      "torch.Size([32, 5])\n",
      "torch.Size([32, 128])\n",
      "torch.Size([32, 5])\n",
      "torch.Size([32, 128])\n",
      "torch.Size([32, 5])\n",
      "torch.Size([32, 128])\n",
      "torch.Size([32, 5])\n",
      "torch.Size([32, 128])\n",
      "torch.Size([32, 5])\n",
      "torch.Size([32, 128])\n",
      "torch.Size([32, 5])\n",
      "torch.Size([32, 128])\n",
      "torch.Size([32, 5])\n",
      "torch.Size([32, 128])\n",
      "torch.Size([32, 5])\n",
      "torch.Size([32, 128])\n",
      "torch.Size([32, 5])\n",
      "torch.Size([32, 128])\n",
      "torch.Size([32, 5])\n",
      "torch.Size([32, 128])\n",
      "torch.Size([32, 5])\n",
      "torch.Size([32, 128])\n",
      "torch.Size([32, 5])\n",
      "torch.Size([32, 128])\n",
      "torch.Size([32, 5])\n",
      "torch.Size([32, 128])\n",
      "torch.Size([32, 5])\n",
      "torch.Size([32, 128])\n",
      "torch.Size([32, 5])\n",
      "torch.Size([32, 128])\n",
      "torch.Size([32, 5])\n",
      "torch.Size([32, 128])\n",
      "torch.Size([32, 5])\n",
      "torch.Size([32, 128])\n",
      "torch.Size([32, 5])\n",
      "torch.Size([32, 128])\n",
      "torch.Size([32, 5])\n",
      "torch.Size([32, 128])\n",
      "torch.Size([32, 5])\n",
      "torch.Size([32, 128])\n",
      "torch.Size([32, 5])\n",
      "torch.Size([32, 128])\n",
      "torch.Size([32, 5])\n",
      "torch.Size([32, 128])\n",
      "torch.Size([32, 5])\n",
      "torch.Size([32, 128])\n",
      "torch.Size([32, 5])\n",
      "torch.Size([32, 128])\n",
      "torch.Size([32, 5])\n",
      "torch.Size([32, 128])\n",
      "torch.Size([32, 5])\n",
      "torch.Size([32, 128])\n",
      "torch.Size([32, 5])\n",
      "torch.Size([32, 128])\n",
      "torch.Size([32, 5])\n",
      "torch.Size([32, 128])\n",
      "torch.Size([32, 5])\n",
      "torch.Size([32, 128])\n",
      "torch.Size([32, 5])\n",
      "torch.Size([32, 128])\n",
      "torch.Size([32, 5])\n",
      "torch.Size([32, 128])\n",
      "torch.Size([32, 5])\n",
      "torch.Size([32, 128])\n",
      "torch.Size([32, 5])\n",
      "torch.Size([32, 128])\n",
      "torch.Size([32, 5])\n",
      "torch.Size([32, 128])\n",
      "torch.Size([32, 5])\n",
      "torch.Size([32, 128])\n",
      "torch.Size([32, 5])\n",
      "torch.Size([32, 128])\n",
      "torch.Size([32, 5])\n",
      "torch.Size([32, 128])\n",
      "torch.Size([32, 5])\n",
      "torch.Size([32, 128])\n",
      "torch.Size([32, 5])\n",
      "torch.Size([32, 128])\n",
      "torch.Size([32, 5])\n",
      "torch.Size([32, 128])\n",
      "torch.Size([32, 5])\n",
      "torch.Size([32, 128])\n",
      "torch.Size([32, 5])\n",
      "torch.Size([32, 128])\n",
      "torch.Size([32, 5])\n",
      "torch.Size([32, 128])\n",
      "torch.Size([32, 5])\n",
      "torch.Size([32, 128])\n",
      "torch.Size([32, 5])\n",
      "torch.Size([32, 128])\n",
      "torch.Size([32, 5])\n",
      "torch.Size([32, 128])\n",
      "torch.Size([32, 5])\n",
      "torch.Size([32, 128])\n",
      "torch.Size([32, 5])\n",
      "torch.Size([32, 128])\n",
      "torch.Size([32, 5])\n",
      "torch.Size([32, 128])\n",
      "torch.Size([32, 5])\n",
      "torch.Size([32, 128])\n",
      "torch.Size([32, 5])\n",
      "torch.Size([32, 128])\n",
      "torch.Size([32, 5])\n",
      "torch.Size([32, 128])\n"
     ]
    },
    {
     "name": "stdout",
     "output_type": "stream",
     "text": [
      "torch.Size([32, 5])\n",
      "torch.Size([32, 128])\n",
      "torch.Size([32, 5])\n",
      "torch.Size([32, 128])\n",
      "torch.Size([32, 5])\n",
      "torch.Size([32, 128])\n",
      "torch.Size([32, 5])\n",
      "torch.Size([32, 128])\n",
      "torch.Size([32, 5])\n",
      "torch.Size([32, 128])\n",
      "torch.Size([32, 5])\n",
      "torch.Size([32, 128])\n",
      "torch.Size([32, 5])\n",
      "torch.Size([32, 128])\n",
      "torch.Size([32, 5])\n",
      "torch.Size([32, 128])\n",
      "torch.Size([32, 5])\n",
      "torch.Size([32, 128])\n",
      "torch.Size([32, 5])\n",
      "torch.Size([32, 128])\n",
      "torch.Size([32, 5])\n",
      "torch.Size([32, 128])\n",
      "torch.Size([32, 5])\n",
      "torch.Size([32, 128])\n",
      "torch.Size([32, 5])\n",
      "torch.Size([32, 128])\n",
      "torch.Size([32, 5])\n",
      "torch.Size([32, 128])\n",
      "torch.Size([32, 5])\n",
      "torch.Size([32, 128])\n",
      "torch.Size([32, 5])\n",
      "torch.Size([32, 128])\n",
      "torch.Size([32, 5])\n",
      "torch.Size([32, 128])\n",
      "torch.Size([32, 5])\n",
      "torch.Size([32, 128])\n",
      "torch.Size([32, 5])\n",
      "torch.Size([32, 128])\n",
      "torch.Size([32, 5])\n",
      "torch.Size([32, 128])\n",
      "torch.Size([32, 5])\n",
      "torch.Size([32, 128])\n",
      "torch.Size([32, 5])\n",
      "torch.Size([32, 128])\n",
      "torch.Size([32, 5])\n",
      "torch.Size([32, 128])\n",
      "torch.Size([32, 5])\n",
      "torch.Size([32, 128])\n",
      "torch.Size([32, 5])\n",
      "torch.Size([32, 128])\n",
      "torch.Size([32, 5])\n",
      "torch.Size([32, 128])\n",
      "torch.Size([32, 5])\n",
      "torch.Size([32, 128])\n",
      "torch.Size([32, 5])\n",
      "torch.Size([32, 128])\n",
      "torch.Size([32, 5])\n",
      "torch.Size([32, 128])\n",
      "torch.Size([32, 5])\n",
      "torch.Size([32, 128])\n",
      "torch.Size([32, 5])\n",
      "torch.Size([32, 128])\n",
      "torch.Size([32, 5])\n",
      "torch.Size([32, 128])\n",
      "torch.Size([32, 5])\n",
      "torch.Size([32, 128])\n",
      "torch.Size([32, 5])\n",
      "torch.Size([32, 128])\n",
      "torch.Size([32, 5])\n",
      "torch.Size([32, 128])\n",
      "torch.Size([32, 5])\n",
      "torch.Size([32, 128])\n",
      "torch.Size([32, 5])\n",
      "torch.Size([32, 128])\n",
      "torch.Size([32, 5])\n",
      "torch.Size([32, 128])\n",
      "torch.Size([32, 5])\n",
      "torch.Size([32, 128])\n",
      "torch.Size([32, 5])\n",
      "torch.Size([32, 128])\n",
      "torch.Size([32, 5])\n",
      "torch.Size([32, 128])\n",
      "torch.Size([32, 5])\n",
      "torch.Size([32, 128])\n",
      "torch.Size([32, 5])\n",
      "torch.Size([32, 128])\n",
      "torch.Size([32, 5])\n",
      "torch.Size([32, 128])\n",
      "torch.Size([32, 5])\n",
      "torch.Size([32, 128])\n",
      "torch.Size([32, 5])\n",
      "torch.Size([32, 128])\n",
      "torch.Size([32, 5])\n",
      "torch.Size([32, 128])\n",
      "torch.Size([32, 5])\n",
      "torch.Size([32, 128])\n",
      "torch.Size([32, 5])\n",
      "torch.Size([32, 128])\n",
      "torch.Size([32, 5])\n",
      "torch.Size([32, 128])\n",
      "torch.Size([32, 5])\n",
      "torch.Size([32, 128])\n",
      "torch.Size([32, 5])\n",
      "torch.Size([32, 128])\n",
      "torch.Size([32, 5])\n",
      "torch.Size([32, 128])\n",
      "torch.Size([32, 5])\n",
      "torch.Size([32, 128])\n",
      "torch.Size([32, 5])\n",
      "torch.Size([32, 128])\n",
      "torch.Size([32, 5])\n",
      "torch.Size([32, 128])\n",
      "torch.Size([32, 5])\n",
      "torch.Size([32, 128])\n",
      "torch.Size([32, 5])\n",
      "torch.Size([32, 128])\n",
      "torch.Size([32, 5])\n",
      "torch.Size([32, 128])\n",
      "torch.Size([32, 5])\n",
      "torch.Size([32, 128])\n",
      "torch.Size([32, 5])\n",
      "torch.Size([32, 128])\n",
      "torch.Size([32, 5])\n",
      "torch.Size([32, 128])\n",
      "torch.Size([32, 5])\n",
      "torch.Size([32, 128])\n",
      "torch.Size([32, 5])\n",
      "torch.Size([32, 128])\n",
      "torch.Size([32, 5])\n",
      "torch.Size([32, 128])\n",
      "torch.Size([32, 5])\n",
      "torch.Size([32, 128])\n",
      "torch.Size([32, 5])\n",
      "torch.Size([32, 128])\n",
      "torch.Size([32, 5])\n",
      "torch.Size([32, 128])\n",
      "torch.Size([32, 5])\n",
      "torch.Size([32, 128])\n",
      "torch.Size([32, 5])\n",
      "torch.Size([32, 128])\n",
      "torch.Size([32, 5])\n",
      "torch.Size([32, 128])\n",
      "torch.Size([32, 5])\n",
      "torch.Size([32, 128])\n",
      "torch.Size([32, 5])\n",
      "torch.Size([32, 128])\n",
      "torch.Size([32, 5])\n",
      "torch.Size([32, 128])\n",
      "torch.Size([32, 5])\n",
      "torch.Size([32, 128])\n",
      "torch.Size([32, 5])\n",
      "torch.Size([32, 128])\n",
      "torch.Size([32, 5])\n",
      "torch.Size([32, 128])\n",
      "torch.Size([32, 5])\n",
      "torch.Size([32, 128])\n",
      "torch.Size([32, 5])\n",
      "torch.Size([32, 128])\n",
      "torch.Size([32, 5])\n",
      "torch.Size([32, 128])\n",
      "torch.Size([32, 5])\n",
      "torch.Size([32, 128])\n",
      "torch.Size([32, 5])\n",
      "torch.Size([32, 128])\n",
      "torch.Size([32, 5])\n",
      "torch.Size([32, 128])\n",
      "torch.Size([32, 5])\n",
      "torch.Size([32, 128])\n",
      "torch.Size([32, 5])\n",
      "torch.Size([32, 128])\n",
      "torch.Size([32, 5])\n",
      "torch.Size([32, 128])\n",
      "torch.Size([32, 5])\n",
      "torch.Size([32, 128])\n",
      "torch.Size([32, 5])\n",
      "torch.Size([32, 128])\n",
      "torch.Size([32, 5])\n",
      "torch.Size([32, 128])\n",
      "torch.Size([32, 5])\n",
      "torch.Size([32, 128])\n",
      "torch.Size([32, 5])\n",
      "torch.Size([32, 128])\n",
      "torch.Size([32, 5])\n",
      "torch.Size([32, 128])\n",
      "torch.Size([32, 5])\n",
      "torch.Size([32, 128])\n",
      "torch.Size([32, 5])\n",
      "torch.Size([32, 128])\n",
      "torch.Size([32, 5])\n",
      "torch.Size([32, 128])\n",
      "torch.Size([32, 5])\n",
      "torch.Size([32, 128])\n",
      "torch.Size([32, 5])\n",
      "torch.Size([32, 128])\n",
      "torch.Size([32, 5])\n",
      "torch.Size([32, 128])\n",
      "torch.Size([32, 5])\n",
      "torch.Size([32, 128])\n",
      "torch.Size([32, 5])\n",
      "torch.Size([32, 128])\n",
      "torch.Size([32, 5])\n",
      "torch.Size([32, 128])\n",
      "torch.Size([32, 5])\n",
      "torch.Size([32, 128])\n",
      "torch.Size([32, 5])\n",
      "torch.Size([32, 128])\n",
      "torch.Size([32, 5])\n",
      "torch.Size([32, 128])\n",
      "torch.Size([32, 5])\n",
      "torch.Size([32, 128])\n",
      "torch.Size([32, 5])\n",
      "torch.Size([32, 128])\n",
      "torch.Size([32, 5])\n",
      "torch.Size([32, 128])\n",
      "torch.Size([32, 5])\n",
      "torch.Size([32, 128])\n",
      "torch.Size([32, 5])\n",
      "torch.Size([32, 128])\n",
      "torch.Size([32, 5])\n",
      "torch.Size([32, 128])\n",
      "torch.Size([32, 5])\n",
      "torch.Size([32, 128])\n",
      "torch.Size([32, 5])\n",
      "torch.Size([32, 128])\n",
      "torch.Size([32, 5])\n",
      "torch.Size([32, 128])\n",
      "torch.Size([32, 5])\n",
      "torch.Size([32, 128])\n",
      "torch.Size([32, 5])\n",
      "torch.Size([32, 128])\n",
      "torch.Size([32, 5])\n",
      "torch.Size([32, 128])\n",
      "torch.Size([32, 5])\n",
      "torch.Size([32, 128])\n",
      "torch.Size([32, 5])\n",
      "torch.Size([32, 128])\n",
      "torch.Size([32, 5])\n",
      "torch.Size([32, 128])\n",
      "torch.Size([32, 5])\n",
      "torch.Size([32, 128])\n",
      "torch.Size([32, 5])\n",
      "torch.Size([32, 128])\n",
      "torch.Size([32, 5])\n",
      "torch.Size([32, 128])\n",
      "torch.Size([32, 5])\n",
      "torch.Size([32, 128])\n",
      "torch.Size([32, 5])\n",
      "torch.Size([32, 128])\n",
      "torch.Size([32, 5])\n",
      "torch.Size([32, 128])\n",
      "torch.Size([32, 5])\n",
      "torch.Size([32, 128])\n",
      "torch.Size([32, 5])\n",
      "torch.Size([32, 128])\n",
      "torch.Size([32, 5])\n",
      "torch.Size([32, 128])\n",
      "torch.Size([32, 5])\n",
      "torch.Size([32, 128])\n",
      "torch.Size([32, 5])\n",
      "torch.Size([32, 128])\n",
      "torch.Size([32, 5])\n",
      "torch.Size([32, 128])\n",
      "torch.Size([32, 5])\n",
      "torch.Size([32, 128])\n",
      "torch.Size([32, 5])\n",
      "torch.Size([32, 128])\n",
      "torch.Size([32, 5])\n",
      "torch.Size([32, 128])\n",
      "torch.Size([32, 5])\n",
      "torch.Size([32, 128])\n",
      "torch.Size([32, 5])\n",
      "torch.Size([32, 128])\n",
      "torch.Size([32, 5])\n",
      "torch.Size([32, 128])\n",
      "torch.Size([32, 5])\n",
      "torch.Size([32, 128])\n",
      "torch.Size([32, 5])\n",
      "torch.Size([32, 128])\n",
      "torch.Size([32, 5])\n",
      "torch.Size([32, 128])\n",
      "torch.Size([32, 5])\n",
      "torch.Size([32, 128])\n",
      "torch.Size([32, 5])\n",
      "torch.Size([32, 128])\n",
      "torch.Size([32, 5])\n",
      "torch.Size([32, 128])\n",
      "torch.Size([32, 5])\n",
      "torch.Size([32, 128])\n",
      "torch.Size([32, 5])\n",
      "torch.Size([32, 128])\n",
      "torch.Size([32, 5])\n",
      "torch.Size([32, 128])\n",
      "torch.Size([32, 5])\n",
      "torch.Size([32, 128])\n",
      "torch.Size([32, 5])\n",
      "torch.Size([32, 128])\n",
      "torch.Size([32, 5])\n",
      "torch.Size([32, 128])\n",
      "torch.Size([32, 5])\n",
      "torch.Size([32, 128])\n",
      "torch.Size([32, 5])\n",
      "torch.Size([32, 128])\n",
      "torch.Size([32, 5])\n",
      "torch.Size([32, 128])\n",
      "torch.Size([32, 5])\n",
      "torch.Size([32, 128])\n",
      "torch.Size([32, 5])\n",
      "torch.Size([32, 128])\n",
      "torch.Size([32, 5])\n",
      "torch.Size([32, 128])\n",
      "torch.Size([32, 5])\n",
      "torch.Size([32, 128])\n",
      "torch.Size([32, 5])\n",
      "torch.Size([32, 128])\n",
      "torch.Size([32, 5])\n",
      "torch.Size([32, 128])\n",
      "torch.Size([32, 5])\n",
      "torch.Size([32, 128])\n",
      "torch.Size([32, 5])\n",
      "torch.Size([32, 128])\n",
      "torch.Size([32, 5])\n",
      "torch.Size([32, 128])\n",
      "torch.Size([32, 5])\n",
      "torch.Size([32, 128])\n",
      "torch.Size([32, 5])\n",
      "torch.Size([32, 128])\n",
      "torch.Size([32, 5])\n",
      "torch.Size([32, 128])\n",
      "torch.Size([32, 5])\n",
      "torch.Size([32, 128])\n",
      "torch.Size([32, 5])\n",
      "torch.Size([32, 128])\n",
      "torch.Size([32, 5])\n",
      "torch.Size([32, 128])\n",
      "torch.Size([32, 5])\n",
      "torch.Size([32, 128])\n",
      "torch.Size([32, 5])\n",
      "torch.Size([32, 128])\n",
      "torch.Size([32, 5])\n",
      "torch.Size([32, 128])\n",
      "torch.Size([32, 5])\n",
      "torch.Size([32, 128])\n",
      "torch.Size([32, 5])\n",
      "torch.Size([32, 128])\n",
      "torch.Size([32, 5])\n",
      "torch.Size([32, 128])\n",
      "torch.Size([32, 5])\n",
      "torch.Size([32, 128])\n",
      "torch.Size([32, 5])\n",
      "torch.Size([32, 128])\n",
      "torch.Size([32, 5])\n",
      "torch.Size([32, 128])\n",
      "torch.Size([32, 5])\n",
      "torch.Size([32, 128])\n",
      "torch.Size([32, 5])\n",
      "torch.Size([32, 128])\n",
      "torch.Size([32, 5])\n",
      "torch.Size([32, 128])\n",
      "torch.Size([32, 5])\n",
      "torch.Size([32, 128])\n",
      "torch.Size([32, 5])\n",
      "torch.Size([32, 128])\n",
      "torch.Size([32, 5])\n",
      "torch.Size([32, 128])\n",
      "torch.Size([32, 5])\n",
      "torch.Size([32, 128])\n",
      "torch.Size([32, 5])\n",
      "torch.Size([32, 128])\n",
      "torch.Size([32, 5])\n",
      "torch.Size([32, 128])\n",
      "torch.Size([32, 5])\n",
      "torch.Size([32, 128])\n",
      "torch.Size([32, 5])\n",
      "torch.Size([32, 128])\n",
      "torch.Size([32, 5])\n",
      "torch.Size([32, 128])\n",
      "torch.Size([32, 5])\n",
      "torch.Size([32, 128])\n",
      "torch.Size([32, 5])\n",
      "torch.Size([32, 128])\n",
      "torch.Size([32, 5])\n",
      "torch.Size([32, 128])\n",
      "torch.Size([32, 5])\n",
      "torch.Size([32, 128])\n",
      "torch.Size([32, 5])\n",
      "torch.Size([32, 128])\n",
      "torch.Size([32, 5])\n",
      "torch.Size([32, 128])\n",
      "torch.Size([32, 5])\n",
      "torch.Size([32, 128])\n",
      "torch.Size([32, 5])\n",
      "torch.Size([32, 128])\n",
      "torch.Size([32, 5])\n",
      "torch.Size([32, 128])\n",
      "torch.Size([32, 5])\n",
      "torch.Size([32, 128])\n",
      "torch.Size([32, 5])\n",
      "torch.Size([32, 128])\n",
      "torch.Size([32, 5])\n",
      "torch.Size([32, 128])\n",
      "torch.Size([32, 5])\n",
      "torch.Size([32, 128])\n"
     ]
    },
    {
     "name": "stdout",
     "output_type": "stream",
     "text": [
      "torch.Size([32, 5])\n",
      "torch.Size([32, 128])\n",
      "torch.Size([32, 5])\n",
      "torch.Size([32, 128])\n",
      "torch.Size([32, 5])\n",
      "torch.Size([32, 128])\n",
      "torch.Size([32, 5])\n",
      "torch.Size([32, 128])\n",
      "torch.Size([32, 5])\n",
      "torch.Size([32, 128])\n",
      "torch.Size([32, 5])\n",
      "torch.Size([32, 128])\n",
      "torch.Size([32, 5])\n",
      "torch.Size([32, 128])\n",
      "torch.Size([32, 5])\n",
      "torch.Size([32, 128])\n",
      "torch.Size([32, 5])\n",
      "torch.Size([32, 128])\n",
      "torch.Size([32, 5])\n",
      "torch.Size([32, 128])\n",
      "torch.Size([32, 5])\n",
      "torch.Size([32, 128])\n",
      "torch.Size([32, 5])\n",
      "torch.Size([32, 128])\n",
      "torch.Size([32, 5])\n",
      "torch.Size([32, 128])\n",
      "torch.Size([32, 5])\n",
      "torch.Size([32, 128])\n",
      "torch.Size([32, 5])\n",
      "torch.Size([32, 128])\n",
      "torch.Size([32, 5])\n",
      "torch.Size([32, 128])\n",
      "torch.Size([32, 5])\n",
      "torch.Size([32, 128])\n",
      "torch.Size([32, 5])\n",
      "torch.Size([32, 128])\n",
      "torch.Size([32, 5])\n",
      "torch.Size([32, 128])\n",
      "torch.Size([32, 5])\n",
      "torch.Size([32, 128])\n",
      "torch.Size([32, 5])\n",
      "torch.Size([32, 128])\n",
      "torch.Size([32, 5])\n",
      "torch.Size([32, 128])\n",
      "torch.Size([32, 5])\n",
      "torch.Size([32, 128])\n",
      "torch.Size([32, 5])\n",
      "torch.Size([32, 128])\n",
      "torch.Size([32, 5])\n",
      "torch.Size([32, 128])\n",
      "torch.Size([32, 5])\n",
      "torch.Size([32, 128])\n",
      "torch.Size([32, 5])\n",
      "torch.Size([32, 128])\n",
      "torch.Size([32, 5])\n",
      "torch.Size([32, 128])\n",
      "torch.Size([32, 5])\n",
      "torch.Size([32, 128])\n",
      "torch.Size([32, 5])\n",
      "torch.Size([32, 128])\n",
      "torch.Size([32, 5])\n",
      "torch.Size([32, 128])\n",
      "torch.Size([32, 5])\n",
      "torch.Size([32, 128])\n",
      "torch.Size([32, 5])\n",
      "torch.Size([32, 128])\n",
      "torch.Size([32, 5])\n",
      "torch.Size([32, 128])\n",
      "torch.Size([32, 5])\n",
      "torch.Size([32, 128])\n",
      "torch.Size([32, 5])\n",
      "torch.Size([32, 128])\n",
      "torch.Size([32, 5])\n",
      "torch.Size([32, 128])\n",
      "torch.Size([32, 5])\n",
      "torch.Size([32, 128])\n",
      "torch.Size([32, 5])\n",
      "torch.Size([32, 128])\n",
      "torch.Size([32, 5])\n",
      "torch.Size([32, 128])\n",
      "torch.Size([32, 5])\n",
      "torch.Size([32, 128])\n",
      "torch.Size([32, 5])\n",
      "torch.Size([32, 128])\n",
      "torch.Size([32, 5])\n",
      "torch.Size([32, 128])\n",
      "torch.Size([32, 5])\n",
      "torch.Size([32, 128])\n",
      "torch.Size([32, 5])\n",
      "torch.Size([32, 128])\n",
      "torch.Size([32, 5])\n",
      "torch.Size([32, 128])\n",
      "torch.Size([32, 5])\n",
      "torch.Size([32, 128])\n",
      "torch.Size([32, 5])\n",
      "torch.Size([32, 128])\n",
      "torch.Size([32, 5])\n",
      "torch.Size([32, 128])\n",
      "torch.Size([32, 5])\n",
      "torch.Size([32, 128])\n",
      "torch.Size([32, 5])\n",
      "torch.Size([32, 128])\n",
      "torch.Size([32, 5])\n",
      "torch.Size([32, 128])\n",
      "torch.Size([32, 5])\n",
      "torch.Size([32, 128])\n",
      "torch.Size([32, 5])\n",
      "torch.Size([32, 128])\n",
      "torch.Size([32, 5])\n",
      "torch.Size([32, 128])\n",
      "torch.Size([32, 5])\n",
      "torch.Size([32, 128])\n",
      "torch.Size([32, 5])\n",
      "torch.Size([32, 128])\n",
      "torch.Size([32, 5])\n",
      "torch.Size([32, 128])\n",
      "torch.Size([32, 5])\n",
      "torch.Size([32, 128])\n",
      "torch.Size([32, 5])\n",
      "torch.Size([32, 128])\n",
      "torch.Size([32, 5])\n",
      "torch.Size([32, 128])\n",
      "torch.Size([32, 5])\n",
      "torch.Size([32, 128])\n",
      "torch.Size([32, 5])\n",
      "torch.Size([32, 128])\n",
      "torch.Size([32, 5])\n",
      "torch.Size([32, 128])\n",
      "torch.Size([32, 5])\n",
      "torch.Size([32, 128])\n",
      "torch.Size([32, 5])\n",
      "torch.Size([32, 128])\n",
      "torch.Size([32, 5])\n",
      "torch.Size([32, 128])\n",
      "torch.Size([32, 5])\n",
      "torch.Size([32, 128])\n",
      "torch.Size([32, 5])\n",
      "torch.Size([32, 128])\n",
      "torch.Size([32, 5])\n",
      "torch.Size([32, 128])\n",
      "torch.Size([32, 5])\n",
      "torch.Size([32, 128])\n",
      "torch.Size([32, 5])\n",
      "torch.Size([32, 128])\n",
      "torch.Size([32, 5])\n",
      "torch.Size([32, 128])\n",
      "torch.Size([32, 5])\n",
      "torch.Size([32, 128])\n",
      "torch.Size([32, 5])\n",
      "torch.Size([32, 128])\n",
      "torch.Size([32, 5])\n",
      "torch.Size([32, 128])\n",
      "torch.Size([32, 5])\n",
      "torch.Size([32, 128])\n",
      "torch.Size([32, 5])\n",
      "torch.Size([32, 128])\n",
      "torch.Size([32, 5])\n",
      "torch.Size([32, 128])\n",
      "torch.Size([32, 5])\n",
      "torch.Size([32, 128])\n",
      "torch.Size([32, 5])\n",
      "torch.Size([32, 128])\n",
      "torch.Size([32, 5])\n",
      "torch.Size([32, 128])\n",
      "torch.Size([32, 5])\n",
      "torch.Size([32, 128])\n",
      "torch.Size([32, 5])\n",
      "torch.Size([32, 128])\n",
      "torch.Size([32, 5])\n",
      "torch.Size([32, 128])\n",
      "torch.Size([32, 5])\n",
      "torch.Size([32, 128])\n",
      "torch.Size([32, 5])\n",
      "torch.Size([32, 128])\n",
      "torch.Size([32, 5])\n",
      "torch.Size([32, 128])\n",
      "torch.Size([32, 5])\n",
      "torch.Size([32, 128])\n",
      "torch.Size([32, 5])\n",
      "torch.Size([32, 128])\n",
      "torch.Size([32, 5])\n",
      "torch.Size([32, 128])\n",
      "torch.Size([32, 5])\n",
      "torch.Size([32, 128])\n",
      "torch.Size([32, 5])\n",
      "torch.Size([32, 128])\n",
      "torch.Size([32, 5])\n",
      "torch.Size([32, 128])\n",
      "torch.Size([32, 5])\n",
      "torch.Size([32, 128])\n",
      "torch.Size([32, 5])\n",
      "torch.Size([32, 128])\n",
      "torch.Size([32, 5])\n",
      "torch.Size([32, 128])\n",
      "torch.Size([32, 5])\n",
      "torch.Size([32, 128])\n",
      "torch.Size([32, 5])\n",
      "torch.Size([32, 128])\n",
      "torch.Size([32, 5])\n",
      "torch.Size([32, 128])\n",
      "torch.Size([32, 5])\n",
      "torch.Size([32, 128])\n",
      "torch.Size([32, 5])\n",
      "torch.Size([32, 128])\n",
      "torch.Size([32, 5])\n",
      "torch.Size([32, 128])\n",
      "torch.Size([32, 5])\n",
      "torch.Size([32, 128])\n",
      "torch.Size([32, 5])\n",
      "torch.Size([32, 128])\n",
      "torch.Size([32, 5])\n",
      "torch.Size([32, 128])\n",
      "torch.Size([32, 5])\n",
      "torch.Size([32, 128])\n",
      "torch.Size([32, 5])\n",
      "torch.Size([32, 128])\n",
      "torch.Size([32, 5])\n",
      "torch.Size([32, 128])\n",
      "torch.Size([32, 5])\n",
      "torch.Size([32, 128])\n",
      "torch.Size([32, 5])\n",
      "torch.Size([32, 128])\n",
      "torch.Size([32, 5])\n",
      "torch.Size([32, 128])\n",
      "torch.Size([32, 5])\n",
      "torch.Size([32, 128])\n",
      "torch.Size([32, 5])\n",
      "torch.Size([32, 128])\n",
      "torch.Size([32, 5])\n",
      "torch.Size([32, 128])\n",
      "torch.Size([32, 5])\n",
      "torch.Size([32, 128])\n",
      "torch.Size([32, 5])\n",
      "torch.Size([32, 128])\n",
      "torch.Size([32, 5])\n",
      "torch.Size([32, 128])\n",
      "torch.Size([32, 5])\n",
      "torch.Size([32, 128])\n",
      "torch.Size([32, 5])\n",
      "torch.Size([32, 128])\n",
      "torch.Size([32, 5])\n",
      "torch.Size([32, 128])\n",
      "torch.Size([32, 5])\n",
      "torch.Size([32, 128])\n",
      "torch.Size([32, 5])\n",
      "torch.Size([32, 128])\n",
      "torch.Size([32, 5])\n",
      "torch.Size([32, 128])\n",
      "torch.Size([32, 5])\n",
      "torch.Size([32, 128])\n",
      "torch.Size([32, 5])\n",
      "torch.Size([32, 128])\n",
      "torch.Size([32, 5])\n",
      "torch.Size([32, 128])\n",
      "torch.Size([32, 5])\n",
      "torch.Size([32, 128])\n",
      "torch.Size([32, 5])\n",
      "torch.Size([32, 128])\n",
      "torch.Size([32, 5])\n",
      "torch.Size([32, 128])\n",
      "torch.Size([32, 5])\n",
      "torch.Size([32, 128])\n",
      "torch.Size([32, 5])\n",
      "torch.Size([32, 128])\n",
      "torch.Size([32, 5])\n",
      "torch.Size([32, 128])\n",
      "torch.Size([32, 5])\n",
      "torch.Size([32, 128])\n",
      "torch.Size([32, 5])\n",
      "torch.Size([32, 128])\n",
      "torch.Size([32, 5])\n",
      "torch.Size([32, 128])\n",
      "torch.Size([32, 5])\n",
      "torch.Size([32, 128])\n",
      "torch.Size([32, 5])\n",
      "torch.Size([32, 128])\n",
      "torch.Size([32, 5])\n",
      "torch.Size([32, 128])\n",
      "torch.Size([32, 5])\n",
      "torch.Size([32, 128])\n",
      "torch.Size([32, 5])\n",
      "torch.Size([32, 128])\n",
      "torch.Size([32, 5])\n",
      "torch.Size([32, 128])\n",
      "torch.Size([32, 5])\n",
      "torch.Size([32, 128])\n",
      "torch.Size([32, 5])\n",
      "torch.Size([32, 128])\n",
      "torch.Size([32, 5])\n",
      "torch.Size([32, 128])\n",
      "torch.Size([32, 5])\n",
      "torch.Size([32, 128])\n",
      "torch.Size([32, 5])\n",
      "torch.Size([32, 128])\n",
      "torch.Size([32, 5])\n",
      "torch.Size([32, 128])\n",
      "torch.Size([32, 5])\n",
      "torch.Size([32, 128])\n",
      "torch.Size([32, 5])\n",
      "torch.Size([32, 128])\n",
      "torch.Size([32, 5])\n",
      "torch.Size([32, 128])\n",
      "torch.Size([32, 5])\n",
      "torch.Size([32, 128])\n",
      "torch.Size([32, 5])\n",
      "torch.Size([32, 128])\n",
      "torch.Size([32, 5])\n",
      "torch.Size([32, 128])\n",
      "torch.Size([32, 5])\n",
      "torch.Size([32, 128])\n",
      "torch.Size([32, 5])\n",
      "torch.Size([32, 128])\n",
      "torch.Size([32, 5])\n",
      "torch.Size([32, 128])\n",
      "torch.Size([32, 5])\n",
      "torch.Size([32, 128])\n",
      "torch.Size([32, 5])\n",
      "torch.Size([32, 128])\n",
      "torch.Size([32, 5])\n",
      "torch.Size([32, 128])\n",
      "torch.Size([32, 5])\n",
      "torch.Size([32, 128])\n",
      "torch.Size([32, 5])\n",
      "torch.Size([32, 128])\n",
      "torch.Size([32, 5])\n",
      "torch.Size([32, 128])\n",
      "torch.Size([32, 5])\n",
      "torch.Size([32, 128])\n",
      "torch.Size([32, 5])\n",
      "torch.Size([32, 128])\n",
      "torch.Size([32, 5])\n",
      "torch.Size([32, 128])\n",
      "torch.Size([32, 5])\n",
      "torch.Size([32, 128])\n",
      "torch.Size([32, 5])\n",
      "torch.Size([32, 128])\n",
      "torch.Size([32, 5])\n",
      "torch.Size([32, 128])\n",
      "torch.Size([32, 5])\n",
      "torch.Size([32, 128])\n",
      "torch.Size([32, 5])\n",
      "torch.Size([32, 128])\n",
      "torch.Size([32, 5])\n",
      "torch.Size([32, 128])\n",
      "torch.Size([32, 5])\n",
      "torch.Size([32, 128])\n",
      "torch.Size([32, 5])\n",
      "torch.Size([32, 128])\n",
      "torch.Size([32, 5])\n",
      "torch.Size([32, 128])\n",
      "torch.Size([32, 5])\n",
      "torch.Size([32, 128])\n",
      "torch.Size([32, 5])\n",
      "torch.Size([32, 128])\n",
      "torch.Size([32, 5])\n",
      "torch.Size([32, 128])\n",
      "torch.Size([32, 5])\n",
      "torch.Size([32, 128])\n",
      "torch.Size([32, 5])\n",
      "torch.Size([32, 128])\n",
      "torch.Size([32, 5])\n",
      "torch.Size([32, 128])\n",
      "torch.Size([32, 5])\n",
      "torch.Size([32, 128])\n",
      "torch.Size([32, 5])\n",
      "torch.Size([32, 128])\n",
      "torch.Size([32, 5])\n",
      "torch.Size([32, 128])\n",
      "torch.Size([32, 5])\n",
      "torch.Size([32, 128])\n",
      "torch.Size([32, 5])\n",
      "torch.Size([32, 128])\n",
      "torch.Size([32, 5])\n",
      "torch.Size([32, 128])\n",
      "torch.Size([32, 5])\n",
      "torch.Size([32, 128])\n",
      "torch.Size([32, 5])\n",
      "torch.Size([32, 128])\n",
      "torch.Size([32, 5])\n",
      "torch.Size([32, 128])\n",
      "torch.Size([32, 5])\n",
      "torch.Size([32, 128])\n",
      "torch.Size([32, 5])\n",
      "torch.Size([32, 128])\n",
      "torch.Size([32, 5])\n",
      "torch.Size([32, 128])\n",
      "torch.Size([32, 5])\n",
      "torch.Size([32, 128])\n",
      "torch.Size([32, 5])\n",
      "torch.Size([32, 128])\n",
      "torch.Size([32, 5])\n",
      "torch.Size([32, 128])\n",
      "torch.Size([32, 5])\n",
      "torch.Size([32, 128])\n"
     ]
    },
    {
     "name": "stdout",
     "output_type": "stream",
     "text": [
      "torch.Size([32, 5])\n",
      "torch.Size([32, 128])\n",
      "torch.Size([32, 5])\n",
      "torch.Size([32, 128])\n",
      "torch.Size([32, 5])\n",
      "torch.Size([32, 128])\n",
      "torch.Size([32, 5])\n",
      "torch.Size([32, 128])\n",
      "torch.Size([32, 5])\n",
      "torch.Size([32, 128])\n",
      "torch.Size([32, 5])\n",
      "torch.Size([32, 128])\n",
      "torch.Size([32, 5])\n",
      "torch.Size([32, 128])\n",
      "torch.Size([32, 5])\n",
      "torch.Size([32, 128])\n",
      "torch.Size([32, 5])\n",
      "torch.Size([32, 128])\n",
      "torch.Size([32, 5])\n",
      "torch.Size([32, 128])\n",
      "torch.Size([32, 5])\n",
      "torch.Size([32, 128])\n",
      "torch.Size([32, 5])\n",
      "torch.Size([32, 128])\n",
      "torch.Size([32, 5])\n",
      "torch.Size([32, 128])\n",
      "torch.Size([32, 5])\n",
      "torch.Size([32, 128])\n",
      "torch.Size([32, 5])\n",
      "torch.Size([32, 128])\n",
      "torch.Size([32, 5])\n",
      "torch.Size([32, 128])\n",
      "torch.Size([32, 5])\n",
      "torch.Size([32, 128])\n",
      "torch.Size([32, 5])\n",
      "torch.Size([32, 128])\n",
      "torch.Size([32, 5])\n",
      "torch.Size([32, 128])\n",
      "torch.Size([32, 5])\n",
      "torch.Size([32, 128])\n",
      "torch.Size([32, 5])\n",
      "torch.Size([32, 128])\n",
      "torch.Size([32, 5])\n",
      "torch.Size([32, 128])\n",
      "torch.Size([32, 5])\n",
      "torch.Size([32, 128])\n",
      "torch.Size([32, 5])\n",
      "torch.Size([32, 128])\n",
      "torch.Size([32, 5])\n",
      "torch.Size([32, 128])\n",
      "torch.Size([32, 5])\n",
      "torch.Size([32, 128])\n",
      "torch.Size([32, 5])\n",
      "torch.Size([32, 128])\n",
      "torch.Size([32, 5])\n",
      "torch.Size([32, 128])\n",
      "torch.Size([32, 5])\n",
      "torch.Size([32, 128])\n",
      "torch.Size([32, 5])\n",
      "torch.Size([32, 128])\n",
      "torch.Size([32, 5])\n",
      "torch.Size([32, 128])\n",
      "torch.Size([32, 5])\n",
      "torch.Size([32, 128])\n",
      "torch.Size([32, 5])\n",
      "torch.Size([32, 128])\n",
      "torch.Size([32, 5])\n",
      "torch.Size([32, 128])\n",
      "torch.Size([32, 5])\n",
      "torch.Size([32, 128])\n",
      "torch.Size([32, 5])\n",
      "torch.Size([32, 128])\n",
      "torch.Size([32, 5])\n",
      "torch.Size([32, 128])\n",
      "torch.Size([32, 5])\n",
      "torch.Size([32, 128])\n",
      "torch.Size([32, 5])\n",
      "torch.Size([32, 128])\n",
      "torch.Size([32, 5])\n",
      "torch.Size([32, 128])\n",
      "torch.Size([32, 5])\n",
      "torch.Size([32, 128])\n",
      "torch.Size([32, 5])\n",
      "torch.Size([32, 128])\n",
      "torch.Size([32, 5])\n",
      "torch.Size([32, 128])\n",
      "torch.Size([32, 5])\n",
      "torch.Size([32, 128])\n",
      "torch.Size([32, 5])\n",
      "torch.Size([32, 128])\n",
      "torch.Size([32, 5])\n",
      "torch.Size([32, 128])\n",
      "torch.Size([32, 5])\n",
      "torch.Size([32, 128])\n",
      "torch.Size([32, 5])\n",
      "torch.Size([32, 128])\n",
      "torch.Size([32, 5])\n",
      "torch.Size([32, 128])\n",
      "torch.Size([32, 5])\n",
      "torch.Size([32, 128])\n",
      "torch.Size([32, 5])\n",
      "torch.Size([32, 128])\n",
      "torch.Size([32, 5])\n",
      "torch.Size([32, 128])\n",
      "torch.Size([32, 5])\n",
      "torch.Size([32, 128])\n",
      "torch.Size([32, 5])\n",
      "torch.Size([32, 128])\n",
      "torch.Size([32, 5])\n",
      "torch.Size([32, 128])\n",
      "torch.Size([32, 5])\n",
      "torch.Size([32, 128])\n",
      "torch.Size([32, 5])\n",
      "torch.Size([32, 128])\n",
      "torch.Size([32, 5])\n",
      "torch.Size([32, 128])\n",
      "torch.Size([32, 5])\n",
      "torch.Size([32, 128])\n",
      "torch.Size([32, 5])\n",
      "torch.Size([32, 128])\n",
      "torch.Size([32, 5])\n",
      "torch.Size([32, 128])\n",
      "torch.Size([32, 5])\n",
      "torch.Size([32, 128])\n",
      "torch.Size([32, 5])\n",
      "torch.Size([32, 128])\n",
      "torch.Size([32, 5])\n",
      "torch.Size([32, 128])\n",
      "torch.Size([32, 5])\n",
      "torch.Size([32, 128])\n",
      "torch.Size([32, 5])\n",
      "torch.Size([32, 128])\n",
      "torch.Size([32, 5])\n",
      "torch.Size([32, 128])\n",
      "torch.Size([32, 5])\n",
      "torch.Size([32, 128])\n",
      "torch.Size([32, 5])\n",
      "torch.Size([32, 128])\n",
      "torch.Size([32, 5])\n",
      "torch.Size([32, 128])\n",
      "torch.Size([32, 5])\n",
      "torch.Size([32, 128])\n",
      "torch.Size([32, 5])\n",
      "torch.Size([32, 128])\n",
      "torch.Size([32, 5])\n",
      "torch.Size([32, 128])\n",
      "torch.Size([32, 5])\n",
      "torch.Size([32, 128])\n",
      "torch.Size([32, 5])\n",
      "torch.Size([32, 128])\n",
      "torch.Size([32, 5])\n",
      "torch.Size([32, 128])\n",
      "torch.Size([32, 5])\n",
      "torch.Size([32, 128])\n",
      "torch.Size([32, 5])\n",
      "torch.Size([32, 128])\n",
      "torch.Size([32, 5])\n",
      "torch.Size([32, 128])\n",
      "torch.Size([32, 5])\n",
      "torch.Size([32, 128])\n",
      "torch.Size([32, 5])\n",
      "torch.Size([32, 128])\n",
      "torch.Size([32, 5])\n",
      "torch.Size([32, 128])\n",
      "torch.Size([32, 5])\n",
      "torch.Size([32, 128])\n",
      "torch.Size([32, 5])\n",
      "torch.Size([32, 128])\n",
      "torch.Size([32, 5])\n",
      "torch.Size([32, 128])\n",
      "torch.Size([32, 5])\n",
      "torch.Size([32, 128])\n",
      "torch.Size([32, 5])\n",
      "torch.Size([32, 128])\n",
      "torch.Size([32, 5])\n",
      "torch.Size([32, 128])\n",
      "torch.Size([32, 5])\n",
      "torch.Size([32, 128])\n",
      "torch.Size([32, 5])\n",
      "torch.Size([32, 128])\n",
      "torch.Size([32, 5])\n",
      "torch.Size([32, 128])\n",
      "torch.Size([32, 5])\n",
      "torch.Size([32, 128])\n",
      "torch.Size([32, 5])\n",
      "torch.Size([32, 128])\n",
      "torch.Size([32, 5])\n",
      "torch.Size([32, 128])\n",
      "torch.Size([32, 5])\n",
      "torch.Size([32, 128])\n",
      "torch.Size([32, 5])\n",
      "torch.Size([32, 128])\n",
      "torch.Size([32, 5])\n"
     ]
    },
    {
     "ename": "KeyboardInterrupt",
     "evalue": "",
     "output_type": "error",
     "traceback": [
      "\u001b[1;31m---------------------------------------------------------------------------\u001b[0m",
      "\u001b[1;31mKeyboardInterrupt\u001b[0m                         Traceback (most recent call last)",
      "\u001b[1;32m<ipython-input-622-6517a30aee2c>\u001b[0m in \u001b[0;36m<module>\u001b[1;34m\u001b[0m\n\u001b[0;32m     22\u001b[0m \u001b[1;32mfor\u001b[0m \u001b[0me\u001b[0m \u001b[1;32min\u001b[0m \u001b[0mrange\u001b[0m\u001b[1;33m(\u001b[0m\u001b[1;36m0\u001b[0m\u001b[1;33m,\u001b[0m \u001b[0mTrain_CFG\u001b[0m\u001b[1;33m.\u001b[0m\u001b[0mEPOCHS\u001b[0m\u001b[1;33m)\u001b[0m\u001b[1;33m:\u001b[0m\u001b[1;33m\u001b[0m\u001b[1;33m\u001b[0m\u001b[0m\n\u001b[0;32m     23\u001b[0m     \u001b[0mtrain_loss\u001b[0m\u001b[1;33m,\u001b[0m \u001b[0mtrain_acc\u001b[0m\u001b[1;33m,\u001b[0m  \u001b[0mtrain_precision\u001b[0m\u001b[1;33m,\u001b[0m \u001b[0mtrain_recall\u001b[0m\u001b[1;33m,\u001b[0m \u001b[0mtrain_f1\u001b[0m \u001b[1;33m=\u001b[0m \u001b[0mtraining\u001b[0m\u001b[1;33m(\u001b[0m\u001b[0mmodel\u001b[0m \u001b[1;33m=\u001b[0m \u001b[0mmodel\u001b[0m\u001b[1;33m,\u001b[0m \u001b[0mtrain_data\u001b[0m \u001b[1;33m=\u001b[0m \u001b[0mtrain_dataLoader\u001b[0m\u001b[1;33m,\u001b[0m \u001b[0mLoss\u001b[0m \u001b[1;33m=\u001b[0m \u001b[0mloss\u001b[0m\u001b[1;33m,\u001b[0m\u001b[0mmetric\u001b[0m \u001b[1;33m=\u001b[0m \u001b[0macc\u001b[0m\u001b[1;33m)\u001b[0m\u001b[1;33m\u001b[0m\u001b[1;33m\u001b[0m\u001b[0m\n\u001b[1;32m---> 24\u001b[1;33m     \u001b[0mval_loss\u001b[0m\u001b[1;33m,\u001b[0m \u001b[0mval_acc\u001b[0m\u001b[1;33m,\u001b[0m  \u001b[0mval_precision\u001b[0m\u001b[1;33m,\u001b[0m \u001b[0mval_recall\u001b[0m\u001b[1;33m,\u001b[0m  \u001b[0mval_f1\u001b[0m \u001b[1;33m=\u001b[0m \u001b[0mevaluation\u001b[0m\u001b[1;33m(\u001b[0m\u001b[0mmodel\u001b[0m \u001b[1;33m=\u001b[0m \u001b[0mmodel\u001b[0m\u001b[1;33m,\u001b[0m \u001b[0mval_data\u001b[0m \u001b[1;33m=\u001b[0m \u001b[0mvalid_dataLoader\u001b[0m\u001b[1;33m,\u001b[0m \u001b[0mLoss\u001b[0m \u001b[1;33m=\u001b[0m \u001b[0mloss\u001b[0m\u001b[1;33m,\u001b[0m \u001b[0mmetric\u001b[0m \u001b[1;33m=\u001b[0m \u001b[0macc\u001b[0m\u001b[1;33m)\u001b[0m\u001b[1;33m\u001b[0m\u001b[1;33m\u001b[0m\u001b[0m\n\u001b[0m\u001b[0;32m     25\u001b[0m \u001b[1;33m\u001b[0m\u001b[0m\n\u001b[0;32m     26\u001b[0m     \u001b[0mprint\u001b[0m\u001b[1;33m(\u001b[0m\u001b[1;34mf'Train Loss is {train_loss} and train accuray is : {train_acc}'\u001b[0m\u001b[1;33m)\u001b[0m\u001b[1;33m\u001b[0m\u001b[1;33m\u001b[0m\u001b[0m\n",
      "\u001b[1;32m<ipython-input-620-6d46fde8bfa9>\u001b[0m in \u001b[0;36mevaluation\u001b[1;34m(model, val_data, Loss, metric)\u001b[0m\n\u001b[0;32m     40\u001b[0m     \u001b[1;31m# we do this to turn off gradient tracking and computation\u001b[0m\u001b[1;33m\u001b[0m\u001b[1;33m\u001b[0m\u001b[1;33m\u001b[0m\u001b[0m\n\u001b[0;32m     41\u001b[0m     \u001b[1;32mwith\u001b[0m \u001b[0mtorch\u001b[0m\u001b[1;33m.\u001b[0m\u001b[0mno_grad\u001b[0m\u001b[1;33m(\u001b[0m\u001b[1;33m)\u001b[0m\u001b[1;33m:\u001b[0m\u001b[1;33m\u001b[0m\u001b[1;33m\u001b[0m\u001b[0m\n\u001b[1;32m---> 42\u001b[1;33m         \u001b[1;32mfor\u001b[0m \u001b[1;33m(\u001b[0m\u001b[0mx\u001b[0m\u001b[1;33m,\u001b[0m\u001b[0my\u001b[0m\u001b[1;33m)\u001b[0m \u001b[1;32min\u001b[0m \u001b[0mval_data\u001b[0m\u001b[1;33m:\u001b[0m\u001b[1;33m\u001b[0m\u001b[1;33m\u001b[0m\u001b[0m\n\u001b[0m\u001b[0;32m     43\u001b[0m             \u001b[1;33m(\u001b[0m\u001b[0mx\u001b[0m\u001b[1;33m,\u001b[0m\u001b[0my\u001b[0m\u001b[1;33m)\u001b[0m \u001b[1;33m=\u001b[0m \u001b[1;33m(\u001b[0m\u001b[0mx\u001b[0m\u001b[1;33m.\u001b[0m\u001b[0mto\u001b[0m\u001b[1;33m(\u001b[0m\u001b[0mdevice\u001b[0m\u001b[1;33m)\u001b[0m\u001b[1;33m,\u001b[0m \u001b[0my\u001b[0m\u001b[1;33m.\u001b[0m\u001b[0mto\u001b[0m\u001b[1;33m(\u001b[0m\u001b[0mdevice\u001b[0m\u001b[1;33m)\u001b[0m\u001b[1;33m)\u001b[0m\u001b[1;33m\u001b[0m\u001b[1;33m\u001b[0m\u001b[0m\n\u001b[0;32m     44\u001b[0m \u001b[1;33m\u001b[0m\u001b[0m\n",
      "\u001b[1;32m~\\anaconda3\\envs\\mlcourse\\lib\\site-packages\\torch\\utils\\data\\dataloader.py\u001b[0m in \u001b[0;36m__next__\u001b[1;34m(self)\u001b[0m\n\u001b[0;32m    650\u001b[0m                 \u001b[1;31m# TODO(https://github.com/pytorch/pytorch/issues/76750)\u001b[0m\u001b[1;33m\u001b[0m\u001b[1;33m\u001b[0m\u001b[1;33m\u001b[0m\u001b[0m\n\u001b[0;32m    651\u001b[0m                 \u001b[0mself\u001b[0m\u001b[1;33m.\u001b[0m\u001b[0m_reset\u001b[0m\u001b[1;33m(\u001b[0m\u001b[1;33m)\u001b[0m  \u001b[1;31m# type: ignore[call-arg]\u001b[0m\u001b[1;33m\u001b[0m\u001b[1;33m\u001b[0m\u001b[0m\n\u001b[1;32m--> 652\u001b[1;33m             \u001b[0mdata\u001b[0m \u001b[1;33m=\u001b[0m \u001b[0mself\u001b[0m\u001b[1;33m.\u001b[0m\u001b[0m_next_data\u001b[0m\u001b[1;33m(\u001b[0m\u001b[1;33m)\u001b[0m\u001b[1;33m\u001b[0m\u001b[1;33m\u001b[0m\u001b[0m\n\u001b[0m\u001b[0;32m    653\u001b[0m             \u001b[0mself\u001b[0m\u001b[1;33m.\u001b[0m\u001b[0m_num_yielded\u001b[0m \u001b[1;33m+=\u001b[0m \u001b[1;36m1\u001b[0m\u001b[1;33m\u001b[0m\u001b[1;33m\u001b[0m\u001b[0m\n\u001b[0;32m    654\u001b[0m             \u001b[1;32mif\u001b[0m \u001b[0mself\u001b[0m\u001b[1;33m.\u001b[0m\u001b[0m_dataset_kind\u001b[0m \u001b[1;33m==\u001b[0m \u001b[0m_DatasetKind\u001b[0m\u001b[1;33m.\u001b[0m\u001b[0mIterable\u001b[0m \u001b[1;32mand\u001b[0m\u001b[0;31m \u001b[0m\u001b[0;31m\\\u001b[0m\u001b[1;33m\u001b[0m\u001b[1;33m\u001b[0m\u001b[0m\n",
      "\u001b[1;32m~\\anaconda3\\envs\\mlcourse\\lib\\site-packages\\torch\\utils\\data\\dataloader.py\u001b[0m in \u001b[0;36m_next_data\u001b[1;34m(self)\u001b[0m\n\u001b[0;32m    690\u001b[0m     \u001b[1;32mdef\u001b[0m \u001b[0m_next_data\u001b[0m\u001b[1;33m(\u001b[0m\u001b[0mself\u001b[0m\u001b[1;33m)\u001b[0m\u001b[1;33m:\u001b[0m\u001b[1;33m\u001b[0m\u001b[1;33m\u001b[0m\u001b[0m\n\u001b[0;32m    691\u001b[0m         \u001b[0mindex\u001b[0m \u001b[1;33m=\u001b[0m \u001b[0mself\u001b[0m\u001b[1;33m.\u001b[0m\u001b[0m_next_index\u001b[0m\u001b[1;33m(\u001b[0m\u001b[1;33m)\u001b[0m  \u001b[1;31m# may raise StopIteration\u001b[0m\u001b[1;33m\u001b[0m\u001b[1;33m\u001b[0m\u001b[0m\n\u001b[1;32m--> 692\u001b[1;33m         \u001b[0mdata\u001b[0m \u001b[1;33m=\u001b[0m \u001b[0mself\u001b[0m\u001b[1;33m.\u001b[0m\u001b[0m_dataset_fetcher\u001b[0m\u001b[1;33m.\u001b[0m\u001b[0mfetch\u001b[0m\u001b[1;33m(\u001b[0m\u001b[0mindex\u001b[0m\u001b[1;33m)\u001b[0m  \u001b[1;31m# may raise StopIteration\u001b[0m\u001b[1;33m\u001b[0m\u001b[1;33m\u001b[0m\u001b[0m\n\u001b[0m\u001b[0;32m    693\u001b[0m         \u001b[1;32mif\u001b[0m \u001b[0mself\u001b[0m\u001b[1;33m.\u001b[0m\u001b[0m_pin_memory\u001b[0m\u001b[1;33m:\u001b[0m\u001b[1;33m\u001b[0m\u001b[1;33m\u001b[0m\u001b[0m\n\u001b[0;32m    694\u001b[0m             \u001b[0mdata\u001b[0m \u001b[1;33m=\u001b[0m \u001b[0m_utils\u001b[0m\u001b[1;33m.\u001b[0m\u001b[0mpin_memory\u001b[0m\u001b[1;33m.\u001b[0m\u001b[0mpin_memory\u001b[0m\u001b[1;33m(\u001b[0m\u001b[0mdata\u001b[0m\u001b[1;33m,\u001b[0m \u001b[0mself\u001b[0m\u001b[1;33m.\u001b[0m\u001b[0m_pin_memory_device\u001b[0m\u001b[1;33m)\u001b[0m\u001b[1;33m\u001b[0m\u001b[1;33m\u001b[0m\u001b[0m\n",
      "\u001b[1;32m~\\anaconda3\\envs\\mlcourse\\lib\\site-packages\\torch\\utils\\data\\_utils\\fetch.py\u001b[0m in \u001b[0;36mfetch\u001b[1;34m(self, possibly_batched_index)\u001b[0m\n\u001b[0;32m     47\u001b[0m     \u001b[1;32mdef\u001b[0m \u001b[0mfetch\u001b[0m\u001b[1;33m(\u001b[0m\u001b[0mself\u001b[0m\u001b[1;33m,\u001b[0m \u001b[0mpossibly_batched_index\u001b[0m\u001b[1;33m)\u001b[0m\u001b[1;33m:\u001b[0m\u001b[1;33m\u001b[0m\u001b[1;33m\u001b[0m\u001b[0m\n\u001b[0;32m     48\u001b[0m         \u001b[1;32mif\u001b[0m \u001b[0mself\u001b[0m\u001b[1;33m.\u001b[0m\u001b[0mauto_collation\u001b[0m\u001b[1;33m:\u001b[0m\u001b[1;33m\u001b[0m\u001b[1;33m\u001b[0m\u001b[0m\n\u001b[1;32m---> 49\u001b[1;33m             \u001b[0mdata\u001b[0m \u001b[1;33m=\u001b[0m \u001b[1;33m[\u001b[0m\u001b[0mself\u001b[0m\u001b[1;33m.\u001b[0m\u001b[0mdataset\u001b[0m\u001b[1;33m[\u001b[0m\u001b[0midx\u001b[0m\u001b[1;33m]\u001b[0m \u001b[1;32mfor\u001b[0m \u001b[0midx\u001b[0m \u001b[1;32min\u001b[0m \u001b[0mpossibly_batched_index\u001b[0m\u001b[1;33m]\u001b[0m\u001b[1;33m\u001b[0m\u001b[1;33m\u001b[0m\u001b[0m\n\u001b[0m\u001b[0;32m     50\u001b[0m         \u001b[1;32melse\u001b[0m\u001b[1;33m:\u001b[0m\u001b[1;33m\u001b[0m\u001b[1;33m\u001b[0m\u001b[0m\n\u001b[0;32m     51\u001b[0m             \u001b[0mdata\u001b[0m \u001b[1;33m=\u001b[0m \u001b[0mself\u001b[0m\u001b[1;33m.\u001b[0m\u001b[0mdataset\u001b[0m\u001b[1;33m[\u001b[0m\u001b[0mpossibly_batched_index\u001b[0m\u001b[1;33m]\u001b[0m\u001b[1;33m\u001b[0m\u001b[1;33m\u001b[0m\u001b[0m\n",
      "\u001b[1;32m~\\anaconda3\\envs\\mlcourse\\lib\\site-packages\\torch\\utils\\data\\_utils\\fetch.py\u001b[0m in \u001b[0;36m<listcomp>\u001b[1;34m(.0)\u001b[0m\n\u001b[0;32m     47\u001b[0m     \u001b[1;32mdef\u001b[0m \u001b[0mfetch\u001b[0m\u001b[1;33m(\u001b[0m\u001b[0mself\u001b[0m\u001b[1;33m,\u001b[0m \u001b[0mpossibly_batched_index\u001b[0m\u001b[1;33m)\u001b[0m\u001b[1;33m:\u001b[0m\u001b[1;33m\u001b[0m\u001b[1;33m\u001b[0m\u001b[0m\n\u001b[0;32m     48\u001b[0m         \u001b[1;32mif\u001b[0m \u001b[0mself\u001b[0m\u001b[1;33m.\u001b[0m\u001b[0mauto_collation\u001b[0m\u001b[1;33m:\u001b[0m\u001b[1;33m\u001b[0m\u001b[1;33m\u001b[0m\u001b[0m\n\u001b[1;32m---> 49\u001b[1;33m             \u001b[0mdata\u001b[0m \u001b[1;33m=\u001b[0m \u001b[1;33m[\u001b[0m\u001b[0mself\u001b[0m\u001b[1;33m.\u001b[0m\u001b[0mdataset\u001b[0m\u001b[1;33m[\u001b[0m\u001b[0midx\u001b[0m\u001b[1;33m]\u001b[0m \u001b[1;32mfor\u001b[0m \u001b[0midx\u001b[0m \u001b[1;32min\u001b[0m \u001b[0mpossibly_batched_index\u001b[0m\u001b[1;33m]\u001b[0m\u001b[1;33m\u001b[0m\u001b[1;33m\u001b[0m\u001b[0m\n\u001b[0m\u001b[0;32m     50\u001b[0m         \u001b[1;32melse\u001b[0m\u001b[1;33m:\u001b[0m\u001b[1;33m\u001b[0m\u001b[1;33m\u001b[0m\u001b[0m\n\u001b[0;32m     51\u001b[0m             \u001b[0mdata\u001b[0m \u001b[1;33m=\u001b[0m \u001b[0mself\u001b[0m\u001b[1;33m.\u001b[0m\u001b[0mdataset\u001b[0m\u001b[1;33m[\u001b[0m\u001b[0mpossibly_batched_index\u001b[0m\u001b[1;33m]\u001b[0m\u001b[1;33m\u001b[0m\u001b[1;33m\u001b[0m\u001b[0m\n",
      "\u001b[1;32m<ipython-input-553-6781d4b2b807>\u001b[0m in \u001b[0;36m__getitem__\u001b[1;34m(self, index)\u001b[0m\n\u001b[0;32m     30\u001b[0m             \u001b[0mtokenized_source\u001b[0m \u001b[1;33m=\u001b[0m \u001b[0mself\u001b[0m\u001b[1;33m.\u001b[0m\u001b[0mtransform\u001b[0m\u001b[1;33m(\u001b[0m\u001b[0mtokenized_source\u001b[0m\u001b[1;33m)\u001b[0m\u001b[1;33m\u001b[0m\u001b[1;33m\u001b[0m\u001b[0m\n\u001b[0;32m     31\u001b[0m \u001b[1;33m\u001b[0m\u001b[0m\n\u001b[1;32m---> 32\u001b[1;33m         \u001b[1;32mreturn\u001b[0m \u001b[0mtorch\u001b[0m\u001b[1;33m.\u001b[0m\u001b[0mtensor\u001b[0m\u001b[1;33m(\u001b[0m\u001b[0mtokenized_source\u001b[0m\u001b[1;33m)\u001b[0m\u001b[1;33m,\u001b[0m \u001b[0mtorch\u001b[0m\u001b[1;33m.\u001b[0m\u001b[0mtensor\u001b[0m\u001b[1;33m(\u001b[0m\u001b[0mlabels_encoded\u001b[0m\u001b[1;33m[\u001b[0m\u001b[1;36m0\u001b[0m\u001b[1;33m]\u001b[0m\u001b[1;33m)\u001b[0m\u001b[1;33m\u001b[0m\u001b[1;33m\u001b[0m\u001b[0m\n\u001b[0m",
      "\u001b[1;31mKeyboardInterrupt\u001b[0m: "
     ]
    }
   ],
   "source": [
    "%%time\n",
    "warnings.filterwarnings('ignore')\n",
    "print('Initializing model...')\n",
    "model = first_model(classes = train_dataLoader.dataset.classes)\n",
    "opt = Adam(model.parameters(), lr = Train_CFG.INIT_LR)\n",
    "loss = nn.CrossEntropyLoss(label_smoothing = 0.2)\n",
    "acc = classification_metric\n",
    "H = {\n",
    "    'train_loss' : [],\n",
    "    'train_acc' : [],\n",
    "    'train_precision': [],\n",
    "    'train_recall' : [],\n",
    "    'val_loss' : [],\n",
    "    'val_acc' : [],\n",
    "    'val_precision': [],\n",
    "    'val_recall' : []\n",
    "}\n",
    "print('Training.....')\n",
    "startTime = time.time()\n",
    "\n",
    "for e in range(0, Train_CFG.EPOCHS):\n",
    "    train_loss, train_acc,  train_precision, train_recall, train_f1 = training(model = model, train_data = train_dataLoader, Loss = loss,metric = acc)\n",
    "    val_loss, val_acc,  val_precision, val_recall,  val_f1 = evaluation(model = model, val_data = valid_dataLoader, Loss = loss, metric = acc)\n",
    "    \n",
    "    print(f'Train Loss is {train_loss} and train accuray is : {train_acc}')\n",
    "    print(f'Train prec is {train_precision} and train recall is : {train_recall}')\n",
    "    print(f'Train F1 score is {train_f1} ')\n",
    "    print(f'Val Loss is {val_loss} and val accuray is : {val_acc}')\n",
    "    print(f'Val prec is {val_precision} and val recall is : {val_recall}')\n",
    "    print(f'Val F1 score is {val_f1} ')\n",
    "    \n",
    "    H['train_loss'].append(train_loss)\n",
    "    H['val_loss'].append(val_loss)\n",
    "    H['train_acc'].append(train_acc)\n",
    "    H['val_acc'].append(val_acc)\n",
    "    H['train_precision'].append(train_precision)\n",
    "    H['train_recall'].append(train_recall)\n",
    "    H['val_recall'].append(val_recall)\n",
    "    H['val_precision'].append(val_precision)\n",
    "    \n",
    "print(f'time :{time.time() - startTime:.3f}')"
   ]
  },
  {
   "cell_type": "code",
   "execution_count": 590,
   "id": "loved-cancellation",
   "metadata": {},
   "outputs": [],
   "source": [
    "def get_pred(model, val_data):\n",
    " \n",
    "    pred = None\n",
    "    model.eval()\n",
    "    labels = None\n",
    "    # we do this to turn off gradient tracking and computation\n",
    "    with torch.no_grad():\n",
    "        for (x,y) in val_data:\n",
    "            (x,y) = (x.to(device), y.to(device))\n",
    "\n",
    "            pred_ = model(x)\n",
    "            if(pred == None):\n",
    "                pred = pred_\n",
    "                label = y\n",
    "            else:\n",
    "                pred = torch.cat((pred,pred_),dim = 0)\n",
    "                label = torch.cat((label,y),dim = 0)\n",
    "            \n",
    "    return pred, label"
   ]
  },
  {
   "cell_type": "code",
   "execution_count": 591,
   "id": "active-whale",
   "metadata": {},
   "outputs": [],
   "source": [
    "preds_test, labels_test = get_pred(model = model,val_data = test_dataLoader)\n",
    "preds_val, labels_val = get_pred(model = model,val_data = valid_dataLoader)"
   ]
  },
  {
   "cell_type": "code",
   "execution_count": 592,
   "id": "encouraging-charm",
   "metadata": {},
   "outputs": [
    {
     "data": {
      "text/plain": [
       "(0.8188104052389276, 0.8111166417786627, 81.11166417786627, 0.8135694749977135)"
      ]
     },
     "execution_count": 592,
     "metadata": {},
     "output_type": "execute_result"
    }
   ],
   "source": [
    "precision, recall, accuracy,f1_score = classification_metric(labels_test,preds_test)\n",
    "precision, recall, accuracy,f1_score"
   ]
  },
  {
   "cell_type": "code",
   "execution_count": 593,
   "id": "dutch-species",
   "metadata": {},
   "outputs": [
    {
     "data": {
      "text/plain": [
       "(0.827318109316054, 0.8193433072951145, 81.93433072951144, 0.8215827228304012)"
      ]
     },
     "execution_count": 593,
     "metadata": {},
     "output_type": "execute_result"
    }
   ],
   "source": [
    "precision, recall, accuracy,f1_score = classification_metric(labels_val,preds_val)\n",
    "precision, recall, accuracy,f1_score"
   ]
  },
  {
   "cell_type": "code",
   "execution_count": null,
   "id": "equipped-exception",
   "metadata": {},
   "outputs": [],
   "source": []
  },
  {
   "cell_type": "markdown",
   "id": "attended-julian",
   "metadata": {},
   "source": [
    "## Ok now we move towards transformers\n",
    "![alternatvie text](https://d2l.ai/_images/transformer.svg)\n",
    "\n",
    "<br>\n",
    "<br>\n",
    "\n",
    "* Cool starters are found here : **https://towardsdatascience.com/how-to-code-the-transformer-in-pytorch-24db27c8f9ec**   <br>  **https://pytorch.org/tutorials/beginner/transformer_tutorial.html**\n",
    "<br>\n",
    "<br>\n",
    "* Dado que neste caso temos uma tarefa de classificação, vamos usar apenas a parte de encoding, visto que o Decoder faz mais entido para seq to seq models"
   ]
  },
  {
   "cell_type": "code",
   "execution_count": 636,
   "id": "atmospheric-december",
   "metadata": {},
   "outputs": [],
   "source": [
    "import torch.nn.functional as F\n",
    "from torch.nn import TransformerEncoder, TransformerEncoderLayer\n",
    "from torch.utils.data import dataset\n",
    "import math"
   ]
  },
  {
   "cell_type": "code",
   "execution_count": 637,
   "id": "worth-blake",
   "metadata": {},
   "outputs": [],
   "source": [
    "# d_model = size of embedding\n",
    "CFG.d_model = CFG.embedding_dim\n",
    "# max_seq_len = é igual à extensão máxima da frase\n",
    "CFG.max_seq_len = CFG.padding\n",
    "CFG.encoderlayers = 6\n",
    "nheads = 6\n",
    "if CFG.d_model % nheads == 0:\n",
    "    CFG.nheads = nheads\n",
    "else:\n",
    "    while(CFG.d_model % nheads != 0):\n",
    "        nheads += 1\n",
    "        if(nheads > CFG.d_model):\n",
    "            print('Start with a lower nheads or change the embed dim')\n",
    "            break\n",
    "    CFG.nheads = nheads"
   ]
  },
  {
   "cell_type": "code",
   "execution_count": 658,
   "id": "activated-physics",
   "metadata": {},
   "outputs": [],
   "source": [
    "class PositionalEncoding(nn.Module):\n",
    "    \n",
    "    def __init__(self, d_model = CFG.d_model, dropout = 0.1, max_len = CFG.max_seq_len):\n",
    "        super().__init__()\n",
    "        self.dropout = nn.Dropout(p=dropout)\n",
    "\n",
    "        position = torch.arange(max_len).unsqueeze(1)\n",
    "        # eles metem o termo d DIVISÃO JÁ EM ARRAY\n",
    "        # arrange vai popular até ao limite com um incremento de 1, excepto se meteres 2 como é o caso em \n",
    "        #baixo\n",
    "        div_term = torch.exp(torch.arange(0, d_model, 2) * (-math.log(10000.0) / d_model))\n",
    "        # crias a matrix\n",
    "        pe = torch.zeros(max_len, 1, d_model)\n",
    "        # populas a matriz\n",
    "        pe[:, 0, 0::2] = torch.sin(position * div_term)\n",
    "        pe[:, 0, 1::2] = torch.cos(position * div_term)\n",
    "        self.register_buffer('pe', pe)\n",
    "        self.d_model = d_model\n",
    "    def forward(self, x):\n",
    "        \"\"\"\n",
    "        Args:\n",
    "            x: Tensor, shape [seq_len, batch_size, embedding_dim]\n",
    "        \"\"\"\n",
    "        # Estás a adicionar o PE ao tensor inicial que tem os embeddings\n",
    "        # Estás a multiplicar os embeedings para lhes dar mais peso2\n",
    "        x = x* math.sqrt(self.d_model) + self.pe[:x.size(0)]\n",
    "        return self.dropout(x)"
   ]
  },
  {
   "cell_type": "code",
   "execution_count": 661,
   "id": "lonely-nothing",
   "metadata": {},
   "outputs": [],
   "source": [
    "class robots_in_disguise(Module):\n",
    "    \n",
    "    def __init__(self, num_channels = CFG.embedding_dim,\n",
    "                  nhead = CFG.nheads,\n",
    "                  classes = 5,\n",
    "                  d_model = CFG.d_model,\n",
    "                  dropout = 0.1,\n",
    "                  dim_FF = 32,\n",
    "                  max_len = CFG.max_seq_len,\n",
    "                  nlayers = CFG.encoderlayers,\n",
    "                  kernel_size = 10):\n",
    "        \n",
    "        super(robots_in_disguise,self).__init__()\n",
    "        \n",
    "        assert d_model % nhead == 0, \"Number of heads must divide evenly with d_model\" \n",
    "        \n",
    "        self.d_model = d_model\n",
    "        self.embed = Embedding(CFG.VOCAB_SIZE, CFG.embedding_dim)\n",
    "        self.pos_encoder =  PositionalEncoding()\n",
    "        \n",
    "        encoder_layer =  TransformerEncoderLayer(d_model, nhead, dim_FF, dropout)\n",
    "        # Remeber that we have n layers o encoding \n",
    "        self.transformer_encoder = TransformerEncoder(encoder_layer, nlayers)\n",
    "        self.flat = nn.Flatten(start_dim=1)\n",
    "        self.Activation = ReLU()\n",
    "        self.Dense = Linear(in_features = d_model, out_features = classes)\n",
    "        self.logSoftmax = LogSoftmax(dim = 1)\n",
    "        self.layer_norm = nn.LayerNorm(d_model)\n",
    "        self.dropout = nn.Dropout(p=dropout)\n",
    "        \n",
    "    def forward(self, x):\n",
    "        # In Transformer the input are supposed to be : batch, sentence_length, embedding_dim\n",
    "        x = self.embed(x)\n",
    "        x = self.pos_encoder(x)\n",
    "        x = self.transformer_encoder(x)\n",
    "        # In BERT After the Encoder they have a layer norm\n",
    "        # Followed by a mean over the 1st axis\n",
    "        # It's like this after the encoder block, so we add\n",
    "        # something after the encoder block in the figure\n",
    "        #print(x[0][0])\n",
    "        x = self.layer_norm(x)\n",
    "        #print(x[0][0])\n",
    "        x = x.mean(dim = 1)\n",
    "        #print(x.shape)\n",
    "        x = self.Activation(x)\n",
    "        x = self.Dense(x)\n",
    "        x = self.dropout(x)\n",
    "        output = self.logSoftmax(x)\n",
    "        \n",
    "        \n",
    "        return output"
   ]
  },
  {
   "cell_type": "code",
   "execution_count": 662,
   "id": "competent-massage",
   "metadata": {},
   "outputs": [
    {
     "name": "stdout",
     "output_type": "stream",
     "text": [
      "Initializing model...\n",
      "Training.....\n",
      "Epoch done\n",
      "Train Loss is 1.2211954312201734 and train accuray is : 0.6121490136840234\n",
      "Train prec is 0.7032843164359229 and train recall is : 0.6121490136840234\n",
      "Train F1 score is 0.6313558553084391 \n",
      "Val Loss is 1.080851787293374 and val accuray is : 0.7233796296296297\n",
      "Val prec is 0.7922208147647201 and val recall is : 0.7233796296296297\n",
      "Val F1 score is 0.7408755128942259 \n",
      "Epoch done\n",
      "Train Loss is 1.1116535257756968 and train accuray is : 0.7035665096854452\n",
      "Train prec is 0.7517787928607732 and train recall is : 0.7035665096854452\n",
      "Train F1 score is 0.7095280509603226 \n",
      "Val Loss is 1.0313117533729903 and val accuray is : 0.7613095238095238\n",
      "Val prec is 0.8027041605947076 and val recall is : 0.7613095238095238\n",
      "Val F1 score is 0.7679151196156153 \n",
      "Epoch done\n",
      "Train Loss is 1.0781758606948815 and train accuray is : 0.7293295717078372\n",
      "Train prec is 0.7710091394951598 and train recall is : 0.7293295717078372\n",
      "Train F1 score is 0.7333811179896909 \n",
      "Val Loss is 1.0041795562056122 and val accuray is : 0.7780423280423281\n",
      "Val prec is 0.8138931137549846 and val recall is : 0.7780423280423281\n",
      "Val F1 score is 0.7820256584218724 \n",
      "Wall time: 4h 25min 49s\n"
     ]
    }
   ],
   "source": [
    "%%time\n",
    "warnings.filterwarnings('ignore')\n",
    "print('Initializing model...')\n",
    "Transformers = robots_in_disguise(classes = train_dataLoader.dataset.classes)\n",
    "opt = Adam(Transformers.parameters(), lr = Train_CFG.INIT_LR)\n",
    "loss = nn.CrossEntropyLoss(label_smoothing = 0.2)\n",
    "acc = classification_metric\n",
    "Optimus = {\n",
    "    'train_loss' : [],\n",
    "    'train_acc' : [],\n",
    "    'train_precision': [],\n",
    "    'train_recall' : [],\n",
    "    'val_loss' : [],\n",
    "    'val_acc' : [],\n",
    "    'val_precision': [],\n",
    "    'val_recall' : []\n",
    "}\n",
    "print('Training.....')\n",
    "startTime = time.time()\n",
    "\n",
    "for e in range(0, Train_CFG.EPOCHS):\n",
    "    train_loss, train_acc,  train_precision, train_recall, train_f1 = training(model = Transformers, train_data = train_dataLoader, Loss = loss,metric = acc)\n",
    "    val_loss, val_acc,  val_precision, val_recall,  val_f1 = evaluation(model = Transformers, val_data = valid_dataLoader, Loss = loss, metric = acc)\n",
    "    \n",
    "    print(f'Train Loss is {train_loss} and train accuray is : {train_acc}')\n",
    "    print(f'Train prec is {train_precision} and train recall is : {train_recall}')\n",
    "    print(f'Train F1 score is {train_f1} ')\n",
    "    print(f'Val Loss is {val_loss} and val accuray is : {val_acc}')\n",
    "    print(f'Val prec is {val_precision} and val recall is : {val_recall}')\n",
    "    print(f'Val F1 score is {val_f1} ')\n",
    "    \n",
    "    Optimus['train_loss'].append(train_loss)\n",
    "    Optimus['val_loss'].append(val_loss)\n",
    "    Optimus['train_acc'].append(train_acc)\n",
    "    Optimus['val_acc'].append(val_acc)\n",
    "    Optimus['train_precision'].append(train_precision)\n",
    "    Optimus['train_recall'].append(train_recall)\n",
    "    Optimus['val_recall'].append(val_recall)\n",
    "    Optimus['val_precision'].append(val_precision)\n",
    "    "
   ]
  },
  {
   "cell_type": "code",
   "execution_count": null,
   "id": "checked-settle",
   "metadata": {},
   "outputs": [],
   "source": []
  }
 ],
 "metadata": {
  "kernelspec": {
   "display_name": "Python 3",
   "language": "python",
   "name": "python3"
  },
  "language_info": {
   "codemirror_mode": {
    "name": "ipython",
    "version": 3
   },
   "file_extension": ".py",
   "mimetype": "text/x-python",
   "name": "python",
   "nbconvert_exporter": "python",
   "pygments_lexer": "ipython3",
   "version": "3.7.7 (tags/v3.7.7:d7c567b08f, Mar 10 2020, 10:41:24) [MSC v.1900 64 bit (AMD64)]"
  },
  "vscode": {
   "interpreter": {
    "hash": "b86a407ba91c7e5f5570b5ac79cd4d969a0f76d35cec34d751a31a6952055a49"
   }
  }
 },
 "nbformat": 4,
 "nbformat_minor": 5
}
